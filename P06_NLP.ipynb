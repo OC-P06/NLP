{
  "cells": [
    {
      "cell_type": "markdown",
      "metadata": {
        "id": "N8WXEyc07AMc"
      },
      "source": [
        "[![Open In Colab](https://colab.research.google.com/assets/colab-badge.svg)](https://github.com/OC-P06/NLP/blob/main/P06_NLP.ipynb)\n"
      ]
    },
    {
      "cell_type": "markdown",
      "metadata": {
        "tags": [],
        "id": "8kIi5iqt7AMf"
      },
      "source": [
        "# P06 - Avis Restau - Détecter les \"bad buzz\" laissés dans les commentaires concernant un restaurant"
      ]
    },
    {
      "cell_type": "markdown",
      "metadata": {
        "id": "qCm4GxES7AMg"
      },
      "source": [
        "# 0. Import des librairies"
      ]
    },
    {
      "cell_type": "code",
      "execution_count": 46,
      "metadata": {
        "id": "WuERQV37fwyf"
      },
      "outputs": [],
      "source": [
        "import pandas as pd\n",
        "import numpy as np\n",
        "pd.set_option('display.max_colwidth', 200)\n",
        "import warnings\n",
        "warnings.filterwarnings('ignore')"
      ]
    },
    {
      "cell_type": "code",
      "execution_count": 47,
      "metadata": {
        "id": "IiGoWiBSbuA0"
      },
      "outputs": [],
      "source": [
        "import json\n",
        "import tarfile\n",
        "import pickle"
      ]
    },
    {
      "cell_type": "code",
      "execution_count": null,
      "metadata": {
        "id": "jnmOxWcM7AMh"
      },
      "outputs": [],
      "source": [
        "# Librairies à installer si besoin\n",
        "\n",
        "\n",
        "!pip install -U nltk\n",
        "!pip install -U spacy\n",
        "!pip install -U gensim"
      ]
    },
    {
      "cell_type": "code",
      "execution_count": 49,
      "metadata": {
        "id": "k2XmcxQI7AMi"
      },
      "outputs": [],
      "source": [
        "# NLP\n",
        "import re\n",
        "import nltk\n",
        "#nltk.download()\n",
        "import spacy\n",
        "import gensim\n",
        "import pprint"
      ]
    },
    {
      "cell_type": "markdown",
      "metadata": {
        "id": "AXNkRPXK7AMi"
      },
      "source": [
        "# 1. Analyse et traitements des fichiers"
      ]
    },
    {
      "cell_type": "code",
      "execution_count": 50,
      "metadata": {
        "id": "e8py7OR77AMj"
      },
      "outputs": [],
      "source": [
        "#import os\n",
        "#path = ~/file\n",
        "#path"
      ]
    },
    {
      "cell_type": "code",
      "execution_count": 51,
      "metadata": {
        "id": "8C20YSF87AMj"
      },
      "outputs": [],
      "source": [
        "#my_tar = tarfile.open('yelp_dataset.tar'\n",
        "#my_tar.extractall()\n",
        "#my_tar.close()"
      ]
    },
    {
      "cell_type": "markdown",
      "metadata": {
        "id": "ACrqwLzl7AMj"
      },
      "source": [
        "Après cette étape de décompression, nous nous retrouvons avec 5 fichiers:"
      ]
    },
    {
      "cell_type": "code",
      "source": [
        "# Mount data from drive\n",
        "from google.colab import drive\n",
        "drive.mount('/content/drive')"
      ],
      "metadata": {
        "colab": {
          "base_uri": "https://localhost:8080/"
        },
        "id": "fxbUJEl_7uM4",
        "outputId": "2cb76a8f-5116-4dd5-8069-50ef0a4e24ff"
      },
      "execution_count": 52,
      "outputs": [
        {
          "output_type": "stream",
          "name": "stdout",
          "text": [
            "Drive already mounted at /content/drive; to attempt to forcibly remount, call drive.mount(\"/content/drive\", force_remount=True).\n"
          ]
        }
      ]
    },
    {
      "cell_type": "markdown",
      "source": [
        "## ATTENTION:  \n",
        "D'après ce que j'ai pu/cru comprendre, **il faut d'abord créer un raccourci vers \"My Drive\"** à partir du dossier partagé \"Shared Colab Notebooks\" pour que la cellule suivante fonctionne"
      ],
      "metadata": {
        "id": "ob1S7MK8HLRd"
      }
    },
    {
      "cell_type": "code",
      "source": [
        "%cd /content/drive/MyDrive/Shared_Colab_Notebooks/P06_NLP"
      ],
      "metadata": {
        "colab": {
          "base_uri": "https://localhost:8080/"
        },
        "id": "Gh4ZWDAKGWRT",
        "outputId": "9906e06c-1310-4ca3-aa03-856269835fb7"
      },
      "execution_count": 53,
      "outputs": [
        {
          "output_type": "stream",
          "name": "stdout",
          "text": [
            "/content/drive/MyDrive/Shared_Colab_Notebooks/P06_NLP\n"
          ]
        }
      ]
    },
    {
      "cell_type": "code",
      "execution_count": 54,
      "metadata": {
        "id": "BhgvsJZF66zN"
      },
      "outputs": [],
      "source": [
        "file_business = 'yelp_academic_dataset_business.json'\n",
        "file_checking = 'yelp_academic_dataset_checkin.json'\n",
        "file_review = 'yelp_academic_dataset_review.json'\n",
        "file_tip = 'yelp_academic_dataset_tip.json'\n",
        "file_user = 'yelp_academic_dataset_user.json'"
      ]
    },
    {
      "cell_type": "markdown",
      "metadata": {
        "id": "-QscLEB_7AMk"
      },
      "source": [
        "Je commence par regarder la nature de chaque fichier (les différentes variables) pour voir quelles seront les informations à conserver dans le cadre de mon travail, à savoir de détecter les \"bad buzz\" concernant chaque restaurant.  \n",
        "Cela passera par deux aspects:  \n",
        "    - identifier les établissements qui sont bel et bien des restaurants.  \n",
        "    - trier les bons et mauvais avis en fonction de chaque note. Cette dernière allant de 1 à 5, je me limiterai aux avis ayant une note égale à 1 ou 2  \n",
        "Une fois cela fait, alors je pourrai me pencher plus en détail sur les commentiares en question"
      ]
    },
    {
      "cell_type": "markdown",
      "metadata": {
        "id": "BHsGfDXf7AMk"
      },
      "source": [
        "Déjà, j'en regarde la longueur. En effet, sachant que l'ensemble des 5 fichiers prend plus de 10 Go en mémoire, il est plus que probable qu'il faudra ne garder qu'une portion de chaque fichier"
      ]
    },
    {
      "cell_type": "code",
      "execution_count": 55,
      "metadata": {
        "id": "fSA0rMMz7AMl"
      },
      "outputs": [],
      "source": [
        "def count_line_file(file):\n",
        "    line_count = 0\n",
        "    with open(file, 'r') as f:\n",
        "        while f.readline():\n",
        "            line_count+=1\n",
        "    return line_count"
      ]
    },
    {
      "cell_type": "code",
      "execution_count": 56,
      "metadata": {
        "colab": {
          "base_uri": "https://localhost:8080/"
        },
        "id": "xDwNqT1B7AMl",
        "outputId": "806c4a08-d208-42d5-d2af-7bd99b030447"
      },
      "outputs": [
        {
          "output_type": "execute_result",
          "data": {
            "text/plain": [
              "160585"
            ]
          },
          "metadata": {},
          "execution_count": 56
        }
      ],
      "source": [
        "count_line_file(file_business)"
      ]
    },
    {
      "cell_type": "code",
      "execution_count": 57,
      "metadata": {
        "colab": {
          "base_uri": "https://localhost:8080/"
        },
        "id": "gv7O0Mm17AMl",
        "outputId": "3e3ca486-16a4-49d1-f9dc-ec4d42bebcba"
      },
      "outputs": [
        {
          "output_type": "stream",
          "name": "stdout",
          "text": [
            "le fichier business possède 160585 lignes\n",
            "le fichier checking possède 138876 lignes\n",
            "le fichier review possède 8635403 lignes\n",
            "le fichier tip possède 1162119 lignes\n",
            "le fichier user possède 2189457 lignes\n"
          ]
        }
      ],
      "source": [
        "print('le fichier business possède',count_line_file(file_business), 'lignes')\n",
        "print('le fichier checking possède',count_line_file(file_checking), 'lignes')\n",
        "print('le fichier review possède',count_line_file(file_review), 'lignes')\n",
        "print('le fichier tip possède',count_line_file(file_tip), 'lignes')\n",
        "print('le fichier user possède',count_line_file(file_user), 'lignes')"
      ]
    },
    {
      "cell_type": "markdown",
      "metadata": {
        "id": "Q2wLHT347AMl"
      },
      "source": [
        "On voit qu'il y a 3 fichiers très volumineux (review, tip et user) qui, chacun, possède plus d'1 million de lignes; Nous n'allons garder que 500 000 lignes maximum de chacun"
      ]
    },
    {
      "cell_type": "code",
      "source": [
        "### Je définis une fonction qui me permettra d'obtenir les n premières lignes d'un fichier et de les convertir dans un dataframe:\n",
        "### cela me permettra de voir les informations importantes de chaque fichier (les variables) pour savoir lesquelles utiliser par la suite\n",
        "\n",
        "def first_n_lines_of_file_to_df(file, n):\n",
        "    liste=[]\n",
        "    df = pd.DataFrame()\n",
        "    with open(file, 'r') as f1:\n",
        "        f2 = open('new_file.txt', 'a')\n",
        "        for i in range(n):\n",
        "            line = f1.readline()\n",
        "            f2.write(line)\n",
        "            dico =json.loads(line)\n",
        "            liste.append(dico)\n",
        "        f2.close()\n",
        "        f = 'new_file.txt'\n",
        "        df = pd.DataFrame(liste)\n",
        "    return df"
      ],
      "metadata": {
        "id": "YwaTZqndL1CG"
      },
      "execution_count": 58,
      "outputs": []
    },
    {
      "cell_type": "code",
      "source": [
        "df_file_business_5_lines = first_n_lines_of_file_to_df(file_business, 5)\n",
        "df_file_business_5_lines"
      ],
      "metadata": {
        "colab": {
          "base_uri": "https://localhost:8080/",
          "height": 1000
        },
        "id": "gV2m-HzqMpZx",
        "outputId": "1ce08483-a8ba-4450-d2d4-dabafdf4f1a8"
      },
      "execution_count": 59,
      "outputs": [
        {
          "output_type": "execute_result",
          "data": {
            "text/plain": [
              "              business_id                     name              address  \\\n",
              "0  6iYb2HFDywm3zjuRg0shjw      Oskar Blues Taproom         921 Pearl St   \n",
              "1  tCbdrRPZA0oiIYSmHG3J0w  Flying Elephants at PDX  7000 NE Airport Way   \n",
              "2  bvN78flM8NLprQ1a1y5dRg           The Reclaimory   4720 Hawthorne Ave   \n",
              "3  oaepsyvc0J17qwi8cfrOWg              Great Clips   2566 Enterprise Rd   \n",
              "4  PE9uqAjdw0E4-8mjGl3wVA        Crossfit Terminus  1046 Memorial Dr SE   \n",
              "\n",
              "          city state postal_code   latitude   longitude  stars  review_count  \\\n",
              "0      Boulder    CO       80302  40.017544 -105.283348    4.0            86   \n",
              "1     Portland    OR       97218  45.588906 -122.593331    4.0           126   \n",
              "2     Portland    OR       97214  45.511907 -122.613693    4.5            13   \n",
              "3  Orange City    FL       32763  28.914482  -81.295979    3.0             8   \n",
              "4      Atlanta    GA       30316  33.747027  -84.353424    4.0            14   \n",
              "\n",
              "   is_open  \\\n",
              "0        1   \n",
              "1        1   \n",
              "2        1   \n",
              "3        1   \n",
              "4        1   \n",
              "\n",
              "                                                                                                                                                                                                attributes  \\\n",
              "0  {'RestaurantsTableService': 'True', 'WiFi': 'u'free'', 'BikeParking': 'True', 'BusinessParking': '{'garage': False, 'street': True, 'validated': False, 'lot': False, 'valet': False}', 'BusinessAcc...   \n",
              "1  {'RestaurantsTakeOut': 'True', 'RestaurantsAttire': 'u'casual'', 'GoodForKids': 'True', 'BikeParking': 'False', 'OutdoorSeating': 'False', 'Ambience': '{'romantic': False, 'intimate': False, 'tour...   \n",
              "2  {'BusinessAcceptsCreditCards': 'True', 'RestaurantsPriceRange2': '2', 'ByAppointmentOnly': 'False', 'BikeParking': 'False', 'BusinessParking': '{'garage': False, 'street': True, 'validated': False...   \n",
              "3                                                                               {'RestaurantsPriceRange2': '1', 'BusinessAcceptsCreditCards': 'True', 'GoodForKids': 'True', 'ByAppointmentOnly': 'False'}   \n",
              "4                                {'GoodForKids': 'False', 'BusinessParking': '{'garage': False, 'street': False, 'validated': False, 'lot': False, 'valet': False}', 'BusinessAcceptsCreditCards': 'True'}   \n",
              "\n",
              "                                                                                                  categories  \\\n",
              "0  Gastropubs, Food, Beer Gardens, Restaurants, Bars, American (Traditional), Beer Bar, Nightlife, Breweries   \n",
              "1                                             Salad, Soup, Sandwiches, Delis, Restaurants, Cafes, Vegetarian   \n",
              "2                  Antiques, Fashion, Used, Vintage & Consignment, Shopping, Furniture Stores, Home & Garden   \n",
              "3                                                                                 Beauty & Spas, Hair Salons   \n",
              "4                                           Gyms, Active Life, Interval Training Gyms, Fitness & Instruction   \n",
              "\n",
              "                                                                                                                                                                       hours  \n",
              "0  {'Monday': '11:0-23:0', 'Tuesday': '11:0-23:0', 'Wednesday': '11:0-23:0', 'Thursday': '11:0-23:0', 'Friday': '11:0-23:0', 'Saturday': '11:0-23:0', 'Sunday': '11:0-23:0'}  \n",
              "1         {'Monday': '5:0-18:0', 'Tuesday': '5:0-17:0', 'Wednesday': '5:0-18:0', 'Thursday': '5:0-18:0', 'Friday': '5:0-18:0', 'Saturday': '5:0-18:0', 'Sunday': '5:0-18:0'}  \n",
              "2                                                                           {'Thursday': '11:0-18:0', 'Friday': '11:0-18:0', 'Saturday': '11:0-18:0', 'Sunday': '11:0-18:0'}  \n",
              "3                                                                                                                                                                       None  \n",
              "4                          {'Monday': '16:0-19:0', 'Tuesday': '16:0-19:0', 'Wednesday': '16:0-19:0', 'Thursday': '16:0-19:0', 'Friday': '16:0-19:0', 'Saturday': '9:0-11:0'}  "
            ],
            "text/html": [
              "\n",
              "  <div id=\"df-f06baa7b-5e6e-452b-8453-597c38920a91\">\n",
              "    <div class=\"colab-df-container\">\n",
              "      <div>\n",
              "<style scoped>\n",
              "    .dataframe tbody tr th:only-of-type {\n",
              "        vertical-align: middle;\n",
              "    }\n",
              "\n",
              "    .dataframe tbody tr th {\n",
              "        vertical-align: top;\n",
              "    }\n",
              "\n",
              "    .dataframe thead th {\n",
              "        text-align: right;\n",
              "    }\n",
              "</style>\n",
              "<table border=\"1\" class=\"dataframe\">\n",
              "  <thead>\n",
              "    <tr style=\"text-align: right;\">\n",
              "      <th></th>\n",
              "      <th>business_id</th>\n",
              "      <th>name</th>\n",
              "      <th>address</th>\n",
              "      <th>city</th>\n",
              "      <th>state</th>\n",
              "      <th>postal_code</th>\n",
              "      <th>latitude</th>\n",
              "      <th>longitude</th>\n",
              "      <th>stars</th>\n",
              "      <th>review_count</th>\n",
              "      <th>is_open</th>\n",
              "      <th>attributes</th>\n",
              "      <th>categories</th>\n",
              "      <th>hours</th>\n",
              "    </tr>\n",
              "  </thead>\n",
              "  <tbody>\n",
              "    <tr>\n",
              "      <th>0</th>\n",
              "      <td>6iYb2HFDywm3zjuRg0shjw</td>\n",
              "      <td>Oskar Blues Taproom</td>\n",
              "      <td>921 Pearl St</td>\n",
              "      <td>Boulder</td>\n",
              "      <td>CO</td>\n",
              "      <td>80302</td>\n",
              "      <td>40.017544</td>\n",
              "      <td>-105.283348</td>\n",
              "      <td>4.0</td>\n",
              "      <td>86</td>\n",
              "      <td>1</td>\n",
              "      <td>{'RestaurantsTableService': 'True', 'WiFi': 'u'free'', 'BikeParking': 'True', 'BusinessParking': '{'garage': False, 'street': True, 'validated': False, 'lot': False, 'valet': False}', 'BusinessAcc...</td>\n",
              "      <td>Gastropubs, Food, Beer Gardens, Restaurants, Bars, American (Traditional), Beer Bar, Nightlife, Breweries</td>\n",
              "      <td>{'Monday': '11:0-23:0', 'Tuesday': '11:0-23:0', 'Wednesday': '11:0-23:0', 'Thursday': '11:0-23:0', 'Friday': '11:0-23:0', 'Saturday': '11:0-23:0', 'Sunday': '11:0-23:0'}</td>\n",
              "    </tr>\n",
              "    <tr>\n",
              "      <th>1</th>\n",
              "      <td>tCbdrRPZA0oiIYSmHG3J0w</td>\n",
              "      <td>Flying Elephants at PDX</td>\n",
              "      <td>7000 NE Airport Way</td>\n",
              "      <td>Portland</td>\n",
              "      <td>OR</td>\n",
              "      <td>97218</td>\n",
              "      <td>45.588906</td>\n",
              "      <td>-122.593331</td>\n",
              "      <td>4.0</td>\n",
              "      <td>126</td>\n",
              "      <td>1</td>\n",
              "      <td>{'RestaurantsTakeOut': 'True', 'RestaurantsAttire': 'u'casual'', 'GoodForKids': 'True', 'BikeParking': 'False', 'OutdoorSeating': 'False', 'Ambience': '{'romantic': False, 'intimate': False, 'tour...</td>\n",
              "      <td>Salad, Soup, Sandwiches, Delis, Restaurants, Cafes, Vegetarian</td>\n",
              "      <td>{'Monday': '5:0-18:0', 'Tuesday': '5:0-17:0', 'Wednesday': '5:0-18:0', 'Thursday': '5:0-18:0', 'Friday': '5:0-18:0', 'Saturday': '5:0-18:0', 'Sunday': '5:0-18:0'}</td>\n",
              "    </tr>\n",
              "    <tr>\n",
              "      <th>2</th>\n",
              "      <td>bvN78flM8NLprQ1a1y5dRg</td>\n",
              "      <td>The Reclaimory</td>\n",
              "      <td>4720 Hawthorne Ave</td>\n",
              "      <td>Portland</td>\n",
              "      <td>OR</td>\n",
              "      <td>97214</td>\n",
              "      <td>45.511907</td>\n",
              "      <td>-122.613693</td>\n",
              "      <td>4.5</td>\n",
              "      <td>13</td>\n",
              "      <td>1</td>\n",
              "      <td>{'BusinessAcceptsCreditCards': 'True', 'RestaurantsPriceRange2': '2', 'ByAppointmentOnly': 'False', 'BikeParking': 'False', 'BusinessParking': '{'garage': False, 'street': True, 'validated': False...</td>\n",
              "      <td>Antiques, Fashion, Used, Vintage &amp; Consignment, Shopping, Furniture Stores, Home &amp; Garden</td>\n",
              "      <td>{'Thursday': '11:0-18:0', 'Friday': '11:0-18:0', 'Saturday': '11:0-18:0', 'Sunday': '11:0-18:0'}</td>\n",
              "    </tr>\n",
              "    <tr>\n",
              "      <th>3</th>\n",
              "      <td>oaepsyvc0J17qwi8cfrOWg</td>\n",
              "      <td>Great Clips</td>\n",
              "      <td>2566 Enterprise Rd</td>\n",
              "      <td>Orange City</td>\n",
              "      <td>FL</td>\n",
              "      <td>32763</td>\n",
              "      <td>28.914482</td>\n",
              "      <td>-81.295979</td>\n",
              "      <td>3.0</td>\n",
              "      <td>8</td>\n",
              "      <td>1</td>\n",
              "      <td>{'RestaurantsPriceRange2': '1', 'BusinessAcceptsCreditCards': 'True', 'GoodForKids': 'True', 'ByAppointmentOnly': 'False'}</td>\n",
              "      <td>Beauty &amp; Spas, Hair Salons</td>\n",
              "      <td>None</td>\n",
              "    </tr>\n",
              "    <tr>\n",
              "      <th>4</th>\n",
              "      <td>PE9uqAjdw0E4-8mjGl3wVA</td>\n",
              "      <td>Crossfit Terminus</td>\n",
              "      <td>1046 Memorial Dr SE</td>\n",
              "      <td>Atlanta</td>\n",
              "      <td>GA</td>\n",
              "      <td>30316</td>\n",
              "      <td>33.747027</td>\n",
              "      <td>-84.353424</td>\n",
              "      <td>4.0</td>\n",
              "      <td>14</td>\n",
              "      <td>1</td>\n",
              "      <td>{'GoodForKids': 'False', 'BusinessParking': '{'garage': False, 'street': False, 'validated': False, 'lot': False, 'valet': False}', 'BusinessAcceptsCreditCards': 'True'}</td>\n",
              "      <td>Gyms, Active Life, Interval Training Gyms, Fitness &amp; Instruction</td>\n",
              "      <td>{'Monday': '16:0-19:0', 'Tuesday': '16:0-19:0', 'Wednesday': '16:0-19:0', 'Thursday': '16:0-19:0', 'Friday': '16:0-19:0', 'Saturday': '9:0-11:0'}</td>\n",
              "    </tr>\n",
              "  </tbody>\n",
              "</table>\n",
              "</div>\n",
              "      <button class=\"colab-df-convert\" onclick=\"convertToInteractive('df-f06baa7b-5e6e-452b-8453-597c38920a91')\"\n",
              "              title=\"Convert this dataframe to an interactive table.\"\n",
              "              style=\"display:none;\">\n",
              "        \n",
              "  <svg xmlns=\"http://www.w3.org/2000/svg\" height=\"24px\"viewBox=\"0 0 24 24\"\n",
              "       width=\"24px\">\n",
              "    <path d=\"M0 0h24v24H0V0z\" fill=\"none\"/>\n",
              "    <path d=\"M18.56 5.44l.94 2.06.94-2.06 2.06-.94-2.06-.94-.94-2.06-.94 2.06-2.06.94zm-11 1L8.5 8.5l.94-2.06 2.06-.94-2.06-.94L8.5 2.5l-.94 2.06-2.06.94zm10 10l.94 2.06.94-2.06 2.06-.94-2.06-.94-.94-2.06-.94 2.06-2.06.94z\"/><path d=\"M17.41 7.96l-1.37-1.37c-.4-.4-.92-.59-1.43-.59-.52 0-1.04.2-1.43.59L10.3 9.45l-7.72 7.72c-.78.78-.78 2.05 0 2.83L4 21.41c.39.39.9.59 1.41.59.51 0 1.02-.2 1.41-.59l7.78-7.78 2.81-2.81c.8-.78.8-2.07 0-2.86zM5.41 20L4 18.59l7.72-7.72 1.47 1.35L5.41 20z\"/>\n",
              "  </svg>\n",
              "      </button>\n",
              "      \n",
              "  <style>\n",
              "    .colab-df-container {\n",
              "      display:flex;\n",
              "      flex-wrap:wrap;\n",
              "      gap: 12px;\n",
              "    }\n",
              "\n",
              "    .colab-df-convert {\n",
              "      background-color: #E8F0FE;\n",
              "      border: none;\n",
              "      border-radius: 50%;\n",
              "      cursor: pointer;\n",
              "      display: none;\n",
              "      fill: #1967D2;\n",
              "      height: 32px;\n",
              "      padding: 0 0 0 0;\n",
              "      width: 32px;\n",
              "    }\n",
              "\n",
              "    .colab-df-convert:hover {\n",
              "      background-color: #E2EBFA;\n",
              "      box-shadow: 0px 1px 2px rgba(60, 64, 67, 0.3), 0px 1px 3px 1px rgba(60, 64, 67, 0.15);\n",
              "      fill: #174EA6;\n",
              "    }\n",
              "\n",
              "    [theme=dark] .colab-df-convert {\n",
              "      background-color: #3B4455;\n",
              "      fill: #D2E3FC;\n",
              "    }\n",
              "\n",
              "    [theme=dark] .colab-df-convert:hover {\n",
              "      background-color: #434B5C;\n",
              "      box-shadow: 0px 1px 3px 1px rgba(0, 0, 0, 0.15);\n",
              "      filter: drop-shadow(0px 1px 2px rgba(0, 0, 0, 0.3));\n",
              "      fill: #FFFFFF;\n",
              "    }\n",
              "  </style>\n",
              "\n",
              "      <script>\n",
              "        const buttonEl =\n",
              "          document.querySelector('#df-f06baa7b-5e6e-452b-8453-597c38920a91 button.colab-df-convert');\n",
              "        buttonEl.style.display =\n",
              "          google.colab.kernel.accessAllowed ? 'block' : 'none';\n",
              "\n",
              "        async function convertToInteractive(key) {\n",
              "          const element = document.querySelector('#df-f06baa7b-5e6e-452b-8453-597c38920a91');\n",
              "          const dataTable =\n",
              "            await google.colab.kernel.invokeFunction('convertToInteractive',\n",
              "                                                     [key], {});\n",
              "          if (!dataTable) return;\n",
              "\n",
              "          const docLinkHtml = 'Like what you see? Visit the ' +\n",
              "            '<a target=\"_blank\" href=https://colab.research.google.com/notebooks/data_table.ipynb>data table notebook</a>'\n",
              "            + ' to learn more about interactive tables.';\n",
              "          element.innerHTML = '';\n",
              "          dataTable['output_type'] = 'display_data';\n",
              "          await google.colab.output.renderOutput(dataTable, element);\n",
              "          const docLink = document.createElement('div');\n",
              "          docLink.innerHTML = docLinkHtml;\n",
              "          element.appendChild(docLink);\n",
              "        }\n",
              "      </script>\n",
              "    </div>\n",
              "  </div>\n",
              "  "
            ]
          },
          "metadata": {},
          "execution_count": 59
        }
      ]
    },
    {
      "cell_type": "code",
      "source": [
        "df_file_checking_5_lines = first_n_lines_of_file_to_df(file_checking, 5)\n",
        "df_file_checking_5_lines"
      ],
      "metadata": {
        "colab": {
          "base_uri": "https://localhost:8080/",
          "height": 302
        },
        "id": "ClyxqrTbMqKk",
        "outputId": "75841ea6-95da-4045-da69-542d69d90292"
      },
      "execution_count": 60,
      "outputs": [
        {
          "output_type": "execute_result",
          "data": {
            "text/plain": [
              "              business_id  \\\n",
              "0  --0r8K_AQ4FZfLsX3ZYRDA   \n",
              "1  --0zrn43LEaB4jUWTQH_Bg   \n",
              "2  --164t1nclzzmca7eDiJMw   \n",
              "3  --2aF9NhXnNVpDV0KS3xBQ   \n",
              "4  --2mEJ63SC_8_08_jGgVIg   \n",
              "\n",
              "                                                                                                                                                                                                      date  \n",
              "0                                                                                                                                                                                      2017-09-03 17:13:59  \n",
              "1              2010-10-08 22:21:20, 2010-11-01 21:29:14, 2010-12-23 22:55:45, 2011-04-08 17:14:59, 2011-04-11 21:28:45, 2011-04-26 16:42:25, 2011-05-20 19:30:57, 2011-05-24 20:02:21, 2011-08-29 19:01:31  \n",
              "2  2010-02-26 02:06:53, 2010-02-27 08:00:09, 2010-03-04 02:00:59, 2010-03-11 01:24:46, 2010-03-17 02:29:17, 2010-03-19 03:33:40, 2010-03-27 01:26:31, 2010-04-07 20:08:52, 2010-04-12 19:03:33, 2010-04...  \n",
              "3                                   2014-11-03 16:35:35, 2015-01-30 18:16:03, 2015-03-16 18:45:30, 2016-08-25 15:42:01, 2017-03-27 20:32:57, 2018-02-12 23:13:56, 2019-04-22 19:34:48, 2020-12-29 16:22:00  \n",
              "4                                                                                                                       2010-12-15 17:10:46, 2013-12-28 00:27:54, 2015-10-18 00:43:55, 2016-06-11 19:56:11  "
            ],
            "text/html": [
              "\n",
              "  <div id=\"df-143ebfc1-f560-4d82-829b-da688592428f\">\n",
              "    <div class=\"colab-df-container\">\n",
              "      <div>\n",
              "<style scoped>\n",
              "    .dataframe tbody tr th:only-of-type {\n",
              "        vertical-align: middle;\n",
              "    }\n",
              "\n",
              "    .dataframe tbody tr th {\n",
              "        vertical-align: top;\n",
              "    }\n",
              "\n",
              "    .dataframe thead th {\n",
              "        text-align: right;\n",
              "    }\n",
              "</style>\n",
              "<table border=\"1\" class=\"dataframe\">\n",
              "  <thead>\n",
              "    <tr style=\"text-align: right;\">\n",
              "      <th></th>\n",
              "      <th>business_id</th>\n",
              "      <th>date</th>\n",
              "    </tr>\n",
              "  </thead>\n",
              "  <tbody>\n",
              "    <tr>\n",
              "      <th>0</th>\n",
              "      <td>--0r8K_AQ4FZfLsX3ZYRDA</td>\n",
              "      <td>2017-09-03 17:13:59</td>\n",
              "    </tr>\n",
              "    <tr>\n",
              "      <th>1</th>\n",
              "      <td>--0zrn43LEaB4jUWTQH_Bg</td>\n",
              "      <td>2010-10-08 22:21:20, 2010-11-01 21:29:14, 2010-12-23 22:55:45, 2011-04-08 17:14:59, 2011-04-11 21:28:45, 2011-04-26 16:42:25, 2011-05-20 19:30:57, 2011-05-24 20:02:21, 2011-08-29 19:01:31</td>\n",
              "    </tr>\n",
              "    <tr>\n",
              "      <th>2</th>\n",
              "      <td>--164t1nclzzmca7eDiJMw</td>\n",
              "      <td>2010-02-26 02:06:53, 2010-02-27 08:00:09, 2010-03-04 02:00:59, 2010-03-11 01:24:46, 2010-03-17 02:29:17, 2010-03-19 03:33:40, 2010-03-27 01:26:31, 2010-04-07 20:08:52, 2010-04-12 19:03:33, 2010-04...</td>\n",
              "    </tr>\n",
              "    <tr>\n",
              "      <th>3</th>\n",
              "      <td>--2aF9NhXnNVpDV0KS3xBQ</td>\n",
              "      <td>2014-11-03 16:35:35, 2015-01-30 18:16:03, 2015-03-16 18:45:30, 2016-08-25 15:42:01, 2017-03-27 20:32:57, 2018-02-12 23:13:56, 2019-04-22 19:34:48, 2020-12-29 16:22:00</td>\n",
              "    </tr>\n",
              "    <tr>\n",
              "      <th>4</th>\n",
              "      <td>--2mEJ63SC_8_08_jGgVIg</td>\n",
              "      <td>2010-12-15 17:10:46, 2013-12-28 00:27:54, 2015-10-18 00:43:55, 2016-06-11 19:56:11</td>\n",
              "    </tr>\n",
              "  </tbody>\n",
              "</table>\n",
              "</div>\n",
              "      <button class=\"colab-df-convert\" onclick=\"convertToInteractive('df-143ebfc1-f560-4d82-829b-da688592428f')\"\n",
              "              title=\"Convert this dataframe to an interactive table.\"\n",
              "              style=\"display:none;\">\n",
              "        \n",
              "  <svg xmlns=\"http://www.w3.org/2000/svg\" height=\"24px\"viewBox=\"0 0 24 24\"\n",
              "       width=\"24px\">\n",
              "    <path d=\"M0 0h24v24H0V0z\" fill=\"none\"/>\n",
              "    <path d=\"M18.56 5.44l.94 2.06.94-2.06 2.06-.94-2.06-.94-.94-2.06-.94 2.06-2.06.94zm-11 1L8.5 8.5l.94-2.06 2.06-.94-2.06-.94L8.5 2.5l-.94 2.06-2.06.94zm10 10l.94 2.06.94-2.06 2.06-.94-2.06-.94-.94-2.06-.94 2.06-2.06.94z\"/><path d=\"M17.41 7.96l-1.37-1.37c-.4-.4-.92-.59-1.43-.59-.52 0-1.04.2-1.43.59L10.3 9.45l-7.72 7.72c-.78.78-.78 2.05 0 2.83L4 21.41c.39.39.9.59 1.41.59.51 0 1.02-.2 1.41-.59l7.78-7.78 2.81-2.81c.8-.78.8-2.07 0-2.86zM5.41 20L4 18.59l7.72-7.72 1.47 1.35L5.41 20z\"/>\n",
              "  </svg>\n",
              "      </button>\n",
              "      \n",
              "  <style>\n",
              "    .colab-df-container {\n",
              "      display:flex;\n",
              "      flex-wrap:wrap;\n",
              "      gap: 12px;\n",
              "    }\n",
              "\n",
              "    .colab-df-convert {\n",
              "      background-color: #E8F0FE;\n",
              "      border: none;\n",
              "      border-radius: 50%;\n",
              "      cursor: pointer;\n",
              "      display: none;\n",
              "      fill: #1967D2;\n",
              "      height: 32px;\n",
              "      padding: 0 0 0 0;\n",
              "      width: 32px;\n",
              "    }\n",
              "\n",
              "    .colab-df-convert:hover {\n",
              "      background-color: #E2EBFA;\n",
              "      box-shadow: 0px 1px 2px rgba(60, 64, 67, 0.3), 0px 1px 3px 1px rgba(60, 64, 67, 0.15);\n",
              "      fill: #174EA6;\n",
              "    }\n",
              "\n",
              "    [theme=dark] .colab-df-convert {\n",
              "      background-color: #3B4455;\n",
              "      fill: #D2E3FC;\n",
              "    }\n",
              "\n",
              "    [theme=dark] .colab-df-convert:hover {\n",
              "      background-color: #434B5C;\n",
              "      box-shadow: 0px 1px 3px 1px rgba(0, 0, 0, 0.15);\n",
              "      filter: drop-shadow(0px 1px 2px rgba(0, 0, 0, 0.3));\n",
              "      fill: #FFFFFF;\n",
              "    }\n",
              "  </style>\n",
              "\n",
              "      <script>\n",
              "        const buttonEl =\n",
              "          document.querySelector('#df-143ebfc1-f560-4d82-829b-da688592428f button.colab-df-convert');\n",
              "        buttonEl.style.display =\n",
              "          google.colab.kernel.accessAllowed ? 'block' : 'none';\n",
              "\n",
              "        async function convertToInteractive(key) {\n",
              "          const element = document.querySelector('#df-143ebfc1-f560-4d82-829b-da688592428f');\n",
              "          const dataTable =\n",
              "            await google.colab.kernel.invokeFunction('convertToInteractive',\n",
              "                                                     [key], {});\n",
              "          if (!dataTable) return;\n",
              "\n",
              "          const docLinkHtml = 'Like what you see? Visit the ' +\n",
              "            '<a target=\"_blank\" href=https://colab.research.google.com/notebooks/data_table.ipynb>data table notebook</a>'\n",
              "            + ' to learn more about interactive tables.';\n",
              "          element.innerHTML = '';\n",
              "          dataTable['output_type'] = 'display_data';\n",
              "          await google.colab.output.renderOutput(dataTable, element);\n",
              "          const docLink = document.createElement('div');\n",
              "          docLink.innerHTML = docLinkHtml;\n",
              "          element.appendChild(docLink);\n",
              "        }\n",
              "      </script>\n",
              "    </div>\n",
              "  </div>\n",
              "  "
            ]
          },
          "metadata": {},
          "execution_count": 60
        }
      ]
    },
    {
      "cell_type": "code",
      "source": [
        "df_file_review_5_lines = first_n_lines_of_file_to_df(file_review, 5)\n",
        "df_file_review_5_lines"
      ],
      "metadata": {
        "colab": {
          "base_uri": "https://localhost:8080/",
          "height": 424
        },
        "id": "tNC2abevMqo8",
        "outputId": "a31c2605-b8ac-4399-ef52-0fb0c35a0f84"
      },
      "execution_count": 61,
      "outputs": [
        {
          "output_type": "execute_result",
          "data": {
            "text/plain": [
              "                review_id                 user_id             business_id  \\\n",
              "0  lWC-xP3rd6obsecCYsGZRg  ak0TdVmGKo4pwqdJSTLwWw  buF9druCkbuXLX526sGELQ   \n",
              "1  8bFej1QE5LXp4O05qjGqXA  YoVfDbnISlW0f7abNQACIg  RA4V8pr014UyUbDvI-LW2A   \n",
              "2  NDhkzczKjLshODbqDoNLSg  eC5evKn1TWDyHCyQAwguUw  _sS2LBIGNT5NQb6PD1Vtjw   \n",
              "3  T5fAqjjFooT4V0OeZyuk1w  SFQ1jcnGguO0LYWnbbftAA  0AzLzHfOJgL7ROwhdww2ew   \n",
              "4  sjm_uUcQVxab_EeLCqsYLg  0kA0PAJ8QFMeveQWHFqz2A  8zehGz9jnxPqXtOc7KaJxA   \n",
              "\n",
              "   stars  useful  funny  cool  \\\n",
              "0    4.0       3      1     1   \n",
              "1    4.0       1      0     0   \n",
              "2    5.0       0      0     0   \n",
              "3    2.0       1      1     1   \n",
              "4    4.0       0      0     0   \n",
              "\n",
              "                                                                                                                                                                                                      text  \\\n",
              "0  Apparently Prides Osteria had a rough summer as evidenced by the almost empty dining room at 6:30 on a Friday night. However new blood in the kitchen seems to have revitalized the food from other ...   \n",
              "1  This store is pretty good. Not as great as Walmart (or my preferred, Milford Target), but closer and in a easier area to get to.  \\nThe store itself is pretty clean and organized, the staff are fr...   \n",
              "2  I called WVM on the recommendation of a couple of friends who had used them in the past and thought they did a nice job. I'm a fan now, too.\\n\\nEvan and Cody showed up right on time for my move th...   \n",
              "3  I've stayed at many Marriott and Renaissance Marriott's and this was a huge disappointment! The front desk and atrium is nice..there is a starbucks on site which is nice.\\n\\nThe rooms are run down...   \n",
              "4                    The food is always great here. The service from both the manager as well as the staff is super. Only draw back of this restaurant is it's super loud. If you can, snag a patio table!   \n",
              "\n",
              "                  date  \n",
              "0  2014-10-11 03:34:02  \n",
              "1  2015-07-03 20:38:25  \n",
              "2  2013-05-28 20:38:06  \n",
              "3  2010-01-08 02:29:15  \n",
              "4  2011-07-28 18:05:01  "
            ],
            "text/html": [
              "\n",
              "  <div id=\"df-0b4e09d6-28a8-4794-b5e5-94e25345564e\">\n",
              "    <div class=\"colab-df-container\">\n",
              "      <div>\n",
              "<style scoped>\n",
              "    .dataframe tbody tr th:only-of-type {\n",
              "        vertical-align: middle;\n",
              "    }\n",
              "\n",
              "    .dataframe tbody tr th {\n",
              "        vertical-align: top;\n",
              "    }\n",
              "\n",
              "    .dataframe thead th {\n",
              "        text-align: right;\n",
              "    }\n",
              "</style>\n",
              "<table border=\"1\" class=\"dataframe\">\n",
              "  <thead>\n",
              "    <tr style=\"text-align: right;\">\n",
              "      <th></th>\n",
              "      <th>review_id</th>\n",
              "      <th>user_id</th>\n",
              "      <th>business_id</th>\n",
              "      <th>stars</th>\n",
              "      <th>useful</th>\n",
              "      <th>funny</th>\n",
              "      <th>cool</th>\n",
              "      <th>text</th>\n",
              "      <th>date</th>\n",
              "    </tr>\n",
              "  </thead>\n",
              "  <tbody>\n",
              "    <tr>\n",
              "      <th>0</th>\n",
              "      <td>lWC-xP3rd6obsecCYsGZRg</td>\n",
              "      <td>ak0TdVmGKo4pwqdJSTLwWw</td>\n",
              "      <td>buF9druCkbuXLX526sGELQ</td>\n",
              "      <td>4.0</td>\n",
              "      <td>3</td>\n",
              "      <td>1</td>\n",
              "      <td>1</td>\n",
              "      <td>Apparently Prides Osteria had a rough summer as evidenced by the almost empty dining room at 6:30 on a Friday night. However new blood in the kitchen seems to have revitalized the food from other ...</td>\n",
              "      <td>2014-10-11 03:34:02</td>\n",
              "    </tr>\n",
              "    <tr>\n",
              "      <th>1</th>\n",
              "      <td>8bFej1QE5LXp4O05qjGqXA</td>\n",
              "      <td>YoVfDbnISlW0f7abNQACIg</td>\n",
              "      <td>RA4V8pr014UyUbDvI-LW2A</td>\n",
              "      <td>4.0</td>\n",
              "      <td>1</td>\n",
              "      <td>0</td>\n",
              "      <td>0</td>\n",
              "      <td>This store is pretty good. Not as great as Walmart (or my preferred, Milford Target), but closer and in a easier area to get to.  \\nThe store itself is pretty clean and organized, the staff are fr...</td>\n",
              "      <td>2015-07-03 20:38:25</td>\n",
              "    </tr>\n",
              "    <tr>\n",
              "      <th>2</th>\n",
              "      <td>NDhkzczKjLshODbqDoNLSg</td>\n",
              "      <td>eC5evKn1TWDyHCyQAwguUw</td>\n",
              "      <td>_sS2LBIGNT5NQb6PD1Vtjw</td>\n",
              "      <td>5.0</td>\n",
              "      <td>0</td>\n",
              "      <td>0</td>\n",
              "      <td>0</td>\n",
              "      <td>I called WVM on the recommendation of a couple of friends who had used them in the past and thought they did a nice job. I'm a fan now, too.\\n\\nEvan and Cody showed up right on time for my move th...</td>\n",
              "      <td>2013-05-28 20:38:06</td>\n",
              "    </tr>\n",
              "    <tr>\n",
              "      <th>3</th>\n",
              "      <td>T5fAqjjFooT4V0OeZyuk1w</td>\n",
              "      <td>SFQ1jcnGguO0LYWnbbftAA</td>\n",
              "      <td>0AzLzHfOJgL7ROwhdww2ew</td>\n",
              "      <td>2.0</td>\n",
              "      <td>1</td>\n",
              "      <td>1</td>\n",
              "      <td>1</td>\n",
              "      <td>I've stayed at many Marriott and Renaissance Marriott's and this was a huge disappointment! The front desk and atrium is nice..there is a starbucks on site which is nice.\\n\\nThe rooms are run down...</td>\n",
              "      <td>2010-01-08 02:29:15</td>\n",
              "    </tr>\n",
              "    <tr>\n",
              "      <th>4</th>\n",
              "      <td>sjm_uUcQVxab_EeLCqsYLg</td>\n",
              "      <td>0kA0PAJ8QFMeveQWHFqz2A</td>\n",
              "      <td>8zehGz9jnxPqXtOc7KaJxA</td>\n",
              "      <td>4.0</td>\n",
              "      <td>0</td>\n",
              "      <td>0</td>\n",
              "      <td>0</td>\n",
              "      <td>The food is always great here. The service from both the manager as well as the staff is super. Only draw back of this restaurant is it's super loud. If you can, snag a patio table!</td>\n",
              "      <td>2011-07-28 18:05:01</td>\n",
              "    </tr>\n",
              "  </tbody>\n",
              "</table>\n",
              "</div>\n",
              "      <button class=\"colab-df-convert\" onclick=\"convertToInteractive('df-0b4e09d6-28a8-4794-b5e5-94e25345564e')\"\n",
              "              title=\"Convert this dataframe to an interactive table.\"\n",
              "              style=\"display:none;\">\n",
              "        \n",
              "  <svg xmlns=\"http://www.w3.org/2000/svg\" height=\"24px\"viewBox=\"0 0 24 24\"\n",
              "       width=\"24px\">\n",
              "    <path d=\"M0 0h24v24H0V0z\" fill=\"none\"/>\n",
              "    <path d=\"M18.56 5.44l.94 2.06.94-2.06 2.06-.94-2.06-.94-.94-2.06-.94 2.06-2.06.94zm-11 1L8.5 8.5l.94-2.06 2.06-.94-2.06-.94L8.5 2.5l-.94 2.06-2.06.94zm10 10l.94 2.06.94-2.06 2.06-.94-2.06-.94-.94-2.06-.94 2.06-2.06.94z\"/><path d=\"M17.41 7.96l-1.37-1.37c-.4-.4-.92-.59-1.43-.59-.52 0-1.04.2-1.43.59L10.3 9.45l-7.72 7.72c-.78.78-.78 2.05 0 2.83L4 21.41c.39.39.9.59 1.41.59.51 0 1.02-.2 1.41-.59l7.78-7.78 2.81-2.81c.8-.78.8-2.07 0-2.86zM5.41 20L4 18.59l7.72-7.72 1.47 1.35L5.41 20z\"/>\n",
              "  </svg>\n",
              "      </button>\n",
              "      \n",
              "  <style>\n",
              "    .colab-df-container {\n",
              "      display:flex;\n",
              "      flex-wrap:wrap;\n",
              "      gap: 12px;\n",
              "    }\n",
              "\n",
              "    .colab-df-convert {\n",
              "      background-color: #E8F0FE;\n",
              "      border: none;\n",
              "      border-radius: 50%;\n",
              "      cursor: pointer;\n",
              "      display: none;\n",
              "      fill: #1967D2;\n",
              "      height: 32px;\n",
              "      padding: 0 0 0 0;\n",
              "      width: 32px;\n",
              "    }\n",
              "\n",
              "    .colab-df-convert:hover {\n",
              "      background-color: #E2EBFA;\n",
              "      box-shadow: 0px 1px 2px rgba(60, 64, 67, 0.3), 0px 1px 3px 1px rgba(60, 64, 67, 0.15);\n",
              "      fill: #174EA6;\n",
              "    }\n",
              "\n",
              "    [theme=dark] .colab-df-convert {\n",
              "      background-color: #3B4455;\n",
              "      fill: #D2E3FC;\n",
              "    }\n",
              "\n",
              "    [theme=dark] .colab-df-convert:hover {\n",
              "      background-color: #434B5C;\n",
              "      box-shadow: 0px 1px 3px 1px rgba(0, 0, 0, 0.15);\n",
              "      filter: drop-shadow(0px 1px 2px rgba(0, 0, 0, 0.3));\n",
              "      fill: #FFFFFF;\n",
              "    }\n",
              "  </style>\n",
              "\n",
              "      <script>\n",
              "        const buttonEl =\n",
              "          document.querySelector('#df-0b4e09d6-28a8-4794-b5e5-94e25345564e button.colab-df-convert');\n",
              "        buttonEl.style.display =\n",
              "          google.colab.kernel.accessAllowed ? 'block' : 'none';\n",
              "\n",
              "        async function convertToInteractive(key) {\n",
              "          const element = document.querySelector('#df-0b4e09d6-28a8-4794-b5e5-94e25345564e');\n",
              "          const dataTable =\n",
              "            await google.colab.kernel.invokeFunction('convertToInteractive',\n",
              "                                                     [key], {});\n",
              "          if (!dataTable) return;\n",
              "\n",
              "          const docLinkHtml = 'Like what you see? Visit the ' +\n",
              "            '<a target=\"_blank\" href=https://colab.research.google.com/notebooks/data_table.ipynb>data table notebook</a>'\n",
              "            + ' to learn more about interactive tables.';\n",
              "          element.innerHTML = '';\n",
              "          dataTable['output_type'] = 'display_data';\n",
              "          await google.colab.output.renderOutput(dataTable, element);\n",
              "          const docLink = document.createElement('div');\n",
              "          docLink.innerHTML = docLinkHtml;\n",
              "          element.appendChild(docLink);\n",
              "        }\n",
              "      </script>\n",
              "    </div>\n",
              "  </div>\n",
              "  "
            ]
          },
          "metadata": {},
          "execution_count": 61
        }
      ]
    },
    {
      "cell_type": "code",
      "source": [
        "df_file_tip_5_lines = first_n_lines_of_file_to_df(file_tip, 5)\n",
        "df_file_tip_5_lines"
      ],
      "metadata": {
        "colab": {
          "base_uri": "https://localhost:8080/",
          "height": 250
        },
        "id": "YfsktYpzPc8D",
        "outputId": "bdfd3c54-0d91-4f9f-f7a4-c09aa1b53491"
      },
      "execution_count": 62,
      "outputs": [
        {
          "output_type": "execute_result",
          "data": {
            "text/plain": [
              "                  user_id             business_id  \\\n",
              "0  WCjg0jdHXMlwbqS9tZUx8Q  ENwBByjpoa5Gg7tKgxqwLg   \n",
              "1  42-Z02y9bABShAGZhuSzrQ  jKO4Og6ucdX2-YCTKQVYjg   \n",
              "2  5u7E3LYp_3eB8dLuUBazXQ  9Bto7mky640ocgezVKSfVg   \n",
              "3  wDWoMG5N9oI4DJ-p7z8EBg  XWFjKtRGZ9khRGtGg2ZvaA   \n",
              "4  JmuFlorjjRshHTKzTwNtgg  mkrx0VhSMU3p3uhyJGCoWA   \n",
              "\n",
              "                                                                                                        text  \\\n",
              "0                                                                                       Carne asada chips...   \n",
              "1             Best happy hour from 3pm to 6pm! $1 off martini's on Fridays! \"Nothing but pink\" is delicious!   \n",
              "2  Nice people, skilled staff, clean location - but! I don't think I've ever been taken on time. In 2 years.   \n",
              "3      1/2-price bowling & the \"Very\" Old Fashion are excellent, but the drink didn't help my bowling score!   \n",
              "4                                               Solid gold's. Great sauna. Great staff, too. Even at two am!   \n",
              "\n",
              "                  date  compliment_count  \n",
              "0  2011-07-22 19:07:35                 0  \n",
              "1  2014-09-10 07:33:29                 0  \n",
              "2  2013-12-13 23:23:41                 0  \n",
              "3  2017-07-11 23:07:16                 0  \n",
              "4  2016-11-30 08:46:36                 0  "
            ],
            "text/html": [
              "\n",
              "  <div id=\"df-0ce0a41b-761f-4ade-9dc4-8404c81a9075\">\n",
              "    <div class=\"colab-df-container\">\n",
              "      <div>\n",
              "<style scoped>\n",
              "    .dataframe tbody tr th:only-of-type {\n",
              "        vertical-align: middle;\n",
              "    }\n",
              "\n",
              "    .dataframe tbody tr th {\n",
              "        vertical-align: top;\n",
              "    }\n",
              "\n",
              "    .dataframe thead th {\n",
              "        text-align: right;\n",
              "    }\n",
              "</style>\n",
              "<table border=\"1\" class=\"dataframe\">\n",
              "  <thead>\n",
              "    <tr style=\"text-align: right;\">\n",
              "      <th></th>\n",
              "      <th>user_id</th>\n",
              "      <th>business_id</th>\n",
              "      <th>text</th>\n",
              "      <th>date</th>\n",
              "      <th>compliment_count</th>\n",
              "    </tr>\n",
              "  </thead>\n",
              "  <tbody>\n",
              "    <tr>\n",
              "      <th>0</th>\n",
              "      <td>WCjg0jdHXMlwbqS9tZUx8Q</td>\n",
              "      <td>ENwBByjpoa5Gg7tKgxqwLg</td>\n",
              "      <td>Carne asada chips...</td>\n",
              "      <td>2011-07-22 19:07:35</td>\n",
              "      <td>0</td>\n",
              "    </tr>\n",
              "    <tr>\n",
              "      <th>1</th>\n",
              "      <td>42-Z02y9bABShAGZhuSzrQ</td>\n",
              "      <td>jKO4Og6ucdX2-YCTKQVYjg</td>\n",
              "      <td>Best happy hour from 3pm to 6pm! $1 off martini's on Fridays! \"Nothing but pink\" is delicious!</td>\n",
              "      <td>2014-09-10 07:33:29</td>\n",
              "      <td>0</td>\n",
              "    </tr>\n",
              "    <tr>\n",
              "      <th>2</th>\n",
              "      <td>5u7E3LYp_3eB8dLuUBazXQ</td>\n",
              "      <td>9Bto7mky640ocgezVKSfVg</td>\n",
              "      <td>Nice people, skilled staff, clean location - but! I don't think I've ever been taken on time. In 2 years.</td>\n",
              "      <td>2013-12-13 23:23:41</td>\n",
              "      <td>0</td>\n",
              "    </tr>\n",
              "    <tr>\n",
              "      <th>3</th>\n",
              "      <td>wDWoMG5N9oI4DJ-p7z8EBg</td>\n",
              "      <td>XWFjKtRGZ9khRGtGg2ZvaA</td>\n",
              "      <td>1/2-price bowling &amp; the \"Very\" Old Fashion are excellent, but the drink didn't help my bowling score!</td>\n",
              "      <td>2017-07-11 23:07:16</td>\n",
              "      <td>0</td>\n",
              "    </tr>\n",
              "    <tr>\n",
              "      <th>4</th>\n",
              "      <td>JmuFlorjjRshHTKzTwNtgg</td>\n",
              "      <td>mkrx0VhSMU3p3uhyJGCoWA</td>\n",
              "      <td>Solid gold's. Great sauna. Great staff, too. Even at two am!</td>\n",
              "      <td>2016-11-30 08:46:36</td>\n",
              "      <td>0</td>\n",
              "    </tr>\n",
              "  </tbody>\n",
              "</table>\n",
              "</div>\n",
              "      <button class=\"colab-df-convert\" onclick=\"convertToInteractive('df-0ce0a41b-761f-4ade-9dc4-8404c81a9075')\"\n",
              "              title=\"Convert this dataframe to an interactive table.\"\n",
              "              style=\"display:none;\">\n",
              "        \n",
              "  <svg xmlns=\"http://www.w3.org/2000/svg\" height=\"24px\"viewBox=\"0 0 24 24\"\n",
              "       width=\"24px\">\n",
              "    <path d=\"M0 0h24v24H0V0z\" fill=\"none\"/>\n",
              "    <path d=\"M18.56 5.44l.94 2.06.94-2.06 2.06-.94-2.06-.94-.94-2.06-.94 2.06-2.06.94zm-11 1L8.5 8.5l.94-2.06 2.06-.94-2.06-.94L8.5 2.5l-.94 2.06-2.06.94zm10 10l.94 2.06.94-2.06 2.06-.94-2.06-.94-.94-2.06-.94 2.06-2.06.94z\"/><path d=\"M17.41 7.96l-1.37-1.37c-.4-.4-.92-.59-1.43-.59-.52 0-1.04.2-1.43.59L10.3 9.45l-7.72 7.72c-.78.78-.78 2.05 0 2.83L4 21.41c.39.39.9.59 1.41.59.51 0 1.02-.2 1.41-.59l7.78-7.78 2.81-2.81c.8-.78.8-2.07 0-2.86zM5.41 20L4 18.59l7.72-7.72 1.47 1.35L5.41 20z\"/>\n",
              "  </svg>\n",
              "      </button>\n",
              "      \n",
              "  <style>\n",
              "    .colab-df-container {\n",
              "      display:flex;\n",
              "      flex-wrap:wrap;\n",
              "      gap: 12px;\n",
              "    }\n",
              "\n",
              "    .colab-df-convert {\n",
              "      background-color: #E8F0FE;\n",
              "      border: none;\n",
              "      border-radius: 50%;\n",
              "      cursor: pointer;\n",
              "      display: none;\n",
              "      fill: #1967D2;\n",
              "      height: 32px;\n",
              "      padding: 0 0 0 0;\n",
              "      width: 32px;\n",
              "    }\n",
              "\n",
              "    .colab-df-convert:hover {\n",
              "      background-color: #E2EBFA;\n",
              "      box-shadow: 0px 1px 2px rgba(60, 64, 67, 0.3), 0px 1px 3px 1px rgba(60, 64, 67, 0.15);\n",
              "      fill: #174EA6;\n",
              "    }\n",
              "\n",
              "    [theme=dark] .colab-df-convert {\n",
              "      background-color: #3B4455;\n",
              "      fill: #D2E3FC;\n",
              "    }\n",
              "\n",
              "    [theme=dark] .colab-df-convert:hover {\n",
              "      background-color: #434B5C;\n",
              "      box-shadow: 0px 1px 3px 1px rgba(0, 0, 0, 0.15);\n",
              "      filter: drop-shadow(0px 1px 2px rgba(0, 0, 0, 0.3));\n",
              "      fill: #FFFFFF;\n",
              "    }\n",
              "  </style>\n",
              "\n",
              "      <script>\n",
              "        const buttonEl =\n",
              "          document.querySelector('#df-0ce0a41b-761f-4ade-9dc4-8404c81a9075 button.colab-df-convert');\n",
              "        buttonEl.style.display =\n",
              "          google.colab.kernel.accessAllowed ? 'block' : 'none';\n",
              "\n",
              "        async function convertToInteractive(key) {\n",
              "          const element = document.querySelector('#df-0ce0a41b-761f-4ade-9dc4-8404c81a9075');\n",
              "          const dataTable =\n",
              "            await google.colab.kernel.invokeFunction('convertToInteractive',\n",
              "                                                     [key], {});\n",
              "          if (!dataTable) return;\n",
              "\n",
              "          const docLinkHtml = 'Like what you see? Visit the ' +\n",
              "            '<a target=\"_blank\" href=https://colab.research.google.com/notebooks/data_table.ipynb>data table notebook</a>'\n",
              "            + ' to learn more about interactive tables.';\n",
              "          element.innerHTML = '';\n",
              "          dataTable['output_type'] = 'display_data';\n",
              "          await google.colab.output.renderOutput(dataTable, element);\n",
              "          const docLink = document.createElement('div');\n",
              "          docLink.innerHTML = docLinkHtml;\n",
              "          element.appendChild(docLink);\n",
              "        }\n",
              "      </script>\n",
              "    </div>\n",
              "  </div>\n",
              "  "
            ]
          },
          "metadata": {},
          "execution_count": 62
        }
      ]
    },
    {
      "cell_type": "code",
      "source": [
        "df_file_user_5_lines = first_n_lines_of_file_to_df(file_user, 5)\n",
        "df_file_user_5_lines"
      ],
      "metadata": {
        "colab": {
          "base_uri": "https://localhost:8080/",
          "height": 977
        },
        "id": "fdTbJbAIPmdt",
        "outputId": "ed2846af-36e7-4901-9698-f277b10abb86"
      },
      "execution_count": 63,
      "outputs": [
        {
          "output_type": "execute_result",
          "data": {
            "text/plain": [
              "                  user_id       name  review_count        yelping_since  \\\n",
              "0  q_QQ5kBBwlCcbL1s4NVK3g       Jane          1220  2005-03-14 20:26:35   \n",
              "1  dIIKEfOgo0KqUfGQvGikPg       Gabi          2136  2007-08-10 19:01:51   \n",
              "2  D6ErcUnFALnCQN4b1W_TlA      Jason           119  2007-02-07 15:47:53   \n",
              "3  JnPIjvC0cmooNDfsa9BmXg        Kat           987  2009-02-09 16:14:29   \n",
              "4  37Hc8hr3cw0iHLoPzLK6Ow  Christine           495  2008-03-03 04:57:05   \n",
              "\n",
              "   useful  funny   cool  \\\n",
              "0   15038  10030  11291   \n",
              "1   21272  10289  18046   \n",
              "2     188    128    130   \n",
              "3    7234   4722   4035   \n",
              "4    1577    727   1124   \n",
              "\n",
              "                                                                    elite  \\\n",
              "0                            2006,2007,2008,2009,2010,2011,2012,2013,2014   \n",
              "1  2007,2008,2009,2010,2011,2012,2013,2014,2015,2016,2017,2018,2019,20,20   \n",
              "2                                                               2010,2011   \n",
              "3                                           2009,2010,2011,2012,2013,2014   \n",
              "4                                                          2009,2010,2011   \n",
              "\n",
              "                                                                                                                                                                                                   friends  \\\n",
              "0  xBDpTUbai0DXrvxCe3X16Q, 7GPNBO496aecrjJfW6UWtg, gUfHciSP7BbxZd5gj-c4xw, NXw0bCLF5ZtFMfhcj7CFSw, OGjmMxPuIoLTJ3O-CO2A4g, mwUcJP11UkIjCB8jBAaS3g, fDmgb3Vi3-f_MtFOImH0Ug, -x1516ZG5GllZiBjDQlRkA, tx5U...   \n",
              "1  XPzYf9_mwG2eXYP2BAGSTA, 2LooM5dcIk2o01nftYdPIg, XjFEUW1p6nkXr4VKLnvbqA, NfMKs4kOvzqU0i0KvKfPLg, LAy71MQ-BW-XFq6Jjj_CLA, w1TjcJ6itK7LC_IY61NQIQ, w0SFya-MjUKIpEumUi1vvA, xxhEWFJlGvF9fm9TlHvu-w, ZRiT...   \n",
              "2  GfB6sC4NJQvSI2ewbQrDNA, jhZtzZNNZJOU2YSZ6jPlXQ, DJWvvie6YTka5ylcqMIXvg, b3Fm3LStrOaYQ49ZyLkeOw, YwjzTTCF9Jor4-44SVeE1w, 4Po_4vgdBFk2GPeKfJqVww, N9CrBkTkDZFqQoL64e5USA, Q75-fmX3WoLZEkuBQGxZCg, _vgQ...   \n",
              "3  HQZPQhKMwRAyS6BCselVWQ, kP2U1s_sjQfHO9grxiyDTA, CoTCo9KMYErRiOehoBLj1g, Un6fTxpOGlzIrAf4D_fQpQ, 8rzqG5NLuDlnqE49USzvTw, ifiYar6mCh2OFKX-hYZ_Pg, _wOj5GBzD2GASiQ3GpdBuQ, 6-1XSOw9dZ1KTbzCnSXC_w, 6TRm...   \n",
              "4  -Q88pZUcrfN0BLBDp-bkAQ, etPn4Pv1Gc4cRZjRgB_BOw, 84FcN7Bq9BnL3wPtnyye6w, 0SMBOsgncviE3AOqlr1sFw, 52oH4DrRvzzl8wh5UXyU0A, DBvQvSt0cCxst4NkzEUtyA, xgWX994mFtNIs5yogy3TXw, ap5kQAgmzoOIUMxQLQOisw, 7NV6...   \n",
              "\n",
              "   fans  ...  compliment_more  compliment_profile  compliment_cute  \\\n",
              "0  1357  ...              163                 190              361   \n",
              "1  1025  ...               87                  94              232   \n",
              "2    16  ...                1                   3                0   \n",
              "3   420  ...              129                  93              219   \n",
              "4    47  ...               19                  32               16   \n",
              "\n",
              "   compliment_list  compliment_note  compliment_plain  compliment_cool  \\\n",
              "0              147             1212              5691             2541   \n",
              "1               96             1187              3293             2205   \n",
              "2                0                5                20               31   \n",
              "3               90             1120              4510             1566   \n",
              "4               15               77               131              310   \n",
              "\n",
              "   compliment_funny  compliment_writer  compliment_photos  \n",
              "0              2541                815                323  \n",
              "1              2205                472                294  \n",
              "2                31                  3                  1  \n",
              "3              1566                391                326  \n",
              "4               310                 98                 44  \n",
              "\n",
              "[5 rows x 22 columns]"
            ],
            "text/html": [
              "\n",
              "  <div id=\"df-714a564b-6fc8-4847-b781-7b3698a0c5fc\">\n",
              "    <div class=\"colab-df-container\">\n",
              "      <div>\n",
              "<style scoped>\n",
              "    .dataframe tbody tr th:only-of-type {\n",
              "        vertical-align: middle;\n",
              "    }\n",
              "\n",
              "    .dataframe tbody tr th {\n",
              "        vertical-align: top;\n",
              "    }\n",
              "\n",
              "    .dataframe thead th {\n",
              "        text-align: right;\n",
              "    }\n",
              "</style>\n",
              "<table border=\"1\" class=\"dataframe\">\n",
              "  <thead>\n",
              "    <tr style=\"text-align: right;\">\n",
              "      <th></th>\n",
              "      <th>user_id</th>\n",
              "      <th>name</th>\n",
              "      <th>review_count</th>\n",
              "      <th>yelping_since</th>\n",
              "      <th>useful</th>\n",
              "      <th>funny</th>\n",
              "      <th>cool</th>\n",
              "      <th>elite</th>\n",
              "      <th>friends</th>\n",
              "      <th>fans</th>\n",
              "      <th>...</th>\n",
              "      <th>compliment_more</th>\n",
              "      <th>compliment_profile</th>\n",
              "      <th>compliment_cute</th>\n",
              "      <th>compliment_list</th>\n",
              "      <th>compliment_note</th>\n",
              "      <th>compliment_plain</th>\n",
              "      <th>compliment_cool</th>\n",
              "      <th>compliment_funny</th>\n",
              "      <th>compliment_writer</th>\n",
              "      <th>compliment_photos</th>\n",
              "    </tr>\n",
              "  </thead>\n",
              "  <tbody>\n",
              "    <tr>\n",
              "      <th>0</th>\n",
              "      <td>q_QQ5kBBwlCcbL1s4NVK3g</td>\n",
              "      <td>Jane</td>\n",
              "      <td>1220</td>\n",
              "      <td>2005-03-14 20:26:35</td>\n",
              "      <td>15038</td>\n",
              "      <td>10030</td>\n",
              "      <td>11291</td>\n",
              "      <td>2006,2007,2008,2009,2010,2011,2012,2013,2014</td>\n",
              "      <td>xBDpTUbai0DXrvxCe3X16Q, 7GPNBO496aecrjJfW6UWtg, gUfHciSP7BbxZd5gj-c4xw, NXw0bCLF5ZtFMfhcj7CFSw, OGjmMxPuIoLTJ3O-CO2A4g, mwUcJP11UkIjCB8jBAaS3g, fDmgb3Vi3-f_MtFOImH0Ug, -x1516ZG5GllZiBjDQlRkA, tx5U...</td>\n",
              "      <td>1357</td>\n",
              "      <td>...</td>\n",
              "      <td>163</td>\n",
              "      <td>190</td>\n",
              "      <td>361</td>\n",
              "      <td>147</td>\n",
              "      <td>1212</td>\n",
              "      <td>5691</td>\n",
              "      <td>2541</td>\n",
              "      <td>2541</td>\n",
              "      <td>815</td>\n",
              "      <td>323</td>\n",
              "    </tr>\n",
              "    <tr>\n",
              "      <th>1</th>\n",
              "      <td>dIIKEfOgo0KqUfGQvGikPg</td>\n",
              "      <td>Gabi</td>\n",
              "      <td>2136</td>\n",
              "      <td>2007-08-10 19:01:51</td>\n",
              "      <td>21272</td>\n",
              "      <td>10289</td>\n",
              "      <td>18046</td>\n",
              "      <td>2007,2008,2009,2010,2011,2012,2013,2014,2015,2016,2017,2018,2019,20,20</td>\n",
              "      <td>XPzYf9_mwG2eXYP2BAGSTA, 2LooM5dcIk2o01nftYdPIg, XjFEUW1p6nkXr4VKLnvbqA, NfMKs4kOvzqU0i0KvKfPLg, LAy71MQ-BW-XFq6Jjj_CLA, w1TjcJ6itK7LC_IY61NQIQ, w0SFya-MjUKIpEumUi1vvA, xxhEWFJlGvF9fm9TlHvu-w, ZRiT...</td>\n",
              "      <td>1025</td>\n",
              "      <td>...</td>\n",
              "      <td>87</td>\n",
              "      <td>94</td>\n",
              "      <td>232</td>\n",
              "      <td>96</td>\n",
              "      <td>1187</td>\n",
              "      <td>3293</td>\n",
              "      <td>2205</td>\n",
              "      <td>2205</td>\n",
              "      <td>472</td>\n",
              "      <td>294</td>\n",
              "    </tr>\n",
              "    <tr>\n",
              "      <th>2</th>\n",
              "      <td>D6ErcUnFALnCQN4b1W_TlA</td>\n",
              "      <td>Jason</td>\n",
              "      <td>119</td>\n",
              "      <td>2007-02-07 15:47:53</td>\n",
              "      <td>188</td>\n",
              "      <td>128</td>\n",
              "      <td>130</td>\n",
              "      <td>2010,2011</td>\n",
              "      <td>GfB6sC4NJQvSI2ewbQrDNA, jhZtzZNNZJOU2YSZ6jPlXQ, DJWvvie6YTka5ylcqMIXvg, b3Fm3LStrOaYQ49ZyLkeOw, YwjzTTCF9Jor4-44SVeE1w, 4Po_4vgdBFk2GPeKfJqVww, N9CrBkTkDZFqQoL64e5USA, Q75-fmX3WoLZEkuBQGxZCg, _vgQ...</td>\n",
              "      <td>16</td>\n",
              "      <td>...</td>\n",
              "      <td>1</td>\n",
              "      <td>3</td>\n",
              "      <td>0</td>\n",
              "      <td>0</td>\n",
              "      <td>5</td>\n",
              "      <td>20</td>\n",
              "      <td>31</td>\n",
              "      <td>31</td>\n",
              "      <td>3</td>\n",
              "      <td>1</td>\n",
              "    </tr>\n",
              "    <tr>\n",
              "      <th>3</th>\n",
              "      <td>JnPIjvC0cmooNDfsa9BmXg</td>\n",
              "      <td>Kat</td>\n",
              "      <td>987</td>\n",
              "      <td>2009-02-09 16:14:29</td>\n",
              "      <td>7234</td>\n",
              "      <td>4722</td>\n",
              "      <td>4035</td>\n",
              "      <td>2009,2010,2011,2012,2013,2014</td>\n",
              "      <td>HQZPQhKMwRAyS6BCselVWQ, kP2U1s_sjQfHO9grxiyDTA, CoTCo9KMYErRiOehoBLj1g, Un6fTxpOGlzIrAf4D_fQpQ, 8rzqG5NLuDlnqE49USzvTw, ifiYar6mCh2OFKX-hYZ_Pg, _wOj5GBzD2GASiQ3GpdBuQ, 6-1XSOw9dZ1KTbzCnSXC_w, 6TRm...</td>\n",
              "      <td>420</td>\n",
              "      <td>...</td>\n",
              "      <td>129</td>\n",
              "      <td>93</td>\n",
              "      <td>219</td>\n",
              "      <td>90</td>\n",
              "      <td>1120</td>\n",
              "      <td>4510</td>\n",
              "      <td>1566</td>\n",
              "      <td>1566</td>\n",
              "      <td>391</td>\n",
              "      <td>326</td>\n",
              "    </tr>\n",
              "    <tr>\n",
              "      <th>4</th>\n",
              "      <td>37Hc8hr3cw0iHLoPzLK6Ow</td>\n",
              "      <td>Christine</td>\n",
              "      <td>495</td>\n",
              "      <td>2008-03-03 04:57:05</td>\n",
              "      <td>1577</td>\n",
              "      <td>727</td>\n",
              "      <td>1124</td>\n",
              "      <td>2009,2010,2011</td>\n",
              "      <td>-Q88pZUcrfN0BLBDp-bkAQ, etPn4Pv1Gc4cRZjRgB_BOw, 84FcN7Bq9BnL3wPtnyye6w, 0SMBOsgncviE3AOqlr1sFw, 52oH4DrRvzzl8wh5UXyU0A, DBvQvSt0cCxst4NkzEUtyA, xgWX994mFtNIs5yogy3TXw, ap5kQAgmzoOIUMxQLQOisw, 7NV6...</td>\n",
              "      <td>47</td>\n",
              "      <td>...</td>\n",
              "      <td>19</td>\n",
              "      <td>32</td>\n",
              "      <td>16</td>\n",
              "      <td>15</td>\n",
              "      <td>77</td>\n",
              "      <td>131</td>\n",
              "      <td>310</td>\n",
              "      <td>310</td>\n",
              "      <td>98</td>\n",
              "      <td>44</td>\n",
              "    </tr>\n",
              "  </tbody>\n",
              "</table>\n",
              "<p>5 rows × 22 columns</p>\n",
              "</div>\n",
              "      <button class=\"colab-df-convert\" onclick=\"convertToInteractive('df-714a564b-6fc8-4847-b781-7b3698a0c5fc')\"\n",
              "              title=\"Convert this dataframe to an interactive table.\"\n",
              "              style=\"display:none;\">\n",
              "        \n",
              "  <svg xmlns=\"http://www.w3.org/2000/svg\" height=\"24px\"viewBox=\"0 0 24 24\"\n",
              "       width=\"24px\">\n",
              "    <path d=\"M0 0h24v24H0V0z\" fill=\"none\"/>\n",
              "    <path d=\"M18.56 5.44l.94 2.06.94-2.06 2.06-.94-2.06-.94-.94-2.06-.94 2.06-2.06.94zm-11 1L8.5 8.5l.94-2.06 2.06-.94-2.06-.94L8.5 2.5l-.94 2.06-2.06.94zm10 10l.94 2.06.94-2.06 2.06-.94-2.06-.94-.94-2.06-.94 2.06-2.06.94z\"/><path d=\"M17.41 7.96l-1.37-1.37c-.4-.4-.92-.59-1.43-.59-.52 0-1.04.2-1.43.59L10.3 9.45l-7.72 7.72c-.78.78-.78 2.05 0 2.83L4 21.41c.39.39.9.59 1.41.59.51 0 1.02-.2 1.41-.59l7.78-7.78 2.81-2.81c.8-.78.8-2.07 0-2.86zM5.41 20L4 18.59l7.72-7.72 1.47 1.35L5.41 20z\"/>\n",
              "  </svg>\n",
              "      </button>\n",
              "      \n",
              "  <style>\n",
              "    .colab-df-container {\n",
              "      display:flex;\n",
              "      flex-wrap:wrap;\n",
              "      gap: 12px;\n",
              "    }\n",
              "\n",
              "    .colab-df-convert {\n",
              "      background-color: #E8F0FE;\n",
              "      border: none;\n",
              "      border-radius: 50%;\n",
              "      cursor: pointer;\n",
              "      display: none;\n",
              "      fill: #1967D2;\n",
              "      height: 32px;\n",
              "      padding: 0 0 0 0;\n",
              "      width: 32px;\n",
              "    }\n",
              "\n",
              "    .colab-df-convert:hover {\n",
              "      background-color: #E2EBFA;\n",
              "      box-shadow: 0px 1px 2px rgba(60, 64, 67, 0.3), 0px 1px 3px 1px rgba(60, 64, 67, 0.15);\n",
              "      fill: #174EA6;\n",
              "    }\n",
              "\n",
              "    [theme=dark] .colab-df-convert {\n",
              "      background-color: #3B4455;\n",
              "      fill: #D2E3FC;\n",
              "    }\n",
              "\n",
              "    [theme=dark] .colab-df-convert:hover {\n",
              "      background-color: #434B5C;\n",
              "      box-shadow: 0px 1px 3px 1px rgba(0, 0, 0, 0.15);\n",
              "      filter: drop-shadow(0px 1px 2px rgba(0, 0, 0, 0.3));\n",
              "      fill: #FFFFFF;\n",
              "    }\n",
              "  </style>\n",
              "\n",
              "      <script>\n",
              "        const buttonEl =\n",
              "          document.querySelector('#df-714a564b-6fc8-4847-b781-7b3698a0c5fc button.colab-df-convert');\n",
              "        buttonEl.style.display =\n",
              "          google.colab.kernel.accessAllowed ? 'block' : 'none';\n",
              "\n",
              "        async function convertToInteractive(key) {\n",
              "          const element = document.querySelector('#df-714a564b-6fc8-4847-b781-7b3698a0c5fc');\n",
              "          const dataTable =\n",
              "            await google.colab.kernel.invokeFunction('convertToInteractive',\n",
              "                                                     [key], {});\n",
              "          if (!dataTable) return;\n",
              "\n",
              "          const docLinkHtml = 'Like what you see? Visit the ' +\n",
              "            '<a target=\"_blank\" href=https://colab.research.google.com/notebooks/data_table.ipynb>data table notebook</a>'\n",
              "            + ' to learn more about interactive tables.';\n",
              "          element.innerHTML = '';\n",
              "          dataTable['output_type'] = 'display_data';\n",
              "          await google.colab.output.renderOutput(dataTable, element);\n",
              "          const docLink = document.createElement('div');\n",
              "          docLink.innerHTML = docLinkHtml;\n",
              "          element.appendChild(docLink);\n",
              "        }\n",
              "      </script>\n",
              "    </div>\n",
              "  </div>\n",
              "  "
            ]
          },
          "metadata": {},
          "execution_count": 63
        }
      ]
    },
    {
      "cell_type": "markdown",
      "source": [
        "À la lumière de ces premières visualisations, il apparaît clairement que 2 fichiers seulement nous serviront pour la suite:  \n",
        "A priori, c'est le fichier \"review\" qui nous intéresse mais celui-ci, s'il contient bien les commentaires relatifs à un \"business\", ne nous dit rien sur ce dernier.  \n",
        "  \n",
        "\n",
        "En fait, il va nious falloir aussi le fichier \"business\", justement pour faire le lien entre les deux:  \n",
        "Nous ne garderons que les \"business\" considérés comme restaurants et parmi ceux-ci, nous regarderons plus en détails les notes (pour ne garder que les mauvaises notes (donc <3).  \n",
        "  \n",
        "  \n",
        "Par contre, comme vu un peu plus haut, le fichier \"review\" possède plus de 8.5 millions de lignes, et Google Colab ne permet pas d'en traiter autant (cela fait exploser la RAM).  \n",
        "Je vais donc me contenter de 500 000 lignes de ce dernier."
      ],
      "metadata": {
        "id": "TiP-ogyJP8QV"
      }
    },
    {
      "cell_type": "code",
      "source": [
        "# Je définis d'abord une fonction me permettant de ne garder que les n premières lignes d'un fichier\n",
        "\n",
        "def first_n_lines_of_file(file, n):\n",
        "    with open(file, 'r') as f1:\n",
        "        f2 = open('new_file.txt', 'w')\n",
        "        for i in range(n):\n",
        "            line = f1.readline()\n",
        "            f2.write(line)\n",
        "        f2.close()\n",
        "        f = 'new_file.txt'\n",
        "    return f"
      ],
      "metadata": {
        "id": "O4JBZ06SS-i4"
      },
      "execution_count": 64,
      "outputs": []
    },
    {
      "cell_type": "code",
      "source": [
        "# ... fonction que j'applique directement au fichier \"file_review\"\n",
        "\n",
        "first_250000_lines_file_review = first_n_lines_of_file(file_review, 250000)"
      ],
      "metadata": {
        "id": "rYpHL7xCRgwN"
      },
      "execution_count": 65,
      "outputs": []
    },
    {
      "cell_type": "code",
      "source": [
        "lines_in_file = open('new_file.txt', 'r').readlines()\n",
        "number_of_lines = len(lines_in_file)\n",
        "print(number_of_lines)"
      ],
      "metadata": {
        "colab": {
          "base_uri": "https://localhost:8080/"
        },
        "id": "_TnoTnRhaSP8",
        "outputId": "3e1c816d-879b-4895-d6d0-e9728c51363a"
      },
      "execution_count": 66,
      "outputs": [
        {
          "output_type": "stream",
          "name": "stdout",
          "text": [
            "250000\n"
          ]
        }
      ]
    },
    {
      "cell_type": "code",
      "source": [
        "# À présent, je convertis ce fichier enun DataFrame\n",
        "\n",
        "df_review = pd.read_json(first_250000_lines_file_review, lines = True)"
      ],
      "metadata": {
        "id": "5-lS-ilTR7JI"
      },
      "execution_count": 67,
      "outputs": []
    },
    {
      "cell_type": "code",
      "source": [
        "df_review.head()"
      ],
      "metadata": {
        "colab": {
          "base_uri": "https://localhost:8080/",
          "height": 424
        },
        "id": "lORwvlHiSYUf",
        "outputId": "53cbd51a-fcd3-4314-cbba-2a5876403fde"
      },
      "execution_count": 68,
      "outputs": [
        {
          "output_type": "execute_result",
          "data": {
            "text/plain": [
              "                review_id                 user_id             business_id  \\\n",
              "0  lWC-xP3rd6obsecCYsGZRg  ak0TdVmGKo4pwqdJSTLwWw  buF9druCkbuXLX526sGELQ   \n",
              "1  8bFej1QE5LXp4O05qjGqXA  YoVfDbnISlW0f7abNQACIg  RA4V8pr014UyUbDvI-LW2A   \n",
              "2  NDhkzczKjLshODbqDoNLSg  eC5evKn1TWDyHCyQAwguUw  _sS2LBIGNT5NQb6PD1Vtjw   \n",
              "3  T5fAqjjFooT4V0OeZyuk1w  SFQ1jcnGguO0LYWnbbftAA  0AzLzHfOJgL7ROwhdww2ew   \n",
              "4  sjm_uUcQVxab_EeLCqsYLg  0kA0PAJ8QFMeveQWHFqz2A  8zehGz9jnxPqXtOc7KaJxA   \n",
              "\n",
              "   stars  useful  funny  cool  \\\n",
              "0      4       3      1     1   \n",
              "1      4       1      0     0   \n",
              "2      5       0      0     0   \n",
              "3      2       1      1     1   \n",
              "4      4       0      0     0   \n",
              "\n",
              "                                                                                                                                                                                                      text  \\\n",
              "0  Apparently Prides Osteria had a rough summer as evidenced by the almost empty dining room at 6:30 on a Friday night. However new blood in the kitchen seems to have revitalized the food from other ...   \n",
              "1  This store is pretty good. Not as great as Walmart (or my preferred, Milford Target), but closer and in a easier area to get to.  \\nThe store itself is pretty clean and organized, the staff are fr...   \n",
              "2  I called WVM on the recommendation of a couple of friends who had used them in the past and thought they did a nice job. I'm a fan now, too.\\n\\nEvan and Cody showed up right on time for my move th...   \n",
              "3  I've stayed at many Marriott and Renaissance Marriott's and this was a huge disappointment! The front desk and atrium is nice..there is a starbucks on site which is nice.\\n\\nThe rooms are run down...   \n",
              "4                    The food is always great here. The service from both the manager as well as the staff is super. Only draw back of this restaurant is it's super loud. If you can, snag a patio table!   \n",
              "\n",
              "                 date  \n",
              "0 2014-10-11 03:34:02  \n",
              "1 2015-07-03 20:38:25  \n",
              "2 2013-05-28 20:38:06  \n",
              "3 2010-01-08 02:29:15  \n",
              "4 2011-07-28 18:05:01  "
            ],
            "text/html": [
              "\n",
              "  <div id=\"df-14db1433-890e-4231-8ddf-f5ac6fbcd517\">\n",
              "    <div class=\"colab-df-container\">\n",
              "      <div>\n",
              "<style scoped>\n",
              "    .dataframe tbody tr th:only-of-type {\n",
              "        vertical-align: middle;\n",
              "    }\n",
              "\n",
              "    .dataframe tbody tr th {\n",
              "        vertical-align: top;\n",
              "    }\n",
              "\n",
              "    .dataframe thead th {\n",
              "        text-align: right;\n",
              "    }\n",
              "</style>\n",
              "<table border=\"1\" class=\"dataframe\">\n",
              "  <thead>\n",
              "    <tr style=\"text-align: right;\">\n",
              "      <th></th>\n",
              "      <th>review_id</th>\n",
              "      <th>user_id</th>\n",
              "      <th>business_id</th>\n",
              "      <th>stars</th>\n",
              "      <th>useful</th>\n",
              "      <th>funny</th>\n",
              "      <th>cool</th>\n",
              "      <th>text</th>\n",
              "      <th>date</th>\n",
              "    </tr>\n",
              "  </thead>\n",
              "  <tbody>\n",
              "    <tr>\n",
              "      <th>0</th>\n",
              "      <td>lWC-xP3rd6obsecCYsGZRg</td>\n",
              "      <td>ak0TdVmGKo4pwqdJSTLwWw</td>\n",
              "      <td>buF9druCkbuXLX526sGELQ</td>\n",
              "      <td>4</td>\n",
              "      <td>3</td>\n",
              "      <td>1</td>\n",
              "      <td>1</td>\n",
              "      <td>Apparently Prides Osteria had a rough summer as evidenced by the almost empty dining room at 6:30 on a Friday night. However new blood in the kitchen seems to have revitalized the food from other ...</td>\n",
              "      <td>2014-10-11 03:34:02</td>\n",
              "    </tr>\n",
              "    <tr>\n",
              "      <th>1</th>\n",
              "      <td>8bFej1QE5LXp4O05qjGqXA</td>\n",
              "      <td>YoVfDbnISlW0f7abNQACIg</td>\n",
              "      <td>RA4V8pr014UyUbDvI-LW2A</td>\n",
              "      <td>4</td>\n",
              "      <td>1</td>\n",
              "      <td>0</td>\n",
              "      <td>0</td>\n",
              "      <td>This store is pretty good. Not as great as Walmart (or my preferred, Milford Target), but closer and in a easier area to get to.  \\nThe store itself is pretty clean and organized, the staff are fr...</td>\n",
              "      <td>2015-07-03 20:38:25</td>\n",
              "    </tr>\n",
              "    <tr>\n",
              "      <th>2</th>\n",
              "      <td>NDhkzczKjLshODbqDoNLSg</td>\n",
              "      <td>eC5evKn1TWDyHCyQAwguUw</td>\n",
              "      <td>_sS2LBIGNT5NQb6PD1Vtjw</td>\n",
              "      <td>5</td>\n",
              "      <td>0</td>\n",
              "      <td>0</td>\n",
              "      <td>0</td>\n",
              "      <td>I called WVM on the recommendation of a couple of friends who had used them in the past and thought they did a nice job. I'm a fan now, too.\\n\\nEvan and Cody showed up right on time for my move th...</td>\n",
              "      <td>2013-05-28 20:38:06</td>\n",
              "    </tr>\n",
              "    <tr>\n",
              "      <th>3</th>\n",
              "      <td>T5fAqjjFooT4V0OeZyuk1w</td>\n",
              "      <td>SFQ1jcnGguO0LYWnbbftAA</td>\n",
              "      <td>0AzLzHfOJgL7ROwhdww2ew</td>\n",
              "      <td>2</td>\n",
              "      <td>1</td>\n",
              "      <td>1</td>\n",
              "      <td>1</td>\n",
              "      <td>I've stayed at many Marriott and Renaissance Marriott's and this was a huge disappointment! The front desk and atrium is nice..there is a starbucks on site which is nice.\\n\\nThe rooms are run down...</td>\n",
              "      <td>2010-01-08 02:29:15</td>\n",
              "    </tr>\n",
              "    <tr>\n",
              "      <th>4</th>\n",
              "      <td>sjm_uUcQVxab_EeLCqsYLg</td>\n",
              "      <td>0kA0PAJ8QFMeveQWHFqz2A</td>\n",
              "      <td>8zehGz9jnxPqXtOc7KaJxA</td>\n",
              "      <td>4</td>\n",
              "      <td>0</td>\n",
              "      <td>0</td>\n",
              "      <td>0</td>\n",
              "      <td>The food is always great here. The service from both the manager as well as the staff is super. Only draw back of this restaurant is it's super loud. If you can, snag a patio table!</td>\n",
              "      <td>2011-07-28 18:05:01</td>\n",
              "    </tr>\n",
              "  </tbody>\n",
              "</table>\n",
              "</div>\n",
              "      <button class=\"colab-df-convert\" onclick=\"convertToInteractive('df-14db1433-890e-4231-8ddf-f5ac6fbcd517')\"\n",
              "              title=\"Convert this dataframe to an interactive table.\"\n",
              "              style=\"display:none;\">\n",
              "        \n",
              "  <svg xmlns=\"http://www.w3.org/2000/svg\" height=\"24px\"viewBox=\"0 0 24 24\"\n",
              "       width=\"24px\">\n",
              "    <path d=\"M0 0h24v24H0V0z\" fill=\"none\"/>\n",
              "    <path d=\"M18.56 5.44l.94 2.06.94-2.06 2.06-.94-2.06-.94-.94-2.06-.94 2.06-2.06.94zm-11 1L8.5 8.5l.94-2.06 2.06-.94-2.06-.94L8.5 2.5l-.94 2.06-2.06.94zm10 10l.94 2.06.94-2.06 2.06-.94-2.06-.94-.94-2.06-.94 2.06-2.06.94z\"/><path d=\"M17.41 7.96l-1.37-1.37c-.4-.4-.92-.59-1.43-.59-.52 0-1.04.2-1.43.59L10.3 9.45l-7.72 7.72c-.78.78-.78 2.05 0 2.83L4 21.41c.39.39.9.59 1.41.59.51 0 1.02-.2 1.41-.59l7.78-7.78 2.81-2.81c.8-.78.8-2.07 0-2.86zM5.41 20L4 18.59l7.72-7.72 1.47 1.35L5.41 20z\"/>\n",
              "  </svg>\n",
              "      </button>\n",
              "      \n",
              "  <style>\n",
              "    .colab-df-container {\n",
              "      display:flex;\n",
              "      flex-wrap:wrap;\n",
              "      gap: 12px;\n",
              "    }\n",
              "\n",
              "    .colab-df-convert {\n",
              "      background-color: #E8F0FE;\n",
              "      border: none;\n",
              "      border-radius: 50%;\n",
              "      cursor: pointer;\n",
              "      display: none;\n",
              "      fill: #1967D2;\n",
              "      height: 32px;\n",
              "      padding: 0 0 0 0;\n",
              "      width: 32px;\n",
              "    }\n",
              "\n",
              "    .colab-df-convert:hover {\n",
              "      background-color: #E2EBFA;\n",
              "      box-shadow: 0px 1px 2px rgba(60, 64, 67, 0.3), 0px 1px 3px 1px rgba(60, 64, 67, 0.15);\n",
              "      fill: #174EA6;\n",
              "    }\n",
              "\n",
              "    [theme=dark] .colab-df-convert {\n",
              "      background-color: #3B4455;\n",
              "      fill: #D2E3FC;\n",
              "    }\n",
              "\n",
              "    [theme=dark] .colab-df-convert:hover {\n",
              "      background-color: #434B5C;\n",
              "      box-shadow: 0px 1px 3px 1px rgba(0, 0, 0, 0.15);\n",
              "      filter: drop-shadow(0px 1px 2px rgba(0, 0, 0, 0.3));\n",
              "      fill: #FFFFFF;\n",
              "    }\n",
              "  </style>\n",
              "\n",
              "      <script>\n",
              "        const buttonEl =\n",
              "          document.querySelector('#df-14db1433-890e-4231-8ddf-f5ac6fbcd517 button.colab-df-convert');\n",
              "        buttonEl.style.display =\n",
              "          google.colab.kernel.accessAllowed ? 'block' : 'none';\n",
              "\n",
              "        async function convertToInteractive(key) {\n",
              "          const element = document.querySelector('#df-14db1433-890e-4231-8ddf-f5ac6fbcd517');\n",
              "          const dataTable =\n",
              "            await google.colab.kernel.invokeFunction('convertToInteractive',\n",
              "                                                     [key], {});\n",
              "          if (!dataTable) return;\n",
              "\n",
              "          const docLinkHtml = 'Like what you see? Visit the ' +\n",
              "            '<a target=\"_blank\" href=https://colab.research.google.com/notebooks/data_table.ipynb>data table notebook</a>'\n",
              "            + ' to learn more about interactive tables.';\n",
              "          element.innerHTML = '';\n",
              "          dataTable['output_type'] = 'display_data';\n",
              "          await google.colab.output.renderOutput(dataTable, element);\n",
              "          const docLink = document.createElement('div');\n",
              "          docLink.innerHTML = docLinkHtml;\n",
              "          element.appendChild(docLink);\n",
              "        }\n",
              "      </script>\n",
              "    </div>\n",
              "  </div>\n",
              "  "
            ]
          },
          "metadata": {},
          "execution_count": 68
        }
      ]
    },
    {
      "cell_type": "code",
      "source": [
        "df_review.shape"
      ],
      "metadata": {
        "colab": {
          "base_uri": "https://localhost:8080/"
        },
        "id": "qsldWZx9aJIk",
        "outputId": "ac87affe-bd5f-487d-f302-117f56ff3f28"
      },
      "execution_count": 69,
      "outputs": [
        {
          "output_type": "execute_result",
          "data": {
            "text/plain": [
              "(250000, 9)"
            ]
          },
          "metadata": {},
          "execution_count": 69
        }
      ]
    },
    {
      "cell_type": "code",
      "source": [
        "# Pour le fichier business, sa taille nous permet de le traiter en intégralité\n",
        "\n",
        "df_business = pd.read_json(file_business, lines = True)"
      ],
      "metadata": {
        "id": "GCCJHKWRXE7B"
      },
      "execution_count": 70,
      "outputs": []
    },
    {
      "cell_type": "code",
      "execution_count": 71,
      "metadata": {
        "id": "qZqj9da77AMp"
      },
      "outputs": [],
      "source": [
        "# je sauvegarde les deux DataFrames précédents:\n",
        "\n",
        "file = open('df_business_saved', 'wb')\n",
        "pickle.dump(df_business, file)\n",
        "file.close()\n",
        "\n",
        "\n",
        "file = open('df_review_saved', 'wb')\n",
        "pickle.dump(df_review, file)\n",
        "file.close()"
      ]
    },
    {
      "cell_type": "code",
      "execution_count": 72,
      "metadata": {
        "id": "GRgFPNip7AMp"
      },
      "outputs": [],
      "source": [
        "# ... que je recharge:\n",
        "\n",
        "file = open('df_business_saved', 'rb')\n",
        "df_business = pickle.load(file)\n",
        "file.close()\n",
        "\n",
        "file = open('df_review_saved', 'rb')\n",
        "df_review = pickle.load(file)\n",
        "file.close()"
      ]
    },
    {
      "cell_type": "code",
      "execution_count": 73,
      "metadata": {
        "id": "y3Dq1sQl7AMp"
      },
      "outputs": [],
      "source": [
        "# Je commence par ne conserver que les restaurants n'ayant pas de valeurs manquantes dans la variable \"categories\":\n",
        "\n",
        "df_business  = df_business[df_business['categories'].notnull()]"
      ]
    },
    {
      "cell_type": "code",
      "execution_count": 74,
      "metadata": {
        "id": "y6XLwGdk7AMp"
      },
      "outputs": [],
      "source": [
        "# À partir de là, je définis un nouveau DataFrame qui ne gardera que les \"business\" étant bel et bien des restaurants:\n",
        "\n",
        "df_restaurant = df_business[df_business['categories'].str.contains('Restaurants')]"
      ]
    },
    {
      "cell_type": "code",
      "execution_count": 75,
      "metadata": {
        "id": "jCE4AdKo7AMp"
      },
      "outputs": [],
      "source": [
        "# Et ici, je fais \"matcher\" les commentaires (reviews) qui n'ont trait qu'à des restaurants:\n",
        "\n",
        "df_restaurants_reviews = df_review[df_review['business_id'].isin(df_restaurant['business_id'])]"
      ]
    },
    {
      "cell_type": "code",
      "execution_count": 76,
      "metadata": {
        "colab": {
          "base_uri": "https://localhost:8080/"
        },
        "id": "uBokEjbS7AMp",
        "outputId": "fb0b8f0a-fec1-4f7e-cd57-8758162273ff"
      },
      "outputs": [
        {
          "output_type": "execute_result",
          "data": {
            "text/plain": [
              "((173671, 9), (250000, 9))"
            ]
          },
          "metadata": {},
          "execution_count": 76
        }
      ],
      "source": [
        "df_restaurants_reviews.shape, df_review.shape"
      ]
    },
    {
      "cell_type": "code",
      "source": [
        "# À présent, je ne garde que les restaurants avec des mauvaises notes:\n",
        "\n",
        "df_restaurants_bad_reviews = df_restaurants_reviews[df_restaurants_reviews['stars']<3]"
      ],
      "metadata": {
        "id": "nL6kkQJob5Cn"
      },
      "execution_count": 77,
      "outputs": []
    },
    {
      "cell_type": "code",
      "execution_count": 78,
      "metadata": {
        "colab": {
          "base_uri": "https://localhost:8080/"
        },
        "id": "VQtZe6237AMq",
        "outputId": "1ea23911-d2d0-4ce8-8588-8ef819b50f3f"
      },
      "outputs": [
        {
          "output_type": "stream",
          "name": "stdout",
          "text": [
            "il y a  3719 restaurants parmi les 173671  mauvais commentaires (note<3) laissés par les clients\n"
          ]
        }
      ],
      "source": [
        "nb_restaurants = df_restaurants_bad_reviews['business_id'].nunique()\n",
        "print('il y a ', nb_restaurants, 'restaurants parmi les', df_restaurants_reviews.shape[0], ' mauvais commentaires (note<3) laissés par les clients')"
      ]
    },
    {
      "cell_type": "code",
      "execution_count": 79,
      "metadata": {
        "id": "yUE2j66M7AMq"
      },
      "outputs": [],
      "source": [
        "# Je sauvegarde ces résultats (le dataframe obtenu), dans un fichier: peut-être nous sera-t-il utile pour la suite...\n",
        "df_restaurants_bad_reviews.to_csv('restaurants_bad_reviews.csv', index=False)"
      ]
    },
    {
      "cell_type": "markdown",
      "metadata": {
        "id": "0iu6s6dT7AMq"
      },
      "source": [
        "# 2. Traitement des données textuelles - NLP"
      ]
    },
    {
      "cell_type": "markdown",
      "metadata": {
        "id": "HD1VZIQn7AMq"
      },
      "source": [
        "Maintenant que nous avons gardé:  \n",
        "    - les restaurants parmi les différents établissements.  \n",
        "    - et au sein de ceux-ci, seuls les restaurants ayant reçu des mauvais avis (c'est à dire des notes <3)  \n",
        "Alors on peut s'attaquer à la partie \"traitement du langage\", appelé en anglais NLP (Natural langage processing)"
      ]
    },
    {
      "cell_type": "markdown",
      "metadata": {
        "id": "nTLe4a4_7AMq"
      },
      "source": [
        "## 2.1. Normalisation des commentaires"
      ]
    },
    {
      "cell_type": "markdown",
      "metadata": {
        "id": "-JpG5Z1x7AMq"
      },
      "source": [
        "Une des premières étapes pour ce faire est la NORMALISATION des données: il s'agit de convertir chaque mot dans une forme **canonique** en leur appliquant certaines opérations:\n",
        "- la **tokenisation** (à savoir \"éclater\" le texte en différents mots)\n",
        "- enlever ce qu'on appelle les **\"stop words\"**, mots qui sont bien sûr utiles dans la compréhension du discours humain, mais pas pour le NLP \n",
        "- enfin, le **POS-tagging (POS pour part of speech)** et la **lemmatisation**, qui consistent  à ramener un mot à sa racine grammaticale (le vocable)\n"
      ]
    },
    {
      "cell_type": "markdown",
      "metadata": {
        "id": "Pn7a3wuZ7AMq"
      },
      "source": [
        "### 2.1.1 Nettoyage des données: tokenisation, enlèvement des \"stop words\""
      ]
    },
    {
      "cell_type": "code",
      "execution_count": 80,
      "metadata": {
        "id": "q2euQOUO7AMq"
      },
      "outputs": [],
      "source": [
        "reviews = pd.read_csv('restaurants_bad_reviews.csv')"
      ]
    },
    {
      "cell_type": "code",
      "execution_count": 81,
      "metadata": {
        "id": "7C93FWsg7AMq"
      },
      "outputs": [],
      "source": [
        "nb_reviews = reviews.shape[0]"
      ]
    },
    {
      "cell_type": "code",
      "execution_count": 82,
      "metadata": {
        "id": "SsED8PmE7AMq"
      },
      "outputs": [],
      "source": [
        "list_of_reviews = reviews['text'].values.tolist()\n",
        "# list_of_reviews est une liste contenant nb_reviews (donc 20440) éléments qui sont eux des chaînes de caractères (str)"
      ]
    },
    {
      "cell_type": "markdown",
      "metadata": {
        "id": "ojvaxkGy7AMq"
      },
      "source": [
        "la tokenisation et la suppression des \"stop words\"se feront grâce aux méthodes de la librairie [NLTK]('https://www.nltk.org/')  "
      ]
    },
    {
      "cell_type": "code",
      "execution_count": 116,
      "metadata": {
        "colab": {
          "base_uri": "https://localhost:8080/"
        },
        "id": "GWWSHEOd7AMq",
        "outputId": "fa3e4095-19bf-4320-9ca3-daea32a4e2cb"
      },
      "outputs": [
        {
          "output_type": "stream",
          "name": "stdout",
          "text": [
            "They NEVER seem to get our \n",
            "order correct, service is crappy, food is inconsistent and has gone down hill steadily in the last 6-9 months! WILL NEVER GO THERE AGAIN!\n"
          ]
        }
      ],
      "source": [
        "# Exemple:\n",
        "comment = reviews.iloc[3]['text']\n",
        "print(comment)"
      ]
    },
    {
      "cell_type": "code",
      "execution_count": null,
      "metadata": {
        "id": "BPgtfXy47AMq"
      },
      "outputs": [],
      "source": [
        "from nltk.tokenize import word_tokenize\n",
        "import string\n",
        "from nltk.corpus import stopwords\n",
        "nltk.download('stopwords')\n",
        "nltk.download('wordnet')\n",
        "nltk.download('punkt')\n",
        "nltk.download('averaged_perceptron_tagger') \n",
        "\n",
        "def normalisation(text):\n",
        "    #transforme le texte en tokens\n",
        "    tokens = word_tokenize(text)\n",
        "    #convertit les majuscules en minusucles\n",
        "    tokens = [word.lower() for word in tokens]\n",
        "    table = str.maketrans('', '', string.punctuation)\n",
        "    stripped = [w.translate(table) for w in tokens]\n",
        "    # remove remaining tokens that are not alphabetic\n",
        "    words = [word for word in stripped if word.isalpha()]\n",
        "    # filter out stop words\n",
        "    stop_words = set(stopwords.words('english'))\n",
        "    words = [w for w in words if not w in stop_words]\n",
        "    return words"
      ]
    },
    {
      "cell_type": "code",
      "execution_count": 117,
      "metadata": {
        "colab": {
          "base_uri": "https://localhost:8080/"
        },
        "id": "TJW92gyN7AMq",
        "outputId": "38efa7dd-00ac-494e-f628-3304d3d6a822"
      },
      "outputs": [
        {
          "output_type": "stream",
          "name": "stdout",
          "text": [
            "['never', 'seem', 'get', 'order', 'correct', 'service', 'crappy', 'food', 'inconsistent', 'gone', 'hill', 'steadily', 'last', 'months', 'never', 'go']\n"
          ]
        }
      ],
      "source": [
        "print(normalisation(comment))"
      ]
    },
    {
      "cell_type": "markdown",
      "metadata": {
        "id": "MDhND9xZ7AMq"
      },
      "source": [
        "la fonction \"normalisation\" a donc transformé le commentaire en une liste ne contenant plus que les \"tokens\", sans les \"stop words\""
      ]
    },
    {
      "cell_type": "markdown",
      "metadata": {
        "id": "sFbjy--T7AMr"
      },
      "source": [
        "A présent, nous pouvons appliquer cette fonction sur l'ensemble des commentaires de notre \"list_of_reviews\""
      ]
    },
    {
      "cell_type": "code",
      "execution_count": 86,
      "metadata": {
        "id": "jyFC4bm_7AMr"
      },
      "outputs": [],
      "source": [
        "list_of_reviews_normalized = [normalisation(elt) for elt in list_of_reviews]"
      ]
    },
    {
      "cell_type": "code",
      "execution_count": 118,
      "metadata": {
        "colab": {
          "base_uri": "https://localhost:8080/"
        },
        "id": "YFVx56F57AMr",
        "outputId": "19df613f-dcc2-4075-ecfd-de385d2aff68"
      },
      "outputs": [
        {
          "output_type": "stream",
          "name": "stdout",
          "text": [
            "['never', 'seem', 'get', 'order', 'correct', 'service', 'crappy', 'food', 'inconsistent', 'gone', 'hill', 'steadily', 'last', 'months', 'never', 'go'] "
          ]
        }
      ],
      "source": [
        "print(list_of_reviews_normalized[3], end= ' ')"
      ]
    },
    {
      "cell_type": "markdown",
      "metadata": {
        "id": "tY8lNeAg7AMr"
      },
      "source": [
        "### 2.1.2 POS tagging et lemmatisation"
      ]
    },
    {
      "cell_type": "markdown",
      "metadata": {
        "id": "EWpLHWGb7AMr"
      },
      "source": [
        "le **POS (part of speech) tagging** consiste à identifier les mots selon leur fonction dans la phrase (nom, adjectif, verbe...)\n",
        "Quant à la **lemmatisation**, elle ramène les mots à leur forme canonique"
      ]
    },
    {
      "cell_type": "markdown",
      "metadata": {
        "id": "-gvhD6r87AMr"
      },
      "source": [
        "Pour Les deux, j'utiliserai les méthodes embarquées par la librairie \"[**SpaCy**](https://spacy./)\""
      ]
    },
    {
      "cell_type": "markdown",
      "metadata": {
        "id": "Tmf-k-817AMr"
      },
      "source": [
        "**Remarque:** ainsi que mentionné ici [Machine learning mastery](https://machinelearningmastery.com/gentle-introduction-bag-words-model/ ),  \n",
        "\"A more sophisticated approach is to create a vocabulary of grouped words. This both changes the scope of the vocabulary and allows the bag-of-words to capture a little bit more meaning from the document.\"  \n",
        "\n",
        "Donc, pour pouvoir avoir une meilleure analyse des mauvais commentaires, il apparait judicieux de prévoir, pour notre construction de **\"bag of words\"** future, de considérer ce qu'on appelle un bigramme (2-gram en anglais) qui nous permettra d'isoler une expression telle que \"mauvais service\""
      ]
    },
    {
      "cell_type": "code",
      "execution_count": null,
      "metadata": {
        "id": "dr530BlM7AMr"
      },
      "outputs": [],
      "source": [
        "import spacy\n",
        "!pip install spacytextblob\n",
        "!python -m textblob.download_corpora\n",
        "!python -m spacy download en_core_web_sm\n",
        "import en_core_web_sm #import du modèle \"en_core_web_sm\" du vocabulaire anglais, de sa syntaxe et de sesn entités\n",
        "nlp = en_core_web_sm.load() #chargement de ce modèle"
      ]
    },
    {
      "cell_type": "code",
      "execution_count": 89,
      "metadata": {
        "id": "rhjkI9Uc7AMr"
      },
      "outputs": [],
      "source": [
        "def list_to_string (liste):\n",
        "    return (' '.join(liste))"
      ]
    },
    {
      "cell_type": "code",
      "execution_count": 90,
      "metadata": {
        "id": "isn_dgir7AMr"
      },
      "outputs": [],
      "source": [
        "# je crée la liste des TAGs pour notre futur bigram\n",
        "\n",
        "TAG_list = ['NOUN'] #on ne garde que les noms"
      ]
    },
    {
      "cell_type": "code",
      "execution_count": 91,
      "metadata": {
        "id": "YMl-dTSd7AMr"
      },
      "outputs": [],
      "source": [
        "'''je définis une fonction qui prend en entrée un texte et retourne les NOMS COMMUNS contenus dans ce texte\n",
        " la fonction:\n",
        "     -> prend en entrée une chaïne de caractères\n",
        "     -> renvoie une chaîne de caractères'''\n",
        "\n",
        "def POS_tagging (text):\n",
        "    tag = nlp(text)\n",
        "    l = [word.text for word in tag if word.pos_ in TAG_list]\n",
        "    return ' '.join(l)"
      ]
    },
    {
      "cell_type": "code",
      "execution_count": 92,
      "metadata": {
        "colab": {
          "base_uri": "https://localhost:8080/",
          "height": 35
        },
        "id": "WazI4tPN7AMr",
        "outputId": "003a90a4-9d25-4337-bc65-4605762b4b2e"
      },
      "outputs": [
        {
          "output_type": "execute_result",
          "data": {
            "text/plain": [
              "'setting food dining chains surprise coupons'"
            ],
            "application/vnd.google.colaboratory.intrinsic+json": {
              "type": "string"
            }
          },
          "metadata": {},
          "execution_count": 92
        }
      ],
      "source": [
        "POS_tagging(comment)"
      ]
    },
    {
      "cell_type": "code",
      "execution_count": 93,
      "metadata": {
        "id": "2R0Vvzw67AMr"
      },
      "outputs": [],
      "source": [
        "'''je définis une fonction qui prend en entrée un texte et retourne les mots du texte sous forme canonique (leur \"lemme\")\n",
        " la fonction:\n",
        "     -> prend en entrée une chaïne de caractères\n",
        "     -> renvoie une chaîne de caractères'''\n",
        "\n",
        "def lemmatisation (text):\n",
        "    lem = nlp(text)\n",
        "    l = [word.lemma_ for word in lem]\n",
        "    return ' '.join(l)"
      ]
    },
    {
      "cell_type": "markdown",
      "metadata": {
        "id": "ms6NpCqp7AMr"
      },
      "source": [
        "A présent on peu enchaîner les deux fonctions: testons les sur le commentaire défini précédemment"
      ]
    },
    {
      "cell_type": "code",
      "execution_count": 119,
      "metadata": {
        "colab": {
          "base_uri": "https://localhost:8080/"
        },
        "id": "SRKa-2lc7AMr",
        "outputId": "d05ccb6a-a60b-4f03-eeab-534d81a46b4b"
      },
      "outputs": [
        {
          "output_type": "stream",
          "name": "stdout",
          "text": [
            "voici le commentaire en question:\n",
            "\n",
            " They NEVER seem to get our \n",
            "order correct, service is crappy, food is inconsistent and has gone down hill steadily in the last 6-9 months! WILL NEVER GO THERE AGAIN!\n",
            "\n",
            "\n",
            "voici le commentaire dont il ne reste que les noms communs ayant été par la suite lemmatisés\n",
            " order service food hill month\n"
          ]
        }
      ],
      "source": [
        "print ('voici le commentaire en question:\\n\\n', comment)\n",
        "text = POS_tagging(comment)\n",
        "text = lemmatisation(text)\n",
        "print('\\n\\nvoici le commentaire dont il ne reste que les noms communs ayant été par la suite lemmatisés\\n', text)"
      ]
    },
    {
      "cell_type": "markdown",
      "metadata": {
        "id": "SLM1s1qh7AMr"
      },
      "source": [
        "il ne nous reste plus qu'à transformer tous nos commentaires de notre \"list_of_reviews_normalized\".  \n",
        "**Rq** : Cette \"list_of_reviews_normalized\" étant justement une liste quand il nous faut une chaîne de caractères pour le POS_Tagging, alors il me faudra effectuer cette première étape\n",
        "    \n",
        "    "
      ]
    },
    {
      "cell_type": "code",
      "execution_count": 95,
      "metadata": {
        "colab": {
          "base_uri": "https://localhost:8080/"
        },
        "id": "Ijki9BCN7AMr",
        "outputId": "85a86e3f-4acd-4605-b3df-9637684981cd"
      },
      "outputs": [
        {
          "output_type": "stream",
          "name": "stdout",
          "text": [
            "CPU times: user 13min 8s, sys: 2.18 s, total: 13min 11s\n",
            "Wall time: 13min 8s\n"
          ]
        }
      ],
      "source": [
        "%%time\n",
        "cleaned_list = []\n",
        "for i in range(nb_reviews):\n",
        "    liste = list_of_reviews_normalized[i]\n",
        "    text = ' '.join(liste)\n",
        "    text = POS_tagging(text)\n",
        "    text = lemmatisation(text)\n",
        "    cleaned_list.append(text)\n",
        "    "
      ]
    },
    {
      "cell_type": "code",
      "execution_count": 96,
      "metadata": {
        "id": "98kP87zm7AMs"
      },
      "outputs": [],
      "source": [
        "reviews['cleaned_text'] = pd.DataFrame(cleaned_list)"
      ]
    },
    {
      "cell_type": "code",
      "execution_count": 97,
      "metadata": {
        "colab": {
          "base_uri": "https://localhost:8080/",
          "height": 615
        },
        "id": "OcZuKDhy7AMs",
        "outputId": "c87ee719-0336-4138-fd5f-e77ea4409f60"
      },
      "outputs": [
        {
          "output_type": "execute_result",
          "data": {
            "text/plain": [
              "                review_id                 user_id             business_id  \\\n",
              "0  T5fAqjjFooT4V0OeZyuk1w  SFQ1jcnGguO0LYWnbbftAA  0AzLzHfOJgL7ROwhdww2ew   \n",
              "1  J4a2TuhDasjn2k3wWtHZnQ  RNm_RWkcd02Li2mKPRe7Eg  xGXzsc-hzam-VArK6eTvtw   \n",
              "2  28gGfkLs3igtjVy61lh77Q  Q8c91v7luItVB0cMFF_mRA  EXOsmAB1s71WePlQk0WZrA   \n",
              "3  FdoBFTjXXMn4hVnJ59EtiQ  eLAYHxHUutiXswy-CfeiUw  WQFn1A7-UAA4JT5YWiop_w   \n",
              "4  ucFOnqgaV40oQ2YNyz5ddQ  JHXQEayrDHOWGexs0dCviA  KXCXaF5qimmtKKqnPc_LQA   \n",
              "\n",
              "   stars  useful  funny  cool  \\\n",
              "0      2       1      1     1   \n",
              "1      1       2      0     0   \n",
              "2      2       0      0     0   \n",
              "3      1       0      0     0   \n",
              "4      1       0      0     0   \n",
              "\n",
              "                                                                                                                                                                                                      text  \\\n",
              "0  I've stayed at many Marriott and Renaissance Marriott's and this was a huge disappointment! The front desk and atrium is nice..there is a starbucks on site which is nice.\\n\\nThe rooms are run down...   \n",
              "1  This place used to be a cool, chill place. Now its a bunch of neanderthal bouncers hopped up on steroids acting like the can do whatever they want. There are so many better places in davis square ...   \n",
              "2  The setting is perfectly adequate, and the food comes close.   The dining chains like Chilis and Victoria Station do barbecue better.\\n\\nIt's no surprise you can always pick up coupons for Linwood...   \n",
              "3                                   They NEVER seem to get our \\norder correct, service is crappy, food is inconsistent and has gone down hill steadily in the last 6-9 months! WILL NEVER GO THERE AGAIN!   \n",
              "4                                                                                                       Great coffee and pastries. Baristas are excellent. All the other staff are sooooo lost and vacant.   \n",
              "\n",
              "                  date  \\\n",
              "0  2010-01-08 02:29:15   \n",
              "1  2018-01-21 04:41:03   \n",
              "2  2006-04-16 02:58:44   \n",
              "3  2017-09-08 23:26:10   \n",
              "4  2018-03-03 23:45:25   \n",
              "\n",
              "                                                                                                   cleaned_text  \n",
              "0  disappointment desk atrium starbuck site room screen renaissance hotel priceline rate deal price renaissance  \n",
              "1                               place chill place bunch neanderthal bouncer steroid place business burren place  \n",
              "2                                                               food dining chain surprise coupon restaurantcom  \n",
              "3                                                                         order service food inconsistent month  \n",
              "4                                                                                    coffee pastry staff sooooo  "
            ],
            "text/html": [
              "\n",
              "  <div id=\"df-dfb817e6-7ba2-4c7e-bf65-1083c2888d38\">\n",
              "    <div class=\"colab-df-container\">\n",
              "      <div>\n",
              "<style scoped>\n",
              "    .dataframe tbody tr th:only-of-type {\n",
              "        vertical-align: middle;\n",
              "    }\n",
              "\n",
              "    .dataframe tbody tr th {\n",
              "        vertical-align: top;\n",
              "    }\n",
              "\n",
              "    .dataframe thead th {\n",
              "        text-align: right;\n",
              "    }\n",
              "</style>\n",
              "<table border=\"1\" class=\"dataframe\">\n",
              "  <thead>\n",
              "    <tr style=\"text-align: right;\">\n",
              "      <th></th>\n",
              "      <th>review_id</th>\n",
              "      <th>user_id</th>\n",
              "      <th>business_id</th>\n",
              "      <th>stars</th>\n",
              "      <th>useful</th>\n",
              "      <th>funny</th>\n",
              "      <th>cool</th>\n",
              "      <th>text</th>\n",
              "      <th>date</th>\n",
              "      <th>cleaned_text</th>\n",
              "    </tr>\n",
              "  </thead>\n",
              "  <tbody>\n",
              "    <tr>\n",
              "      <th>0</th>\n",
              "      <td>T5fAqjjFooT4V0OeZyuk1w</td>\n",
              "      <td>SFQ1jcnGguO0LYWnbbftAA</td>\n",
              "      <td>0AzLzHfOJgL7ROwhdww2ew</td>\n",
              "      <td>2</td>\n",
              "      <td>1</td>\n",
              "      <td>1</td>\n",
              "      <td>1</td>\n",
              "      <td>I've stayed at many Marriott and Renaissance Marriott's and this was a huge disappointment! The front desk and atrium is nice..there is a starbucks on site which is nice.\\n\\nThe rooms are run down...</td>\n",
              "      <td>2010-01-08 02:29:15</td>\n",
              "      <td>disappointment desk atrium starbuck site room screen renaissance hotel priceline rate deal price renaissance</td>\n",
              "    </tr>\n",
              "    <tr>\n",
              "      <th>1</th>\n",
              "      <td>J4a2TuhDasjn2k3wWtHZnQ</td>\n",
              "      <td>RNm_RWkcd02Li2mKPRe7Eg</td>\n",
              "      <td>xGXzsc-hzam-VArK6eTvtw</td>\n",
              "      <td>1</td>\n",
              "      <td>2</td>\n",
              "      <td>0</td>\n",
              "      <td>0</td>\n",
              "      <td>This place used to be a cool, chill place. Now its a bunch of neanderthal bouncers hopped up on steroids acting like the can do whatever they want. There are so many better places in davis square ...</td>\n",
              "      <td>2018-01-21 04:41:03</td>\n",
              "      <td>place chill place bunch neanderthal bouncer steroid place business burren place</td>\n",
              "    </tr>\n",
              "    <tr>\n",
              "      <th>2</th>\n",
              "      <td>28gGfkLs3igtjVy61lh77Q</td>\n",
              "      <td>Q8c91v7luItVB0cMFF_mRA</td>\n",
              "      <td>EXOsmAB1s71WePlQk0WZrA</td>\n",
              "      <td>2</td>\n",
              "      <td>0</td>\n",
              "      <td>0</td>\n",
              "      <td>0</td>\n",
              "      <td>The setting is perfectly adequate, and the food comes close.   The dining chains like Chilis and Victoria Station do barbecue better.\\n\\nIt's no surprise you can always pick up coupons for Linwood...</td>\n",
              "      <td>2006-04-16 02:58:44</td>\n",
              "      <td>food dining chain surprise coupon restaurantcom</td>\n",
              "    </tr>\n",
              "    <tr>\n",
              "      <th>3</th>\n",
              "      <td>FdoBFTjXXMn4hVnJ59EtiQ</td>\n",
              "      <td>eLAYHxHUutiXswy-CfeiUw</td>\n",
              "      <td>WQFn1A7-UAA4JT5YWiop_w</td>\n",
              "      <td>1</td>\n",
              "      <td>0</td>\n",
              "      <td>0</td>\n",
              "      <td>0</td>\n",
              "      <td>They NEVER seem to get our \\norder correct, service is crappy, food is inconsistent and has gone down hill steadily in the last 6-9 months! WILL NEVER GO THERE AGAIN!</td>\n",
              "      <td>2017-09-08 23:26:10</td>\n",
              "      <td>order service food inconsistent month</td>\n",
              "    </tr>\n",
              "    <tr>\n",
              "      <th>4</th>\n",
              "      <td>ucFOnqgaV40oQ2YNyz5ddQ</td>\n",
              "      <td>JHXQEayrDHOWGexs0dCviA</td>\n",
              "      <td>KXCXaF5qimmtKKqnPc_LQA</td>\n",
              "      <td>1</td>\n",
              "      <td>0</td>\n",
              "      <td>0</td>\n",
              "      <td>0</td>\n",
              "      <td>Great coffee and pastries. Baristas are excellent. All the other staff are sooooo lost and vacant.</td>\n",
              "      <td>2018-03-03 23:45:25</td>\n",
              "      <td>coffee pastry staff sooooo</td>\n",
              "    </tr>\n",
              "  </tbody>\n",
              "</table>\n",
              "</div>\n",
              "      <button class=\"colab-df-convert\" onclick=\"convertToInteractive('df-dfb817e6-7ba2-4c7e-bf65-1083c2888d38')\"\n",
              "              title=\"Convert this dataframe to an interactive table.\"\n",
              "              style=\"display:none;\">\n",
              "        \n",
              "  <svg xmlns=\"http://www.w3.org/2000/svg\" height=\"24px\"viewBox=\"0 0 24 24\"\n",
              "       width=\"24px\">\n",
              "    <path d=\"M0 0h24v24H0V0z\" fill=\"none\"/>\n",
              "    <path d=\"M18.56 5.44l.94 2.06.94-2.06 2.06-.94-2.06-.94-.94-2.06-.94 2.06-2.06.94zm-11 1L8.5 8.5l.94-2.06 2.06-.94-2.06-.94L8.5 2.5l-.94 2.06-2.06.94zm10 10l.94 2.06.94-2.06 2.06-.94-2.06-.94-.94-2.06-.94 2.06-2.06.94z\"/><path d=\"M17.41 7.96l-1.37-1.37c-.4-.4-.92-.59-1.43-.59-.52 0-1.04.2-1.43.59L10.3 9.45l-7.72 7.72c-.78.78-.78 2.05 0 2.83L4 21.41c.39.39.9.59 1.41.59.51 0 1.02-.2 1.41-.59l7.78-7.78 2.81-2.81c.8-.78.8-2.07 0-2.86zM5.41 20L4 18.59l7.72-7.72 1.47 1.35L5.41 20z\"/>\n",
              "  </svg>\n",
              "      </button>\n",
              "      \n",
              "  <style>\n",
              "    .colab-df-container {\n",
              "      display:flex;\n",
              "      flex-wrap:wrap;\n",
              "      gap: 12px;\n",
              "    }\n",
              "\n",
              "    .colab-df-convert {\n",
              "      background-color: #E8F0FE;\n",
              "      border: none;\n",
              "      border-radius: 50%;\n",
              "      cursor: pointer;\n",
              "      display: none;\n",
              "      fill: #1967D2;\n",
              "      height: 32px;\n",
              "      padding: 0 0 0 0;\n",
              "      width: 32px;\n",
              "    }\n",
              "\n",
              "    .colab-df-convert:hover {\n",
              "      background-color: #E2EBFA;\n",
              "      box-shadow: 0px 1px 2px rgba(60, 64, 67, 0.3), 0px 1px 3px 1px rgba(60, 64, 67, 0.15);\n",
              "      fill: #174EA6;\n",
              "    }\n",
              "\n",
              "    [theme=dark] .colab-df-convert {\n",
              "      background-color: #3B4455;\n",
              "      fill: #D2E3FC;\n",
              "    }\n",
              "\n",
              "    [theme=dark] .colab-df-convert:hover {\n",
              "      background-color: #434B5C;\n",
              "      box-shadow: 0px 1px 3px 1px rgba(0, 0, 0, 0.15);\n",
              "      filter: drop-shadow(0px 1px 2px rgba(0, 0, 0, 0.3));\n",
              "      fill: #FFFFFF;\n",
              "    }\n",
              "  </style>\n",
              "\n",
              "      <script>\n",
              "        const buttonEl =\n",
              "          document.querySelector('#df-dfb817e6-7ba2-4c7e-bf65-1083c2888d38 button.colab-df-convert');\n",
              "        buttonEl.style.display =\n",
              "          google.colab.kernel.accessAllowed ? 'block' : 'none';\n",
              "\n",
              "        async function convertToInteractive(key) {\n",
              "          const element = document.querySelector('#df-dfb817e6-7ba2-4c7e-bf65-1083c2888d38');\n",
              "          const dataTable =\n",
              "            await google.colab.kernel.invokeFunction('convertToInteractive',\n",
              "                                                     [key], {});\n",
              "          if (!dataTable) return;\n",
              "\n",
              "          const docLinkHtml = 'Like what you see? Visit the ' +\n",
              "            '<a target=\"_blank\" href=https://colab.research.google.com/notebooks/data_table.ipynb>data table notebook</a>'\n",
              "            + ' to learn more about interactive tables.';\n",
              "          element.innerHTML = '';\n",
              "          dataTable['output_type'] = 'display_data';\n",
              "          await google.colab.output.renderOutput(dataTable, element);\n",
              "          const docLink = document.createElement('div');\n",
              "          docLink.innerHTML = docLinkHtml;\n",
              "          element.appendChild(docLink);\n",
              "        }\n",
              "      </script>\n",
              "    </div>\n",
              "  </div>\n",
              "  "
            ]
          },
          "metadata": {},
          "execution_count": 97
        }
      ],
      "source": [
        "reviews.head()"
      ]
    },
    {
      "cell_type": "code",
      "source": [
        "## **Remarque importante!!!** En ne gardant que les noms, on voit que l'on perd beaucoup d'informations. \n",
        "## Je vais donc refaire la procédure en incluant cette fois les adjectifs."
      ],
      "metadata": {
        "id": "29kRmCKR7AMs"
      },
      "execution_count": 98,
      "outputs": []
    },
    {
      "cell_type": "code",
      "execution_count": 99,
      "metadata": {
        "id": "HmNPp--v7AMs"
      },
      "outputs": [],
      "source": [
        "#%%time\n",
        "#TAG_list = ['NOUN', 'ADJ'] # cette fois j'inclue les adjectifs\n",
        "#\n",
        "#cleaned_list = []\n",
        "#for i in range(nb_reviews):\n",
        "#    liste = list_of_reviews_normalized[i]\n",
        "#    text = ' '.join(liste)\n",
        "#    text = POS_tagging(text)\n",
        "#    text = lemmatisation(text)\n",
        "#    cleaned_list.append(text)\n",
        "#"
      ]
    },
    {
      "cell_type": "code",
      "execution_count": 100,
      "metadata": {
        "id": "fdocOyUz7AMs"
      },
      "outputs": [],
      "source": [
        "#reviews['cleaned_text'] = pd.DataFrame(cleaned_list)\n",
        "#reviews.head()"
      ]
    },
    {
      "cell_type": "markdown",
      "metadata": {
        "id": "6thIQFtJ7AMs"
      },
      "source": [
        "### 2.2. Création du \"bag of words\" avec Gensim"
      ]
    },
    {
      "cell_type": "markdown",
      "metadata": {
        "id": "oU81-mD27AMs"
      },
      "source": [
        "Tout ce qui suit est inspiré de cette [page](https://getdoc.wiki/Gensim-creating-a-bag-of-words-corpus)"
      ]
    },
    {
      "cell_type": "code",
      "execution_count": 120,
      "metadata": {
        "colab": {
          "base_uri": "https://localhost:8080/"
        },
        "id": "vB-k14Uq7AMs",
        "outputId": "90baefe6-e7c0-4940-bb5c-f858f54f2ea3"
      },
      "outputs": [
        {
          "output_type": "stream",
          "name": "stdout",
          "text": [
            "['order', 'service', 'food', 'inconsistent', 'month'] "
          ]
        }
      ],
      "source": [
        "cleaned_list_tokenized = [word_tokenize(elt) for elt in reviews['cleaned_text']]\n",
        "print(cleaned_list_tokenized[3], end = ' ')"
      ]
    },
    {
      "cell_type": "code",
      "execution_count": 102,
      "metadata": {
        "colab": {
          "base_uri": "https://localhost:8080/"
        },
        "id": "GHKMOctd7AMs",
        "outputId": "5068b1ee-f86c-4331-b1e7-7823d6d06009"
      },
      "outputs": [
        {
          "output_type": "stream",
          "name": "stdout",
          "text": [
            "CPU times: user 3.08 s, sys: 17.9 ms, total: 3.1 s\n",
            "Wall time: 3.08 s\n"
          ]
        }
      ],
      "source": [
        "%%time\n",
        "import gensim.corpora as corpora\n",
        "from gensim.corpora import Dictionary\n",
        "from gensim.utils import simple_preprocess\n",
        "\n",
        "#Je crée un objet \"dictionnary\"\n",
        "id2word = corpora.Dictionary(cleaned_list_tokenized)\n",
        "\n",
        "# Je crée à présent un corpus de \"bag of words\" ainsi:\n",
        "corpus = [id2word.doc2bow(doc, allow_update=True) for doc in cleaned_list_tokenized]\n",
        "#print(BOW_corpus)"
      ]
    },
    {
      "cell_type": "code",
      "execution_count": 121,
      "metadata": {
        "colab": {
          "base_uri": "https://localhost:8080/"
        },
        "id": "jQ0pD3oI7AMs",
        "outputId": "f07dc6a6-27b0-4a6c-b2e5-d69104b7470f"
      },
      "outputs": [
        {
          "output_type": "stream",
          "name": "stdout",
          "text": [
            "[(24, 1.0), (27, 1.0), (28, 1.0), (29, 1.0), (30, 1.0)]\n",
            "5\n",
            "5\n"
          ]
        }
      ],
      "source": [
        "print(corpus[3])\n",
        "print(len(corpus[3]))\n",
        "print(len(cleaned_list_tokenized[3]))"
      ]
    },
    {
      "cell_type": "markdown",
      "source": [
        "## Remarque: Cellules vides ci-dessous pour revenir sur la \"non-vide\" à venir"
      ],
      "metadata": {
        "id": "L8Dz-xpaWQiu"
      }
    },
    {
      "cell_type": "code",
      "source": [
        ""
      ],
      "metadata": {
        "id": "7yx3w0e8WRJx"
      },
      "execution_count": null,
      "outputs": []
    },
    {
      "cell_type": "code",
      "source": [
        ""
      ],
      "metadata": {
        "id": "zFCbP4dCWPpy"
      },
      "execution_count": null,
      "outputs": []
    },
    {
      "cell_type": "markdown",
      "metadata": {
        "id": "gLlfm6UF7AMs"
      },
      "source": [
        "Ici, on voit que notre 1ère ligne:  \n",
        "\"They NEVER seem to get our \n",
        "order correct, service is crappy, food is inconsistent and has gone down hill steadily in the last 6-9 months! WILL NEVER GO THERE AGAIN!\"  \n",
        "  \n",
        "\n",
        "a été transformée en une liste de couples d'éléments où:  \n",
        "le 1er terme est la position du mot dans la phrase. \n",
        "le 2nd est son nombre d'occurences. \n",
        "  \n",
        "\n",
        "## **MAIS... Remarque:** \n",
        "Je ne comprends pas ces tuples!!  \n",
        "(cf output de la dernière cellule). \n",
        "  \n",
        "\"order\" devrait avoir comme correspondance (selon moi) : (7,1) et non (21,1)...\n"
      ]
    },
    {
      "cell_type": "code",
      "source": [
        ""
      ],
      "metadata": {
        "id": "21wgtLC_WOcT"
      },
      "execution_count": null,
      "outputs": []
    },
    {
      "cell_type": "code",
      "source": [
        ""
      ],
      "metadata": {
        "id": "0mw64OSXWOpZ"
      },
      "execution_count": null,
      "outputs": []
    },
    {
      "cell_type": "markdown",
      "metadata": {
        "id": "yNo7XbF27AMs"
      },
      "source": [
        "Le problème de notre \"corpus\" est qu'il n'est pas lisible en l'état mais avec une ligne de code en plus, on peut remédier à cela:"
      ]
    },
    {
      "cell_type": "code",
      "source": [
        "%%time\n",
        "id_words = [[(id2word[id], count) for id, count in line] for line in corpus]\n",
        "print(id_words[3])"
      ],
      "metadata": {
        "colab": {
          "base_uri": "https://localhost:8080/"
        },
        "id": "Enl-dQ8om7B5",
        "outputId": "27bd84b5-5727-43ab-afd7-6d49620baab2"
      },
      "execution_count": 122,
      "outputs": [
        {
          "output_type": "stream",
          "name": "stdout",
          "text": [
            "[('food', 1.0), ('inconsistent', 1.0), ('month', 1.0), ('order', 1.0), ('service', 1.0)]\n",
            "CPU times: user 1.54 s, sys: 73.2 ms, total: 1.61 s\n",
            "Wall time: 1.6 s\n"
          ]
        }
      ]
    },
    {
      "cell_type": "code",
      "source": [
        ""
      ],
      "metadata": {
        "id": "iqhGuQzlXCoG"
      },
      "execution_count": null,
      "outputs": []
    },
    {
      "cell_type": "markdown",
      "source": [
        "## Et là on retrouve pourtant nos 5 mots avec leur(s) bonne(s) occurence(s)...  \n",
        "KÉSAKO ?? !!"
      ],
      "metadata": {
        "id": "tBgy2DpeXC3S"
      }
    },
    {
      "cell_type": "code",
      "source": [
        ""
      ],
      "metadata": {
        "id": "2HItbiifXDJx"
      },
      "execution_count": null,
      "outputs": []
    },
    {
      "cell_type": "markdown",
      "metadata": {
        "id": "eVArUBb_7AMs"
      },
      "source": [
        "Maintenant, nous avons notre **corpus** que nous pouvons enregistrer pour la suite"
      ]
    },
    {
      "cell_type": "code",
      "execution_count": 105,
      "metadata": {
        "id": "_c101upJ7AMs"
      },
      "outputs": [],
      "source": [
        "id2word.save('dictionary')\n",
        "corpora.MmCorpus.serialize('corpus', corpus)"
      ]
    },
    {
      "cell_type": "code",
      "source": [
        "# Load the dictionary\n",
        "id2word = corpora.Dictionary.load('dictionary')\n",
        "\n",
        "# Load corpus\n",
        "corpus = corpora.MmCorpus('corpus')\n",
        "\n",
        "## Read back pickle file\n",
        "#with open ('lda_input_data.ob', 'rb') as fp:\n",
        "#    data_words_bigrams = pickle.load(fp)"
      ],
      "metadata": {
        "id": "XTGPSlcOn-8i"
      },
      "execution_count": 106,
      "outputs": []
    },
    {
      "cell_type": "code",
      "execution_count": 107,
      "metadata": {
        "id": "kXWYn-YV7AMt"
      },
      "outputs": [],
      "source": [
        "corpus = corpora.MmCorpus('corpus')"
      ]
    },
    {
      "cell_type": "code",
      "execution_count": 108,
      "metadata": {
        "colab": {
          "base_uri": "https://localhost:8080/"
        },
        "id": "EE6PAooN7AMt",
        "outputId": "4e419768-052d-439f-d15b-3e75546f9129"
      },
      "outputs": [
        {
          "output_type": "execute_result",
          "data": {
            "text/plain": [
              "21992"
            ]
          },
          "metadata": {},
          "execution_count": 108
        }
      ],
      "source": [
        "len(id2word)"
      ]
    },
    {
      "cell_type": "markdown",
      "source": [
        "À présent on commence par entrâiner un modèle de base. Je choisis 10 topics "
      ],
      "metadata": {
        "id": "wKMaaRtlN8XI"
      }
    },
    {
      "cell_type": "code",
      "execution_count": 109,
      "metadata": {
        "colab": {
          "base_uri": "https://localhost:8080/"
        },
        "id": "cv_JqOEy7AMt",
        "outputId": "fe8bb103-5024-498d-fb6f-8a114844fc55"
      },
      "outputs": [
        {
          "output_type": "stream",
          "name": "stdout",
          "text": [
            "CPU times: user 4min 2s, sys: 1.15 s, total: 4min 3s\n",
            "Wall time: 4min 2s\n"
          ]
        }
      ],
      "source": [
        "%%time\n",
        "from gensim.models import LdaModel\n",
        "\n",
        "model = LdaModel(\n",
        "    corpus=corpus,\n",
        "    id2word=id2word,\n",
        "    chunksize=100,\n",
        "    random_state = 42,\n",
        "    alpha='auto',\n",
        "    eta='auto',\n",
        "    iterations=50,\n",
        "    num_topics=10,\n",
        "    passes=10,\n",
        "    eval_every = None, # Don't evaluate model perplexity, takes too much time\n",
        "    per_word_topics=True\n",
        "\n",
        ")\n"
      ]
    },
    {
      "cell_type": "markdown",
      "metadata": {
        "id": "CNWZLCqv7AMt"
      },
      "source": [
        "Pour la suite, voir [ici](https://www.machinelearningplus.com/nlp/topic-modeling-gensim-python/)"
      ]
    },
    {
      "cell_type": "code",
      "execution_count": 110,
      "metadata": {
        "colab": {
          "base_uri": "https://localhost:8080/"
        },
        "id": "HvGbZMeP7AMt",
        "outputId": "1d472910-582f-43f6-eb2c-1eca069d0c73"
      },
      "outputs": [
        {
          "output_type": "stream",
          "name": "stdout",
          "text": [
            "\n",
            "Perplexity:  -7.422796946538244\n",
            "\n",
            "Coherence Score:  0.4573513275495114\n"
          ]
        }
      ],
      "source": [
        "# Compute Perplexity\n",
        "print('\\nPerplexity: ', model.log_perplexity(corpus))  # a measure of how good the model is. lower the better.\n",
        "\n",
        "# Compute Coherence Score\n",
        "from gensim.models.coherencemodel import CoherenceModel\n",
        "coherence_model_lda = CoherenceModel(model=model, texts=cleaned_list_tokenized, dictionary=id2word, coherence='c_v')\n",
        "coherence_lda = coherence_model_lda.get_coherence()\n",
        "print('\\nCoherence Score: ', coherence_lda)"
      ]
    },
    {
      "cell_type": "code",
      "execution_count": 111,
      "metadata": {
        "colab": {
          "base_uri": "https://localhost:8080/"
        },
        "id": "2PBbsOl77AMt",
        "outputId": "f9b6b681-9253-4b74-de3d-58d3c2eb8903"
      },
      "outputs": [
        {
          "output_type": "stream",
          "name": "stdout",
          "text": [
            "CPU times: user 0 ns, sys: 4 µs, total: 4 µs\n",
            "Wall time: 8.34 µs\n"
          ]
        }
      ],
      "source": [
        "%%time\n",
        "def compute_coherence_values(dictionary, corpus, texts, start, step, limit):\n",
        "    \"\"\"\n",
        "    Compute c_v coherence for various number of topics\n",
        "\n",
        "    Parameters:\n",
        "    ----------\n",
        "    dictionary : Gensim dictionary\n",
        "    corpus : Gensim corpus\n",
        "    texts : List of input texts\n",
        "    limit : Max num of topics\n",
        "\n",
        "    Returns:\n",
        "    -------\n",
        "    model_list : List of LDA topic models\n",
        "    coherence_values : Coherence values corresponding to the LDA model with respective number of topics\n",
        "    \"\"\"\n",
        "    coherence_values = []\n",
        "    model_list = []\n",
        "    for num_topics in range(start, limit, step):\n",
        "        model=LdaModel(corpus=corpus, id2word=dictionary, num_topics=num_topics)\n",
        "        model_list.append(model)\n",
        "        coherencemodel = CoherenceModel(model=model, texts=cleaned_list_tokenized, dictionary=id2word, coherence='c_v')\n",
        "        coherence_values.append(coherencemodel.get_coherence())\n",
        "\n",
        "    return model_list, coherence_values"
      ]
    },
    {
      "cell_type": "code",
      "execution_count": 112,
      "metadata": {
        "colab": {
          "base_uri": "https://localhost:8080/",
          "height": 279
        },
        "id": "bhyyWDjr7AMt",
        "outputId": "86f3f33d-837f-433e-bfc8-892fc028c3b9"
      },
      "outputs": [
        {
          "output_type": "display_data",
          "data": {
            "text/plain": [
              "<Figure size 432x288 with 1 Axes>"
            ],
            "image/png": "[encoded data removed]"
          },
          "metadata": {
            "needs_background": "light"
          }
        }
      ],
      "source": [
        "model_list, coherence_values = compute_coherence_values(dictionary=id2word, corpus=corpus, texts=cleaned_list_tokenized, start=2, limit=21, step=3)\n",
        "# Show graph\n",
        "import matplotlib.pyplot as plt\n",
        "start=2; limit=21; step=3;\n",
        "x = range(start, limit, step)\n",
        "plt.plot(x, coherence_values)\n",
        "plt.xlabel(\"Num Topics\")\n",
        "plt.ylabel(\"Coherence score\")\n",
        "plt.legend((\"coherence_values\"), loc='best')\n",
        "plt.show()"
      ]
    },
    {
      "cell_type": "markdown",
      "source": [
        "On voit que le nombre optimal de topics est de 8"
      ],
      "metadata": {
        "id": "q6PJT4kgIype"
      }
    },
    {
      "cell_type": "code",
      "execution_count": 114,
      "metadata": {
        "colab": {
          "base_uri": "https://localhost:8080/"
        },
        "id": "1kLMP2ZQ7AMt",
        "outputId": "ba9bb1ce-6313-4297-efda-3574a068913e"
      },
      "outputs": [
        {
          "output_type": "stream",
          "name": "stdout",
          "text": [
            "CPU times: user 3min 49s, sys: 1.23 s, total: 3min 51s\n",
            "Wall time: 3min 49s\n"
          ]
        }
      ],
      "source": [
        "%%time\n",
        "from gensim.models import LdaModel\n",
        "\n",
        "model = LdaModel(\n",
        "    corpus=corpus,\n",
        "    id2word=id2word,\n",
        "    chunksize=100,\n",
        "    random_state=42,\n",
        "    alpha='auto',\n",
        "    eta='auto',\n",
        "    num_topics=8,\n",
        "    passes=10,\n",
        "    per_word_topics=True\n",
        ")"
      ]
    },
    {
      "cell_type": "code",
      "execution_count": 115,
      "metadata": {
        "colab": {
          "base_uri": "https://localhost:8080/",
          "height": 952
        },
        "id": "B9QenNGH7AMt",
        "outputId": "f9b25367-465e-475e-8006-b5bce6c04b85"
      },
      "outputs": [
        {
          "output_type": "stream",
          "name": "stderr",
          "text": [
            "/usr/local/lib/python3.7/dist-packages/past/types/oldstr.py:5: DeprecationWarning: Using or importing the ABCs from 'collections' instead of from 'collections.abc' is deprecated since Python 3.3,and in 3.9 it will stop working\n",
            "  from collections import Iterable\n",
            "/usr/local/lib/python3.7/dist-packages/past/builtins/misc.py:4: DeprecationWarning: Using or importing the ABCs from 'collections' instead of from 'collections.abc' is deprecated since Python 3.3,and in 3.9 it will stop working\n",
            "  from collections import Mapping\n"
          ]
        },
        {
          "output_type": "execute_result",
          "data": {
            "text/plain": [
              "PreparedData(topic_coordinates=              x         y  topics  cluster       Freq\n",
              "topic                                                \n",
              "0     -0.089229  0.374635       1        1  15.711610\n",
              "1      0.144140 -0.010399       2        1   3.108886\n",
              "2     -0.323858  0.036333       3        1  32.697195\n",
              "3     -0.223337 -0.267647       4        1  20.993570\n",
              "4      0.145380 -0.009822       5        1   4.340881\n",
              "5      0.090496 -0.109542       6        1   8.979484\n",
              "6      0.122642 -0.006567       7        1   7.841800\n",
              "7      0.133767 -0.006991       8        1   6.326573, topic_info=          Term          Freq         Total Category  logprob  loglift\n",
              "19       place  19557.000000  19557.000000  Default  30.0000  30.0000\n",
              "24        food  31823.000000  31823.000000  Default  29.0000  29.0000\n",
              "60        time  15564.000000  15564.000000  Default  28.0000  28.0000\n",
              "29       order  13511.000000  13511.000000  Default  27.0000  27.0000\n",
              "30     service  15650.000000  15650.000000  Default  26.0000  26.0000\n",
              "...        ...           ...           ...      ...      ...      ...\n",
              "1372     truck    306.859767    307.754786   Topic8  -5.1050   2.7575\n",
              "173       crap    302.564289    303.458903   Topic8  -5.1191   2.7575\n",
              "1118     vegan    295.822503    296.716950   Topic8  -5.1417   2.7574\n",
              "1115  mediocre    294.057992    294.952949   Topic8  -5.1476   2.7574\n",
              "205        oil    631.873873    681.376473   Topic8  -4.3827   2.6850\n",
              "\n",
              "[285 rows x 6 columns], token_table=      Topic      Freq        Term\n",
              "term                             \n",
              "1292      2  0.995792    addition\n",
              "868       7  0.997738     apology\n",
              "133       3  0.999786   appetizer\n",
              "233       1  0.999712        area\n",
              "339       7  0.999603  atmosphere\n",
              "...     ...       ...         ...\n",
              "182       6  0.999586        wing\n",
              "440       4  0.999186        work\n",
              "62        3  0.999788        year\n",
              "1820      5  0.995447   yesterday\n",
              "582       2  0.993433        yuck\n",
              "\n",
              "[270 rows x 3 columns], R=30, lambda_step=0.01, plot_opts={'xlab': 'PC1', 'ylab': 'PC2'}, topic_order=[1, 2, 3, 4, 5, 6, 7, 8])"
            ],
            "text/html": [
              "\n",
              "<link rel=\"stylesheet\" type=\"text/css\" href=\"https://cdn.jsdelivr.net/gh/bmabey/pyLDAvis@3.3.1/pyLDAvis/js/ldavis.v1.0.0.css\">\n",
              "\n",
              "\n",
              "<div id=\"ldavis_el48371397387641873447981491263\"></div>\n",
              "<script type=\"text/javascript\">\n",
              "\n",
              "var ldavis_el48371397387641873447981491263_data = {\"mdsDat\": {\"x\": [-0.08922865971687198, 0.14413990296316886, -0.32385829911371644, -0.2233369012528153, 0.14537956351386147, 0.0904956055361884, 0.12264168353351919, 0.13376710453666568], \"y\": [0.3746353353663295, -0.010398962691689058, 0.03633330440357098, -0.26764738179332337, -0.00982234402804713, -0.1095420721854251, -0.00656713003473915, -0.006990749036676518], \"topics\": [1, 2, 3, 4, 5, 6, 7, 8], \"cluster\": [1, 1, 1, 1, 1, 1, 1, 1], \"Freq\": [15.711610221556905, 3.1088859053743976, 32.69719527163309, 20.993569906317404, 4.3408814835181335, 8.979484358933735, 7.841800298139728, 6.326572554526607]}, \"tinfo\": {\"Term\": [\"place\", \"food\", \"time\", \"order\", \"service\", \"bar\", \"pizza\", \"minute\", \"restaurant\", \"chicken\", \"table\", \"sauce\", \"cheese\", \"dish\", \"price\", \"customer\", \"burger\", \"sandwich\", \"hour\", \"menu\", \"fry\", \"staff\", \"rice\", \"flavor\", \"taste\", \"people\", \"meat\", \"server\", \"manager\", \"coffee\", \"price\", \"menu\", \"star\", \"quality\", \"lunch\", \"side\", \"beer\", \"area\", \"item\", \"bit\", \"portion\", \"wine\", \"love\", \"chip\", \"charge\", \"hostess\", \"shrimp\", \"cream\", \"dollar\", \"salt\", \"spot\", \"pasta\", \"ice\", \"crab\", \"selection\", \"fan\", \"entree\", \"house\", \"refill\", \"attention\", \"place\", \"reason\", \"lot\", \"other\", \"patron\", \"window\", \"member\", \"drive\", \"buck\", \"refund\", \"waffle\", \"face\", \"chipotle\", \"share\", \"presentation\", \"email\", \"pastry\", \"register\", \"dozen\", \"self\", \"feel\", \"addition\", \"band\", \"cart\", \"batter\", \"fire\", \"country\", \"broccoli\", \"dude\", \"closing\", \"recipe\", \"hill\", \"yuck\", \"food\", \"restaurant\", \"table\", \"server\", \"drink\", \"friend\", \"meal\", \"way\", \"night\", \"dinner\", \"waiter\", \"water\", \"plate\", \"year\", \"check\", \"kitchen\", \"waitress\", \"bill\", \"wife\", \"appetizer\", \"party\", \"steak\", \"husband\", \"couple\", \"owner\", \"group\", \"glass\", \"kid\", \"seat\", \"onion\", \"service\", \"experience\", \"people\", \"thing\", \"money\", \"review\", \"point\", \"order\", \"minute\", \"customer\", \"hour\", \"manager\", \"location\", \"day\", \"guy\", \"business\", \"person\", \"today\", \"room\", \"reservation\", \"tip\", \"door\", \"times\", \"family\", \"problem\", \"work\", \"dining\", \"phone\", \"card\", \"delivery\", \"min\", \"employee\", \"attitude\", \"management\", \"end\", \"girl\", \"tonight\", \"time\", \"staff\", \"week\", \"visit\", \"bar\", \"coffee\", \"bartender\", \"name\", \"cake\", \"bag\", \"kind\", \"shop\", \"tv\", \"cocktail\", \"chocolate\", \"raman\", \"mistake\", \"olive\", \"event\", \"machine\", \"mcdonald\", \"metal\", \"chair\", \"vibe\", \"sport\", \"sort\", \"summer\", \"soda\", \"yesterday\", \"market\", \"fault\", \"school\", \"see\", \"beers\", \"sauce\", \"dish\", \"flavor\", \"meat\", \"beef\", \"soup\", \"fish\", \"bite\", \"pork\", \"wing\", \"roll\", \"noodle\", \"wait\", \"boyfriend\", \"bowl\", \"idea\", \"town\", \"bacon\", \"veggie\", \"choice\", \"chef\", \"disappointment\", \"stuff\", \"hotel\", \"duck\", \"rib\", \"style\", \"none\", \"groupon\", \"spice\", \"pizza\", \"chicken\", \"rice\", \"taste\", \"salad\", \"piece\", \"egg\", \"home\", \"atmosphere\", \"bland\", \"store\", \"tea\", \"box\", \"slice\", \"crust\", \"daughter\", \"lobster\", \"pepper\", \"mess\", \"apology\", \"tender\", \"sub\", \"flavorless\", \"mushroom\", \"mouth\", \"girlfriend\", \"gravy\", \"joke\", \"chewy\", \"bun\", \"cheese\", \"burger\", \"sandwich\", \"fry\", \"bread\", \"line\", \"option\", \"half\", \"call\", \"hand\", \"game\", \"lady\", \"case\", \"tuna\", \"bottle\", \"guess\", \"top\", \"lettuce\", \"eye\", \"dog\", \"butter\", \"garlic\", \"ring\", \"meh\", \"park\", \"paper\", \"truck\", \"crap\", \"vegan\", \"mediocre\", \"oil\"], \"Freq\": [19557.0, 31823.0, 15564.0, 13511.0, 15650.0, 4639.0, 5428.0, 8628.0, 11703.0, 4789.0, 10360.0, 4381.0, 3780.0, 4029.0, 4835.0, 5319.0, 2879.0, 2834.0, 4994.0, 4201.0, 2809.0, 5057.0, 2781.0, 2779.0, 2618.0, 6699.0, 2760.0, 5881.0, 4155.0, 2056.0, 4834.575532527672, 4200.432850569012, 3475.580690351213, 3124.06280091752, 3031.860896287606, 3028.334576844584, 2645.1235696722565, 2184.7369438257615, 2103.5391682235177, 2035.0169549456602, 1948.0019222423387, 1689.334106307648, 1514.1028225293555, 1363.868627479643, 1251.5235297658955, 1171.5123477864497, 1063.0216318819562, 983.3340663450916, 974.0035350769671, 951.6707245951189, 941.6048609547518, 940.5522885304271, 897.4635079878763, 893.0094529767242, 878.9670031257018, 844.5583035213658, 833.8808328840379, 796.0419276861306, 791.5257467418584, 750.8879571087921, 19527.636702695225, 1460.4050736730962, 1976.7872889153646, 712.7704195055252, 579.6714347992048, 509.44807909953886, 500.7453933410033, 495.40468587343184, 485.64878613651064, 458.0690444056797, 383.1329184598282, 378.29870009893284, 368.1156715559885, 367.3474879223051, 345.962803873543, 326.41153260488926, 296.86165057479695, 288.8902463731534, 282.0725992612537, 265.74847711466003, 264.8252769777175, 261.20940591625725, 259.22250457333405, 240.25032273307392, 233.4767312373185, 231.49054756339186, 231.42565639573428, 221.039712731663, 218.37088693832158, 208.91330599784558, 202.86662059316436, 202.88576614994383, 202.44201520393565, 31822.752046492624, 11702.698677938295, 10359.82894912945, 5880.864318604945, 5689.650980067888, 5222.045269700021, 5212.165226442626, 5118.347911945121, 4243.394090534798, 3993.334622206637, 3283.38297720853, 3044.6978058089803, 2906.111560519078, 2741.68936003074, 2255.211544757816, 2150.1884233985857, 2108.699935772606, 2087.437317172909, 2071.660365057245, 2039.5437721776887, 1986.2413795078323, 1837.597713773069, 1809.9280899420871, 1741.1102456360989, 1730.9947545540233, 1615.0349965194023, 1523.6958495085591, 1523.6405789230341, 1513.1754466038938, 1493.0064308010471, 15578.500034802142, 5526.214641257039, 6570.389464786141, 5091.160627453015, 2826.344174951651, 3319.8111627245385, 1802.5131878439288, 13510.192007645846, 8627.58957301417, 5318.775447293981, 4993.587782877483, 4154.739653826812, 3480.046474385274, 3350.556272670365, 2266.9958779889116, 2009.4748207374676, 1934.3112231781884, 1810.5127060548411, 1763.7334307475803, 1719.9788399458548, 1715.1096106563202, 1713.6074298927433, 1657.1958444858044, 1655.2168553832837, 1597.6021496561775, 1576.388555830064, 1570.6129217047278, 1516.097001188947, 1471.2366840326808, 1468.4897990085562, 1408.8298200032857, 1325.5722054771834, 1234.2560610311234, 1119.9003813166998, 1105.3738290310184, 1100.6994658380393, 1031.4729919169256, 15311.648325542214, 4868.687447664668, 1456.1825159621026, 1392.727298909443, 4638.889975322733, 2056.0012278356066, 1547.1152512793296, 1200.1322239204194, 941.9056842858122, 801.4902475755997, 620.7522930437783, 600.0001047506041, 542.014710599196, 514.0197988038537, 506.142313511762, 504.7961801930484, 484.67817184367993, 408.6336318313487, 391.0586465901475, 375.31046421067373, 374.2851543764533, 372.33871748791375, 370.84644381923613, 355.10504964447205, 351.9135913626088, 311.3989350229317, 301.51834749536687, 293.4697347950226, 290.43214248657875, 274.57205170374834, 266.8785429216811, 260.6184443760233, 236.0956184777209, 217.32620013067523, 4380.980046020884, 4028.7747835112814, 2778.535849924731, 2760.018354426613, 1646.2171985405228, 1625.4893614019088, 1618.474254849764, 1542.6763067188087, 1520.5169898536783, 1431.697979031017, 1424.8607375794204, 1361.9876979993485, 1148.0162495062675, 971.3019227853705, 964.8248915956733, 934.7043060833769, 928.4953430095059, 902.3667591392484, 894.9329340684449, 876.9112542547495, 848.7990064473264, 644.2435090308942, 643.2883199476875, 619.3772324418953, 585.5495637813326, 505.7712153598215, 491.45340909859294, 488.23856427276473, 487.3836416249985, 452.16474691856956, 5427.478312791709, 4788.525294759772, 2780.2383482687014, 2617.292822860054, 2311.2118261070036, 1897.3513678256747, 1631.7663998097703, 1370.6209478067892, 1158.5612691871147, 1126.23991551704, 977.1307240162947, 956.4926913980398, 913.6020709009439, 900.4118160339883, 851.3250499406586, 711.6261071175577, 683.1821036137695, 627.3339895527922, 563.2637839224617, 559.3678642392715, 525.3539399797328, 521.5477145668692, 499.230658931231, 443.0769069725392, 428.75107943116546, 417.4559663931029, 393.32858724084343, 365.07956366454255, 358.49611517251356, 342.5274693322477, 3780.052296130977, 2878.4970578163193, 2833.713695167973, 2808.313666969381, 2308.8408354648445, 1763.4407760195709, 1630.284303027086, 1171.658957647523, 1141.404568669362, 1077.624939002987, 846.156070814765, 718.8693510502385, 714.1041721898829, 694.0091726204068, 678.7533639530633, 644.5464681200549, 613.7590605291218, 558.6393108648622, 504.00542128134487, 499.02169254078336, 489.3016642406996, 488.7367511961751, 443.96544907150485, 439.55280497156764, 383.4359892015355, 367.85904553560965, 306.8597670236154, 302.5642890267332, 295.8225034032993, 294.05799225580347, 631.8738728675534], \"Total\": [19557.0, 31823.0, 15564.0, 13511.0, 15650.0, 4639.0, 5428.0, 8628.0, 11703.0, 4789.0, 10360.0, 4381.0, 3780.0, 4029.0, 4835.0, 5319.0, 2879.0, 2834.0, 4994.0, 4201.0, 2809.0, 5057.0, 2781.0, 2779.0, 2618.0, 6699.0, 2760.0, 5881.0, 4155.0, 2056.0, 4835.468264348338, 4201.325501985412, 3476.473495899892, 3124.955560372108, 3032.753609769501, 3029.227445358079, 2646.0163381804855, 2185.6297473261666, 2104.4319205625006, 2035.9097229267304, 1948.8946061730996, 1690.226951413668, 1514.9956188679103, 1364.761456786954, 1252.4167366262316, 1172.4052275027004, 1063.914509528558, 984.2266231571189, 974.8968275438069, 952.5637043963807, 942.4977351581022, 941.4450690113733, 898.3560514732143, 893.902336255738, 879.859592945995, 845.4514293510432, 834.7741249666327, 796.9349819560174, 792.4188276481601, 751.7807810633761, 19557.849842968106, 1500.8316993251417, 2662.130368630734, 713.6636533796786, 580.5647036963418, 510.34097146511374, 501.6387398384238, 496.2977370679833, 486.5420888116742, 458.962200038035, 384.02583073775673, 379.1918251766374, 369.00907855961816, 368.2411906471373, 346.8560239964958, 327.3046601470402, 297.7553017991249, 289.7836148317168, 282.9659353951288, 266.6418679396877, 265.7185644543506, 262.10299243124416, 260.1159878705225, 241.14364898252526, 234.37043394189914, 232.3839383604468, 232.31902508379542, 221.93266160605629, 219.26424717900127, 209.80618114151338, 203.75989839244644, 203.77947750761115, 203.33537527210044, 31823.64430189955, 11703.590949048097, 10360.721080487298, 5881.756414921131, 5690.543191897961, 5222.937570840588, 5213.0575002042815, 5119.240402864519, 4244.286357344399, 3994.2269089661895, 3284.2751263432738, 3045.5899773227493, 2907.003735202943, 2742.58174221662, 2256.103738178404, 2151.080750921096, 2109.5919649359216, 2088.3294462418735, 2072.553008689527, 2040.4359974606512, 1987.1334691611332, 1838.4898890133447, 1810.8204215130488, 1742.0024926667973, 1731.8871450184865, 1615.927203171676, 1524.5880479306747, 1524.532886308883, 1514.067818568288, 1493.8989521558995, 15650.082933090946, 5541.864792534212, 6699.900530184282, 5193.474679532858, 2956.75236352666, 3654.5810669441385, 1994.8488428436185, 13511.086452872443, 8628.483972466778, 5319.66979079212, 4994.482178770221, 4155.63398410362, 3480.9408873728357, 3351.4509240943034, 2267.8903747864747, 2010.3693383471611, 1935.205804361513, 1811.4072884972088, 1764.627805829319, 1720.8733113737278, 1716.0042522419378, 1714.5019298976651, 1658.0904586897557, 1656.1115936312674, 1598.4967432532692, 1577.2832970742104, 1571.5077722011667, 1516.9912023509683, 1472.130890959654, 1469.384050392371, 1409.7242253486986, 1326.4665395171394, 1235.1505150431126, 1120.7948490863646, 1106.2684115078869, 1101.5940178988917, 1032.3677414641054, 15564.65152624543, 5057.194878075565, 1513.068734370317, 1571.9926518543803, 4639.783708500083, 2056.894790757985, 1548.0087523201032, 1201.0263373042685, 942.7995961494333, 802.3843087720219, 621.6466193789013, 600.8939126321408, 542.908764886075, 514.9136447143812, 507.03615098819586, 505.69001480160244, 485.5720291179679, 409.5277840092438, 391.95285443440434, 376.2044719091185, 375.17947109342145, 373.23467705775533, 371.7402514098058, 355.9990212203736, 352.80707266455653, 312.2933184819008, 302.413002917168, 294.3641145349309, 291.3262719581512, 275.4662708671016, 267.77271391552654, 261.51265141417576, 236.98994079167227, 218.220109130726, 4381.875792630278, 4029.670514376327, 2779.431551844042, 2760.9141971526224, 1647.1128199170878, 1626.3848459485107, 1619.3698004324517, 1543.5724432838704, 1521.4126251851726, 1432.593682448752, 1425.7563082838458, 1362.8830453185678, 1148.9124138071234, 972.1978737654036, 965.7206742999178, 935.6006675343716, 929.391356632746, 903.2627187392301, 895.828663511364, 877.8073765049055, 849.6951507719733, 645.1393836255995, 644.1843154682897, 620.273130437156, 586.4452622212847, 506.66708626540975, 492.3491844180826, 489.13480354975883, 488.2793774706946, 453.06060394140934, 5428.376795157689, 4789.423993476723, 2781.137208479451, 2618.1916916235396, 2312.110630707044, 1898.2503964715447, 1632.665138134083, 1371.5200102878073, 1159.460453075636, 1127.1386333709186, 978.0298114499884, 957.3912898719735, 914.5013763865799, 901.3105830354131, 852.2235036923361, 712.5257323956452, 684.0816033834251, 628.2329971001012, 564.1629926425178, 560.2674491914679, 526.2532072997919, 522.4468004601582, 500.12959039819106, 443.9754040049369, 429.65021829100857, 418.3552152047939, 394.22767566492473, 365.97889256978203, 359.3949133162572, 343.42676389142235, 3780.9465985195975, 2879.3910718921798, 2834.6077982243687, 2809.2078746564207, 2309.7353358815, 1764.3353574819344, 1631.1791531471476, 1172.5535484222944, 1142.2993893105427, 1078.5197893665018, 847.0506085361452, 719.764181906569, 714.9992199170607, 694.9039083680085, 679.6480093978925, 645.4413398495321, 614.6539450728341, 559.5337213336566, 504.8998797187652, 499.9161572477941, 490.1960433851156, 489.6315935223129, 444.85977573119715, 440.4474313837185, 384.3302513334438, 368.7538081870697, 307.7547858093282, 303.4589025765914, 296.71695035310347, 294.9529490004908, 681.3764728262098], \"Category\": [\"Default\", \"Default\", \"Default\", \"Default\", \"Default\", \"Default\", \"Default\", \"Default\", \"Default\", \"Default\", \"Default\", \"Default\", \"Default\", \"Default\", \"Default\", \"Default\", \"Default\", \"Default\", \"Default\", \"Default\", \"Default\", \"Default\", \"Default\", \"Default\", \"Default\", \"Default\", \"Default\", \"Default\", \"Default\", \"Default\", \"Topic1\", \"Topic1\", \"Topic1\", \"Topic1\", \"Topic1\", \"Topic1\", \"Topic1\", \"Topic1\", \"Topic1\", \"Topic1\", \"Topic1\", \"Topic1\", \"Topic1\", \"Topic1\", \"Topic1\", \"Topic1\", \"Topic1\", \"Topic1\", \"Topic1\", \"Topic1\", \"Topic1\", \"Topic1\", \"Topic1\", \"Topic1\", \"Topic1\", \"Topic1\", \"Topic1\", \"Topic1\", \"Topic1\", \"Topic1\", \"Topic1\", \"Topic1\", \"Topic1\", \"Topic2\", \"Topic2\", \"Topic2\", \"Topic2\", \"Topic2\", \"Topic2\", \"Topic2\", \"Topic2\", \"Topic2\", \"Topic2\", \"Topic2\", \"Topic2\", \"Topic2\", \"Topic2\", \"Topic2\", \"Topic2\", \"Topic2\", \"Topic2\", \"Topic2\", \"Topic2\", \"Topic2\", \"Topic2\", \"Topic2\", \"Topic2\", \"Topic2\", \"Topic2\", \"Topic2\", \"Topic2\", \"Topic2\", \"Topic2\", \"Topic3\", \"Topic3\", \"Topic3\", \"Topic3\", \"Topic3\", \"Topic3\", \"Topic3\", \"Topic3\", \"Topic3\", \"Topic3\", \"Topic3\", \"Topic3\", \"Topic3\", \"Topic3\", \"Topic3\", \"Topic3\", \"Topic3\", \"Topic3\", \"Topic3\", \"Topic3\", \"Topic3\", \"Topic3\", \"Topic3\", \"Topic3\", \"Topic3\", \"Topic3\", \"Topic3\", \"Topic3\", \"Topic3\", \"Topic3\", \"Topic3\", \"Topic3\", \"Topic3\", \"Topic3\", \"Topic3\", \"Topic3\", \"Topic3\", \"Topic4\", \"Topic4\", \"Topic4\", \"Topic4\", \"Topic4\", \"Topic4\", \"Topic4\", \"Topic4\", \"Topic4\", \"Topic4\", \"Topic4\", \"Topic4\", \"Topic4\", \"Topic4\", \"Topic4\", \"Topic4\", \"Topic4\", \"Topic4\", \"Topic4\", \"Topic4\", \"Topic4\", \"Topic4\", \"Topic4\", \"Topic4\", \"Topic4\", \"Topic4\", \"Topic4\", \"Topic4\", \"Topic4\", \"Topic4\", \"Topic4\", \"Topic4\", \"Topic4\", \"Topic4\", \"Topic5\", \"Topic5\", \"Topic5\", \"Topic5\", \"Topic5\", \"Topic5\", \"Topic5\", \"Topic5\", \"Topic5\", \"Topic5\", \"Topic5\", \"Topic5\", \"Topic5\", \"Topic5\", \"Topic5\", \"Topic5\", \"Topic5\", \"Topic5\", \"Topic5\", \"Topic5\", \"Topic5\", \"Topic5\", \"Topic5\", \"Topic5\", \"Topic5\", \"Topic5\", \"Topic5\", \"Topic5\", \"Topic5\", \"Topic5\", \"Topic6\", \"Topic6\", \"Topic6\", \"Topic6\", \"Topic6\", \"Topic6\", \"Topic6\", \"Topic6\", \"Topic6\", \"Topic6\", \"Topic6\", \"Topic6\", \"Topic6\", \"Topic6\", \"Topic6\", \"Topic6\", \"Topic6\", \"Topic6\", \"Topic6\", \"Topic6\", \"Topic6\", \"Topic6\", \"Topic6\", \"Topic6\", \"Topic6\", \"Topic6\", \"Topic6\", \"Topic6\", \"Topic6\", \"Topic6\", \"Topic7\", \"Topic7\", \"Topic7\", \"Topic7\", \"Topic7\", \"Topic7\", \"Topic7\", \"Topic7\", \"Topic7\", \"Topic7\", \"Topic7\", \"Topic7\", \"Topic7\", \"Topic7\", \"Topic7\", \"Topic7\", \"Topic7\", \"Topic7\", \"Topic7\", \"Topic7\", \"Topic7\", \"Topic7\", \"Topic7\", \"Topic7\", \"Topic7\", \"Topic7\", \"Topic7\", \"Topic7\", \"Topic7\", \"Topic7\", \"Topic8\", \"Topic8\", \"Topic8\", \"Topic8\", \"Topic8\", \"Topic8\", \"Topic8\", \"Topic8\", \"Topic8\", \"Topic8\", \"Topic8\", \"Topic8\", \"Topic8\", \"Topic8\", \"Topic8\", \"Topic8\", \"Topic8\", \"Topic8\", \"Topic8\", \"Topic8\", \"Topic8\", \"Topic8\", \"Topic8\", \"Topic8\", \"Topic8\", \"Topic8\", \"Topic8\", \"Topic8\", \"Topic8\", \"Topic8\", \"Topic8\"], \"logprob\": [30.0, 29.0, 28.0, 27.0, 26.0, 25.0, 24.0, 23.0, 22.0, 21.0, 20.0, 19.0, 18.0, 17.0, 16.0, 15.0, 14.0, 13.0, 12.0, 11.0, 10.0, 9.0, 8.0, 7.0, 6.0, 5.0, 4.0, 3.0, 2.0, 1.0, -3.2575, -3.3981, -3.5875, -3.6942, -3.7241, -3.7253, -3.8606, -4.0518, -4.0897, -4.1228, -4.1665, -4.309, -4.4185, -4.523, -4.6089, -4.675, -4.7722, -4.8501, -4.8596, -4.8828, -4.8935, -4.8946, -4.9415, -4.9465, -4.9623, -5.0022, -5.015, -5.0614, -5.0671, -5.1198, -1.8615, -4.4546, -4.1518, -3.5518, -3.7585, -3.8876, -3.9048, -3.9156, -3.9354, -3.9939, -4.1725, -4.1852, -4.2125, -4.2146, -4.2746, -4.3328, -4.4277, -4.4549, -4.4788, -4.5384, -4.5419, -4.5556, -4.5632, -4.6392, -4.6678, -4.6764, -4.6767, -4.7226, -4.7347, -4.779, -4.8084, -4.8083, -4.8105, -2.106, -3.1064, -3.2283, -3.7945, -3.8275, -3.9133, -3.9152, -3.9334, -4.1208, -4.1816, -4.3773, -4.4528, -4.4994, -4.5576, -4.753, -4.8006, -4.8201, -4.8303, -4.8378, -4.8535, -4.88, -4.9577, -4.9729, -5.0117, -5.0175, -5.0868, -5.1451, -5.1451, -5.152, -5.1654, -2.8203, -3.8567, -3.6836, -3.9387, -4.5272, -4.3663, -4.977, -2.5197, -2.9682, -3.4519, -3.515, -3.6989, -3.8761, -3.914, -4.3047, -4.4252, -4.4634, -4.5295, -4.5557, -4.5808, -4.5836, -4.5845, -4.618, -4.6192, -4.6546, -4.668, -4.6717, -4.707, -4.737, -4.7389, -4.7804, -4.8413, -4.9127, -5.0099, -5.0229, -5.0272, -5.0921, -2.3945, -3.5403, -4.7473, -4.7919, -2.0125, -2.8262, -3.1106, -3.3646, -3.6068, -3.7683, -4.0238, -4.0578, -4.1594, -4.2125, -4.2279, -4.2306, -4.2713, -4.4419, -4.4859, -4.527, -4.5297, -4.5349, -4.539, -4.5823, -4.5914, -4.7137, -4.7459, -4.773, -4.7834, -4.8395, -4.8679, -4.8917, -4.9905, -5.0733, -2.7966, -2.8804, -3.2519, -3.2586, -3.7754, -3.788, -3.7924, -3.8403, -3.8548, -3.915, -3.9198, -3.9649, -4.1358, -4.303, -4.3097, -4.3414, -4.348, -4.3766, -4.3849, -4.4052, -4.4378, -4.7135, -4.715, -4.7529, -4.8091, -4.9555, -4.9842, -4.9908, -4.9926, -5.0676, -2.4469, -2.5722, -3.1158, -3.1762, -3.3006, -3.4979, -3.6487, -3.8231, -3.9912, -4.0195, -4.1615, -4.1829, -4.2287, -4.2433, -4.2993, -4.4786, -4.5194, -4.6047, -4.7124, -4.7193, -4.7821, -4.7893, -4.8331, -4.9524, -4.9853, -5.012, -5.0715, -5.146, -5.1642, -5.2098, -2.5939, -2.8664, -2.8821, -2.8911, -3.0869, -3.3564, -3.4349, -3.7652, -3.7914, -3.8489, -4.0907, -4.2537, -4.2604, -4.2889, -4.3112, -4.3629, -4.4118, -4.5059, -4.6088, -4.6188, -4.6384, -4.6396, -4.7357, -4.7457, -4.8822, -4.9237, -5.105, -5.1191, -5.1417, -5.1476, -4.3827], \"loglift\": [30.0, 29.0, 28.0, 27.0, 26.0, 25.0, 24.0, 23.0, 22.0, 21.0, 20.0, 19.0, 18.0, 17.0, 16.0, 15.0, 14.0, 13.0, 12.0, 11.0, 10.0, 9.0, 8.0, 7.0, 6.0, 5.0, 4.0, 3.0, 2.0, 1.0, 1.8506, 1.8506, 1.8505, 1.8505, 1.8505, 1.8505, 1.8504, 1.8504, 1.8503, 1.8503, 1.8503, 1.8502, 1.8502, 1.8501, 1.8501, 1.85, 1.8499, 1.8499, 1.8499, 1.8498, 1.8498, 1.8498, 1.8498, 1.8498, 1.8498, 1.8497, 1.8497, 1.8496, 1.8496, 1.8496, 1.8492, 1.8235, 1.5531, 3.4697, 3.4694, 3.4692, 3.4691, 3.4691, 3.4691, 3.469, 3.4686, 3.4685, 3.4685, 3.4685, 3.4683, 3.4682, 3.4679, 3.4678, 3.4677, 3.4675, 3.4675, 3.4675, 3.4675, 3.4672, 3.4671, 3.4671, 3.4671, 3.4669, 3.4668, 3.4666, 3.4665, 3.4665, 3.4665, 1.1179, 1.1178, 1.1178, 1.1177, 1.1177, 1.1177, 1.1177, 1.1177, 1.1177, 1.1177, 1.1176, 1.1176, 1.1176, 1.1176, 1.1175, 1.1175, 1.1175, 1.1175, 1.1175, 1.1174, 1.1174, 1.1174, 1.1174, 1.1174, 1.1174, 1.1173, 1.1173, 1.1173, 1.1173, 1.1173, 1.1133, 1.1151, 1.0984, 1.098, 1.0728, 1.0218, 1.0165, 1.5609, 1.5609, 1.5608, 1.5608, 1.5607, 1.5607, 1.5607, 1.5606, 1.5605, 1.5605, 1.5605, 1.5604, 1.5604, 1.5604, 1.5604, 1.5604, 1.5604, 1.5604, 1.5604, 1.5604, 1.5604, 1.5603, 1.5603, 1.5603, 1.5603, 1.5602, 1.5602, 1.5601, 1.5601, 1.5601, 1.5446, 1.523, 1.5226, 1.4399, 3.1369, 3.1367, 3.1365, 3.1363, 3.1361, 3.136, 3.1357, 3.1356, 3.1354, 3.1354, 3.1353, 3.1353, 3.1353, 3.1349, 3.1348, 3.1347, 3.1347, 3.1347, 3.1347, 3.1346, 3.1346, 3.1342, 3.1341, 3.134, 3.134, 3.1338, 3.1337, 3.1337, 3.1333, 3.133, 2.41, 2.41, 2.4099, 2.4099, 2.4097, 2.4097, 2.4097, 2.4096, 2.4096, 2.4096, 2.4096, 2.4096, 2.4094, 2.4093, 2.4093, 2.4093, 2.4093, 2.4092, 2.4092, 2.4092, 2.4092, 2.4088, 2.4088, 2.4088, 2.4087, 2.4085, 2.4084, 2.4084, 2.4084, 2.4082, 2.5455, 2.5455, 2.5454, 2.5454, 2.5453, 2.5452, 2.5452, 2.545, 2.5449, 2.5449, 2.5448, 2.5448, 2.5447, 2.5447, 2.5446, 2.5444, 2.5444, 2.5443, 2.5441, 2.5441, 2.544, 2.544, 2.5439, 2.5437, 2.5436, 2.5435, 2.5434, 2.5432, 2.5432, 2.5431, 2.7602, 2.7601, 2.7601, 2.7601, 2.76, 2.7599, 2.7599, 2.7596, 2.7596, 2.7596, 2.7594, 2.7592, 2.7592, 2.7591, 2.7591, 2.759, 2.759, 2.7588, 2.7586, 2.7586, 2.7586, 2.7586, 2.7584, 2.7584, 2.7581, 2.758, 2.7575, 2.7575, 2.7574, 2.7574, 2.685]}, \"token.table\": {\"Topic\": [2, 7, 3, 1, 7, 1, 4, 6, 5, 2, 5, 5, 2, 6, 1, 5, 3, 1, 6, 7, 8, 6, 7, 6, 8, 2, 2, 7, 8, 4, 8, 5, 8, 4, 2, 8, 5, 1, 3, 8, 6, 7, 7, 1, 2, 5, 6, 2, 5, 5, 2, 3, 1, 8, 1, 7, 4, 7, 4, 4, 4, 3, 6, 6, 8, 1, 4, 2, 3, 2, 6, 2, 7, 2, 4, 4, 1, 5, 3, 4, 8, 2, 4, 1, 5, 2, 2, 6, 6, 7, 3, 3, 8, 8, 8, 4, 7, 3, 7, 3, 6, 8, 4, 8, 8, 2, 7, 1, 6, 4, 1, 3, 1, 6, 1, 7, 3, 5, 3, 8, 8, 8, 7, 4, 1, 3, 1, 1, 5, 4, 4, 5, 5, 3, 6, 8, 8, 2, 1, 7, 5, 4, 4, 5, 3, 4, 7, 7, 5, 3, 6, 6, 3, 8, 5, 3, 8, 4, 2, 3, 8, 8, 3, 1, 2, 2, 3, 4, 7, 4, 4, 7, 7, 1, 3, 3, 3, 4, 6, 1, 2, 1, 4, 1, 5, 1, 4, 2, 1, 2, 2, 4, 3, 1, 3, 6, 7, 8, 6, 4, 7, 1, 8, 6, 5, 3, 5, 1, 2, 3, 3, 4, 2, 5, 1, 1, 7, 5, 5, 6, 6, 5, 1, 3, 4, 1, 3, 7, 6, 6, 7, 5, 3, 7, 7, 7, 1, 3, 3, 4, 4, 4, 4, 4, 8, 6, 8, 8, 5, 8, 6, 5, 1, 4, 2, 6, 3, 3, 3, 3, 1, 4, 3, 2, 1, 6, 4, 3, 5, 2], \"Freq\": [0.9957917594873187, 0.997737778281967, 0.9997863214228754, 0.9997118691640535, 0.9996028729790528, 0.998961424549492, 0.9990685223953678, 0.9986020470976676, 0.9982747559281905, 0.99570965291423, 0.999831089432327, 0.9993483548987747, 0.9941527012650457, 0.9993243814852076, 0.9996158987509561, 0.9944088144049315, 0.9993633924741779, 0.9995531614607044, 0.9996291438821928, 0.9989898018422869, 0.9990465514664473, 0.9992537445670403, 0.9994517488988798, 0.9987678704122607, 0.9996816363026203, 0.9957975468806308, 0.9988858336737153, 0.9987573365378207, 0.9995168867800699, 0.9993188623000553, 0.997560071319923, 0.9991518917141045, 0.9988624792040491, 0.9992317999937378, 0.9952573953850713, 0.998602488101768, 0.9980086864228491, 0.9996672540265198, 0.9995107768496074, 0.9997496398071404, 0.9991818821475658, 0.996118717142138, 0.9999114729710086, 0.9994420586959227, 0.9972654370359749, 0.9979564554003173, 0.9990802349962925, 0.9961574957557155, 0.9982256350676276, 0.9995649798122853, 0.9943223544291319, 0.9994245170882261, 0.9989905650548834, 0.9984877603764629, 0.9987537187795386, 0.9985643394167901, 0.9998740916601103, 0.9992621566187125, 0.9998654540661593, 0.9990580744414632, 0.9996768885205985, 0.9996928294275332, 0.9982338954115677, 0.9998336056573521, 0.9981673782003009, 0.9990800795340914, 0.9997072444837113, 0.9965863898289383, 0.9999045448071223, 0.9973851642450557, 0.999240743765926, 0.994234138965806, 0.9995926059064119, 0.9960139273713546, 0.9996482839911596, 0.9988534324087244, 0.9990726533759493, 0.9975689565119271, 0.997137282642553, 0.002706670148323977, 0.998217706608949, 0.9968569333579852, 0.9993287930381369, 0.9994660493372284, 0.9971142918028224, 0.9972957687174543, 0.994044604071129, 0.9991541151180626, 0.999844733775237, 0.9977414045881754, 0.9999797539875246, 0.9998204897477959, 0.999570030161414, 0.9987596862270592, 0.9987100637894516, 0.9994607651373918, 0.9967606111850894, 0.9996142906069132, 0.9968858714374782, 0.9994262098132539, 0.9973798248918031, 0.9993162200462167, 0.999607399547891, 0.999527912031788, 0.9995180530096651, 0.9961748969172716, 0.999620851111244, 0.9996543622518951, 0.9979474680190341, 0.9999034577053312, 0.9988267776202739, 0.9995469338078464, 0.99849051890841, 0.9993579872746836, 0.9997947566950109, 0.9973252758843315, 0.999650459289092, 0.9989598280457999, 0.9994975777080274, 0.9989382885036808, 0.9990461319607611, 0.9992431385131678, 0.9984188971343835, 0.99972970314542, 0.7426383107664518, 0.2573127176909557, 0.9993428239293165, 0.9997515097279669, 0.9967983583421903, 0.9992908166137519, 0.9998474398597074, 0.9983073395315009, 0.9968562483176812, 0.9997971439593291, 0.9996688788251495, 0.996769149100831, 0.9989841435053604, 0.9987266935591347, 0.9996845038584166, 0.9979385520537772, 0.996691955132657, 0.9994862645220419, 0.9999439099071955, 0.9988219479630922, 0.9557783853867609, 0.04396715856343911, 0.9984866333977558, 0.997803022428409, 0.9991454497937388, 0.9996969202273137, 0.9976799779089051, 0.9993520754978932, 0.07191325493931139, 0.9275342269723427, 0.998711237601325, 0.9993982510298959, 0.9992771161004157, 0.9999195880452522, 0.9990700754108244, 0.999487758182721, 0.9979557955190329, 0.9965387805700215, 0.9994295958581928, 0.9995272490918236, 0.9974633472701876, 0.9990273199649472, 0.9806115733212671, 0.019254017193065975, 0.9980373569904913, 0.9993769115621732, 0.9993465998026672, 0.9993412900248203, 0.9997463707458706, 0.9984737666355058, 0.001482780583389475, 0.9996547182960971, 0.9038278797253922, 0.09624789401401848, 0.9997287881155039, 0.9995409673923537, 0.9975320480623843, 0.9999031604959977, 0.9996892434999535, 0.9996942163324736, 0.9986354984646609, 0.9727939519511069, 0.026651889094550872, 0.9962706185150187, 0.9994714567176513, 0.9979035309706218, 0.9972958621826431, 0.9994925184974653, 0.999949507031588, 0.09139214423810325, 0.908448858893721, 0.998683383461265, 0.999591099469676, 0.9980673106940632, 0.9994695388830114, 0.9996442276228193, 0.999519646381841, 0.9994082239394815, 0.9997855794283959, 0.9998001329403835, 0.9980396687831219, 0.9992947353115941, 0.9958228573399979, 0.9990230339557737, 0.9975927713653998, 0.9998713964217878, 0.995457983616135, 0.004536717172908761, 0.9966294084457091, 0.9985123619771332, 0.9991404294984535, 0.9995947992086366, 0.9985459140721511, 0.9953658939131013, 0.9958586418429065, 0.9991485127570141, 0.9976590241301437, 0.9977124249282727, 0.9994718977674587, 0.03717475884013005, 0.9627867063435809, 0.9998637999396658, 0.9997335372817265, 0.9989470551531945, 0.9981615270042259, 0.997259700105572, 0.9991447924271626, 0.9986343083360039, 0.9999304024805131, 0.9995448417213483, 0.9985467907566199, 0.9976186229700676, 0.019640030286847316, 0.9802685704935263, 0.016190532732138108, 0.9837676079146774, 0.9993423406521394, 0.9994147728709729, 0.999775153550615, 0.9986751412222881, 0.9989360760179347, 0.9985029378390315, 0.9975474441206713, 0.9986992325742831, 0.9983261185951461, 0.9975837229647639, 0.9990749754443937, 0.9971937529014857, 0.113868216743154, 0.8861364576715839, 0.9973287454758291, 0.9992058456361352, 0.9996117480131168, 0.9997193936335742, 0.9998062847175285, 0.9997576978678664, 0.03701087645783991, 0.9622827879038377, 0.9997331751288346, 0.9973724009239078, 0.9992740907292704, 0.9995855890919908, 0.999186387710698, 0.9997878851858213, 0.9954474687461702, 0.9934326465804907], \"Term\": [\"addition\", \"apology\", \"appetizer\", \"area\", \"atmosphere\", \"attention\", \"attitude\", \"bacon\", \"bag\", \"band\", \"bar\", \"bartender\", \"batter\", \"beef\", \"beer\", \"beers\", \"bill\", \"bit\", \"bite\", \"bland\", \"bottle\", \"bowl\", \"box\", \"boyfriend\", \"bread\", \"broccoli\", \"buck\", \"bun\", \"burger\", \"business\", \"butter\", \"cake\", \"call\", \"card\", \"cart\", \"case\", \"chair\", \"charge\", \"check\", \"cheese\", \"chef\", \"chewy\", \"chicken\", \"chip\", \"chipotle\", \"chocolate\", \"choice\", \"closing\", \"cocktail\", \"coffee\", \"country\", \"couple\", \"crab\", \"crap\", \"cream\", \"crust\", \"customer\", \"daughter\", \"day\", \"delivery\", \"dining\", \"dinner\", \"disappointment\", \"dish\", \"dog\", \"dollar\", \"door\", \"dozen\", \"drink\", \"drive\", \"duck\", \"dude\", \"egg\", \"email\", \"employee\", \"end\", \"entree\", \"event\", \"experience\", \"experience\", \"eye\", \"face\", \"family\", \"fan\", \"fault\", \"feel\", \"fire\", \"fish\", \"flavor\", \"flavorless\", \"food\", \"friend\", \"fry\", \"game\", \"garlic\", \"girl\", \"girlfriend\", \"glass\", \"gravy\", \"group\", \"groupon\", \"guess\", \"guy\", \"half\", \"hand\", \"hill\", \"home\", \"hostess\", \"hotel\", \"hour\", \"house\", \"husband\", \"ice\", \"idea\", \"item\", \"joke\", \"kid\", \"kind\", \"kitchen\", \"lady\", \"lettuce\", \"line\", \"lobster\", \"location\", \"lot\", \"lot\", \"love\", \"lunch\", \"machine\", \"management\", \"manager\", \"market\", \"mcdonald\", \"meal\", \"meat\", \"mediocre\", \"meh\", \"member\", \"menu\", \"mess\", \"metal\", \"min\", \"minute\", \"mistake\", \"money\", \"money\", \"mouth\", \"mushroom\", \"name\", \"night\", \"none\", \"noodle\", \"oil\", \"oil\", \"olive\", \"onion\", \"option\", \"order\", \"other\", \"owner\", \"paper\", \"park\", \"party\", \"pasta\", \"pastry\", \"patron\", \"people\", \"people\", \"pepper\", \"person\", \"phone\", \"piece\", \"pizza\", \"place\", \"place\", \"plate\", \"point\", \"point\", \"pork\", \"portion\", \"presentation\", \"price\", \"problem\", \"quality\", \"raman\", \"reason\", \"reason\", \"recipe\", \"refill\", \"refund\", \"register\", \"reservation\", \"restaurant\", \"review\", \"review\", \"rib\", \"rice\", \"ring\", \"roll\", \"room\", \"salad\", \"salt\", \"sandwich\", \"sauce\", \"school\", \"seat\", \"see\", \"selection\", \"self\", \"server\", \"service\", \"service\", \"share\", \"shop\", \"shrimp\", \"side\", \"slice\", \"soda\", \"sort\", \"soup\", \"spice\", \"sport\", \"spot\", \"staff\", \"staff\", \"star\", \"steak\", \"store\", \"stuff\", \"style\", \"sub\", \"summer\", \"table\", \"taste\", \"tea\", \"tender\", \"thing\", \"thing\", \"time\", \"time\", \"times\", \"tip\", \"today\", \"tonight\", \"top\", \"town\", \"truck\", \"tuna\", \"tv\", \"vegan\", \"veggie\", \"vibe\", \"visit\", \"visit\", \"waffle\", \"wait\", \"waiter\", \"waitress\", \"water\", \"way\", \"week\", \"week\", \"wife\", \"window\", \"wine\", \"wing\", \"work\", \"year\", \"yesterday\", \"yuck\"]}, \"R\": 30, \"lambda.step\": 0.01, \"plot.opts\": {\"xlab\": \"PC1\", \"ylab\": \"PC2\"}, \"topic.order\": [1, 2, 3, 4, 5, 6, 7, 8]};\n",
              "\n",
              "function LDAvis_load_lib(url, callback){\n",
              "  var s = document.createElement('script');\n",
              "  s.src = url;\n",
              "  s.async = true;\n",
              "  s.onreadystatechange = s.onload = callback;\n",
              "  s.onerror = function(){console.warn(\"failed to load library \" + url);};\n",
              "  document.getElementsByTagName(\"head\")[0].appendChild(s);\n",
              "}\n",
              "\n",
              "if(typeof(LDAvis) !== \"undefined\"){\n",
              "   // already loaded: just create the visualization\n",
              "   !function(LDAvis){\n",
              "       new LDAvis(\"#\" + \"ldavis_el48371397387641873447981491263\", ldavis_el48371397387641873447981491263_data);\n",
              "   }(LDAvis);\n",
              "}else if(typeof define === \"function\" && define.amd){\n",
              "   // require.js is available: use it to load d3/LDAvis\n",
              "   require.config({paths: {d3: \"https://d3js.org/d3.v5\"}});\n",
              "   require([\"d3\"], function(d3){\n",
              "      window.d3 = d3;\n",
              "      LDAvis_load_lib(\"https://cdn.jsdelivr.net/gh/bmabey/pyLDAvis@3.3.1/pyLDAvis/js/ldavis.v3.0.0.js\", function(){\n",
              "        new LDAvis(\"#\" + \"ldavis_el48371397387641873447981491263\", ldavis_el48371397387641873447981491263_data);\n",
              "      });\n",
              "    });\n",
              "}else{\n",
              "    // require.js not available: dynamically load d3 & LDAvis\n",
              "    LDAvis_load_lib(\"https://d3js.org/d3.v5.js\", function(){\n",
              "         LDAvis_load_lib(\"https://cdn.jsdelivr.net/gh/bmabey/pyLDAvis@3.3.1/pyLDAvis/js/ldavis.v3.0.0.js\", function(){\n",
              "                 new LDAvis(\"#\" + \"ldavis_el48371397387641873447981491263\", ldavis_el48371397387641873447981491263_data);\n",
              "            })\n",
              "         });\n",
              "}\n",
              "</script>"
            ]
          },
          "metadata": {},
          "execution_count": 115
        }
      ],
      "source": [
        "# Visualize the topics\n",
        "#!pip install pyLDAvis\n",
        "import pyLDAvis\n",
        "import pyLDAvis.gensim_models\n",
        "pyLDAvis.enable_notebook()\n",
        "vis = pyLDAvis.gensim_models.prepare(model, corpus, dictionary=id2word, sort_topics = False)\n",
        "vis"
      ]
    },
    {
      "cell_type": "markdown",
      "source": [
        "### Ultime Remarque:  \n",
        "Les warnings sont bel et bien là sur le notebook de Colab, mais Colab affiche quand même les topics.  \n",
        "Apparemment ce n'est pas le cas sur Github.  \n",
        "Que faire? j'ai tenté pyLDAvis.show() et pyLDAvis.display() comme décrit ici: [Doc pyLDAvis](https://pyldavis.readthedocs.io/en/latest/modules/API.html) mais sans succès"
      ],
      "metadata": {
        "id": "Lt7VW7-BIG80"
      }
    }
  ],
  "metadata": {
    "colab": {
      "collapsed_sections": [],
      "name": "P06_NLP.ipynb",
      "provenance": [],
      "machine_shape": "hm"
    },
    "kernelspec": {
      "display_name": "Python 3 (ipykernel)",
      "language": "python",
      "name": "python3"
    },
    "language_info": {
      "codemirror_mode": {
        "name": "ipython",
        "version": 3
      },
      "file_extension": ".py",
      "mimetype": "text/x-python",
      "name": "python",
      "nbconvert_exporter": "python",
      "pygments_lexer": "ipython3",
      "version": "3.9.10"
    },
    "accelerator": "TPU"
  },
  "nbformat": 4,
  "nbformat_minor": 0
}