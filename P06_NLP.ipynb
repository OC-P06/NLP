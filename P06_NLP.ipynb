{
  "cells": [
    {
      "cell_type": "markdown",
      "metadata": {
        "id": "N8WXEyc07AMc"
      },
      "source": [
        "[![Open In Colab](https://colab.research.google.com/assets/colab-badge.svg)](https://github.com/OC-P06/NLP/blob/main/P06_NLP.ipynb)\n"
      ]
    },
    {
      "cell_type": "markdown",
      "metadata": {
        "tags": [],
        "id": "8kIi5iqt7AMf"
      },
      "source": [
        "# P06 - Avis Restau - Détecter les \"bad buzz\" laissés dans les commentaires concernant un restaurant"
      ]
    },
    {
      "cell_type": "markdown",
      "metadata": {
        "id": "qCm4GxES7AMg"
      },
      "source": [
        "# 0. Import des librairies"
      ]
    },
    {
      "cell_type": "code",
      "execution_count": 1,
      "metadata": {
        "id": "WuERQV37fwyf"
      },
      "outputs": [],
      "source": [
        "import pandas as pd\n",
        "import numpy as np\n",
        "pd.set_option('display.max_colwidth', 200)\n",
        "import warnings\n",
        "warnings.filterwarnings('ignore')"
      ]
    },
    {
      "cell_type": "code",
      "execution_count": 2,
      "metadata": {
        "id": "IiGoWiBSbuA0"
      },
      "outputs": [],
      "source": [
        "import json\n",
        "import tarfile\n",
        "import pickle"
      ]
    },
    {
      "cell_type": "code",
      "execution_count": 3,
      "metadata": {
        "id": "jnmOxWcM7AMh"
      },
      "outputs": [],
      "source": [
        "# Librairies à installer si besoin\n",
        "\n",
        "\n",
        "#!pip install nltk\n",
        "#!pip install spacy\n",
        "#!pip install gensim"
      ]
    },
    {
      "cell_type": "code",
      "execution_count": 4,
      "metadata": {
        "id": "k2XmcxQI7AMi"
      },
      "outputs": [],
      "source": [
        "# NLP\n",
        "import re\n",
        "import nltk\n",
        "#nltk.download()\n",
        "import spacy\n",
        "import gensim\n",
        "import pprint"
      ]
    },
    {
      "cell_type": "markdown",
      "metadata": {
        "id": "AXNkRPXK7AMi"
      },
      "source": [
        "# 1. Analyse et traitements des fichiers"
      ]
    },
    {
      "cell_type": "code",
      "execution_count": 5,
      "metadata": {
        "id": "e8py7OR77AMj"
      },
      "outputs": [],
      "source": [
        "#import os\n",
        "#path = ~/file\n",
        "#path"
      ]
    },
    {
      "cell_type": "code",
      "execution_count": 6,
      "metadata": {
        "id": "8C20YSF87AMj"
      },
      "outputs": [],
      "source": [
        "#my_tar = tarfile.open('yelp_dataset.tar'\n",
        "#my_tar.extractall()\n",
        "#my_tar.close()"
      ]
    },
    {
      "cell_type": "markdown",
      "metadata": {
        "id": "ACrqwLzl7AMj"
      },
      "source": [
        "Après cette étape de décompression, nous nous retrouvons avec 5 fichiers:"
      ]
    },
    {
      "cell_type": "code",
      "source": [
        "# Mount data from drive\n",
        "from google.colab import drive\n",
        "drive.mount('/content/drive')"
      ],
      "metadata": {
        "colab": {
          "base_uri": "https://localhost:8080/"
        },
        "id": "fxbUJEl_7uM4",
        "outputId": "f6cff6cd-90d4-489f-b2d6-b41d060664b3"
      },
      "execution_count": 7,
      "outputs": [
        {
          "output_type": "stream",
          "name": "stdout",
          "text": [
            "Mounted at /content/drive\n"
          ]
        }
      ]
    },
    {
      "cell_type": "markdown",
      "source": [
        "## ATTENTION:  \n",
        "D'après ce que j'ai pu/cru comprendre, **il faut d'abord créer un raccourci vers \"My Drive\"** à partir du dossier partagé \"Shared Colab Notebooks\" pour que la cellule suivante fonctionne"
      ],
      "metadata": {
        "id": "ob1S7MK8HLRd"
      }
    },
    {
      "cell_type": "code",
      "source": [
        "%cd /content/drive/MyDrive/Shared_Colab_Notebooks/P06_NLP"
      ],
      "metadata": {
        "colab": {
          "base_uri": "https://localhost:8080/"
        },
        "id": "Gh4ZWDAKGWRT",
        "outputId": "6675b87d-b43e-42fb-9164-123496e90b62"
      },
      "execution_count": 86,
      "outputs": [
        {
          "output_type": "stream",
          "name": "stdout",
          "text": [
            "/content/drive/MyDrive/Shared_Colab_Notebooks/P06_NLP\n"
          ]
        }
      ]
    },
    {
      "cell_type": "code",
      "execution_count": 87,
      "metadata": {
        "id": "BhgvsJZF66zN"
      },
      "outputs": [],
      "source": [
        "file_business = 'yelp_academic_dataset_business.json'\n",
        "file_checking = 'yelp_academic_dataset_checkin.json'\n",
        "file_review = 'yelp_academic_dataset_review.json'\n",
        "file_tip = 'yelp_academic_dataset_tip.json'\n",
        "file_user = 'yelp_academic_dataset_user.json'"
      ]
    },
    {
      "cell_type": "markdown",
      "metadata": {
        "id": "-QscLEB_7AMk"
      },
      "source": [
        "Je commence par regarder la nature de chaque fichier (les différentes variables) pour voir quelles seront les informations à conserver dans le cadre de mon travail, à savoir de détecter les \"bad buzz\" concernant chaque restaurant.  \n",
        "Cela passera par deux aspects:  \n",
        "    - identifier les établissements qui sont bel et bien des restaurants.  \n",
        "    - trier les bons et mauvais avis en fonction de chaque note. Cette dernière allant de 1 à 5, je me limiterai aux avis ayant une note égale à 1 ou 2  \n",
        "Une fois cela fait, alors je pourrai me pencher plus en détail sur les commentiares en question"
      ]
    },
    {
      "cell_type": "markdown",
      "metadata": {
        "id": "BHsGfDXf7AMk"
      },
      "source": [
        "Déjà, j'en regarde la longueur. En effet, sachant que l'ensemble des 5 fichiers prend plus de 10 Go en mémoire, il est plus que probable qu'il faudra ne garder qu'une portion de chaque fichier"
      ]
    },
    {
      "cell_type": "code",
      "execution_count": 88,
      "metadata": {
        "id": "fSA0rMMz7AMl"
      },
      "outputs": [],
      "source": [
        "def count_line_file(file):\n",
        "    line_count = 0\n",
        "    with open(file, 'r') as f:\n",
        "        while f.readline():\n",
        "            line_count+=1\n",
        "    return line_count"
      ]
    },
    {
      "cell_type": "code",
      "execution_count": 11,
      "metadata": {
        "colab": {
          "base_uri": "https://localhost:8080/"
        },
        "id": "xDwNqT1B7AMl",
        "outputId": "fba7dd7f-c9b7-40b9-e33f-1dffebd534bf"
      },
      "outputs": [
        {
          "output_type": "execute_result",
          "data": {
            "text/plain": [
              "160585"
            ]
          },
          "metadata": {},
          "execution_count": 11
        }
      ],
      "source": [
        "count_line_file(file_business)"
      ]
    },
    {
      "cell_type": "code",
      "execution_count": 12,
      "metadata": {
        "colab": {
          "base_uri": "https://localhost:8080/"
        },
        "id": "gv7O0Mm17AMl",
        "outputId": "e43eeb5b-54ba-489e-eb95-e0cb16359f0d"
      },
      "outputs": [
        {
          "output_type": "stream",
          "name": "stdout",
          "text": [
            "le fichier business possède 160585 lignes\n",
            "le fichier checking possède 138876 lignes\n",
            "le fichier review possède 8635403 lignes\n",
            "le fichier tip possède 1162119 lignes\n",
            "le fichier user possède 2189457 lignes\n"
          ]
        }
      ],
      "source": [
        "print('le fichier business possède',count_line_file(file_business), 'lignes')\n",
        "print('le fichier checking possède',count_line_file(file_checking), 'lignes')\n",
        "print('le fichier review possède',count_line_file(file_review), 'lignes')\n",
        "print('le fichier tip possède',count_line_file(file_tip), 'lignes')\n",
        "print('le fichier user possède',count_line_file(file_user), 'lignes')"
      ]
    },
    {
      "cell_type": "markdown",
      "metadata": {
        "id": "Q2wLHT347AMl"
      },
      "source": [
        "On voit qu'il y a 3 fichiers très volumineux (review, tip et user) qui, chacun, possède plus d'1 million de lignes; Nous n'allons garder que 500 000 lignes maximum de chacun"
      ]
    },
    {
      "cell_type": "code",
      "source": [
        "### Je définis une fonction qui me permettra d'obtenir les n premières lignes d'un fichier et de les convertir dans un dataframe:\n",
        "### cela me permettra de voir les informations importantes de chaque fichier (les variables) pour savoir lesquelles utiliser par la suite\n",
        "\n",
        "def first_n_lines_of_file_to_df(file, n):\n",
        "    liste=[]\n",
        "    df = pd.DataFrame()\n",
        "    with open(file, 'r') as f1:\n",
        "        f2 = open('new_file.txt', 'a')\n",
        "        for i in range(n):\n",
        "            line = f1.readline()\n",
        "            f2.write(line)\n",
        "            dico =json.loads(line)\n",
        "            liste.append(dico)\n",
        "        f2.close()\n",
        "        f = 'new_file.txt'\n",
        "        df = pd.DataFrame(liste)\n",
        "    return df"
      ],
      "metadata": {
        "id": "YwaTZqndL1CG"
      },
      "execution_count": 13,
      "outputs": []
    },
    {
      "cell_type": "code",
      "source": [
        "df_file_business_5_lines = first_n_lines_of_file_to_df(file_business, 5)\n",
        "df_file_business_5_lines"
      ],
      "metadata": {
        "colab": {
          "base_uri": "https://localhost:8080/",
          "height": 1000
        },
        "id": "gV2m-HzqMpZx",
        "outputId": "a0a75416-91b3-4686-c101-efad27f19d11"
      },
      "execution_count": 14,
      "outputs": [
        {
          "output_type": "execute_result",
          "data": {
            "text/plain": [
              "              business_id                     name              address  \\\n",
              "0  6iYb2HFDywm3zjuRg0shjw      Oskar Blues Taproom         921 Pearl St   \n",
              "1  tCbdrRPZA0oiIYSmHG3J0w  Flying Elephants at PDX  7000 NE Airport Way   \n",
              "2  bvN78flM8NLprQ1a1y5dRg           The Reclaimory   4720 Hawthorne Ave   \n",
              "3  oaepsyvc0J17qwi8cfrOWg              Great Clips   2566 Enterprise Rd   \n",
              "4  PE9uqAjdw0E4-8mjGl3wVA        Crossfit Terminus  1046 Memorial Dr SE   \n",
              "\n",
              "          city state postal_code   latitude   longitude  stars  review_count  \\\n",
              "0      Boulder    CO       80302  40.017544 -105.283348    4.0            86   \n",
              "1     Portland    OR       97218  45.588906 -122.593331    4.0           126   \n",
              "2     Portland    OR       97214  45.511907 -122.613693    4.5            13   \n",
              "3  Orange City    FL       32763  28.914482  -81.295979    3.0             8   \n",
              "4      Atlanta    GA       30316  33.747027  -84.353424    4.0            14   \n",
              "\n",
              "   is_open  \\\n",
              "0        1   \n",
              "1        1   \n",
              "2        1   \n",
              "3        1   \n",
              "4        1   \n",
              "\n",
              "                                                                                                                                                                                                attributes  \\\n",
              "0  {'RestaurantsTableService': 'True', 'WiFi': 'u'free'', 'BikeParking': 'True', 'BusinessParking': '{'garage': False, 'street': True, 'validated': False, 'lot': False, 'valet': False}', 'BusinessAcc...   \n",
              "1  {'RestaurantsTakeOut': 'True', 'RestaurantsAttire': 'u'casual'', 'GoodForKids': 'True', 'BikeParking': 'False', 'OutdoorSeating': 'False', 'Ambience': '{'romantic': False, 'intimate': False, 'tour...   \n",
              "2  {'BusinessAcceptsCreditCards': 'True', 'RestaurantsPriceRange2': '2', 'ByAppointmentOnly': 'False', 'BikeParking': 'False', 'BusinessParking': '{'garage': False, 'street': True, 'validated': False...   \n",
              "3                                                                               {'RestaurantsPriceRange2': '1', 'BusinessAcceptsCreditCards': 'True', 'GoodForKids': 'True', 'ByAppointmentOnly': 'False'}   \n",
              "4                                {'GoodForKids': 'False', 'BusinessParking': '{'garage': False, 'street': False, 'validated': False, 'lot': False, 'valet': False}', 'BusinessAcceptsCreditCards': 'True'}   \n",
              "\n",
              "                                                                                                  categories  \\\n",
              "0  Gastropubs, Food, Beer Gardens, Restaurants, Bars, American (Traditional), Beer Bar, Nightlife, Breweries   \n",
              "1                                             Salad, Soup, Sandwiches, Delis, Restaurants, Cafes, Vegetarian   \n",
              "2                  Antiques, Fashion, Used, Vintage & Consignment, Shopping, Furniture Stores, Home & Garden   \n",
              "3                                                                                 Beauty & Spas, Hair Salons   \n",
              "4                                           Gyms, Active Life, Interval Training Gyms, Fitness & Instruction   \n",
              "\n",
              "                                                                                                                                                                       hours  \n",
              "0  {'Monday': '11:0-23:0', 'Tuesday': '11:0-23:0', 'Wednesday': '11:0-23:0', 'Thursday': '11:0-23:0', 'Friday': '11:0-23:0', 'Saturday': '11:0-23:0', 'Sunday': '11:0-23:0'}  \n",
              "1         {'Monday': '5:0-18:0', 'Tuesday': '5:0-17:0', 'Wednesday': '5:0-18:0', 'Thursday': '5:0-18:0', 'Friday': '5:0-18:0', 'Saturday': '5:0-18:0', 'Sunday': '5:0-18:0'}  \n",
              "2                                                                           {'Thursday': '11:0-18:0', 'Friday': '11:0-18:0', 'Saturday': '11:0-18:0', 'Sunday': '11:0-18:0'}  \n",
              "3                                                                                                                                                                       None  \n",
              "4                          {'Monday': '16:0-19:0', 'Tuesday': '16:0-19:0', 'Wednesday': '16:0-19:0', 'Thursday': '16:0-19:0', 'Friday': '16:0-19:0', 'Saturday': '9:0-11:0'}  "
            ],
            "text/html": [
              "\n",
              "  <div id=\"df-42a45914-53e5-4d2f-bbb7-dedfbb225bcb\">\n",
              "    <div class=\"colab-df-container\">\n",
              "      <div>\n",
              "<style scoped>\n",
              "    .dataframe tbody tr th:only-of-type {\n",
              "        vertical-align: middle;\n",
              "    }\n",
              "\n",
              "    .dataframe tbody tr th {\n",
              "        vertical-align: top;\n",
              "    }\n",
              "\n",
              "    .dataframe thead th {\n",
              "        text-align: right;\n",
              "    }\n",
              "</style>\n",
              "<table border=\"1\" class=\"dataframe\">\n",
              "  <thead>\n",
              "    <tr style=\"text-align: right;\">\n",
              "      <th></th>\n",
              "      <th>business_id</th>\n",
              "      <th>name</th>\n",
              "      <th>address</th>\n",
              "      <th>city</th>\n",
              "      <th>state</th>\n",
              "      <th>postal_code</th>\n",
              "      <th>latitude</th>\n",
              "      <th>longitude</th>\n",
              "      <th>stars</th>\n",
              "      <th>review_count</th>\n",
              "      <th>is_open</th>\n",
              "      <th>attributes</th>\n",
              "      <th>categories</th>\n",
              "      <th>hours</th>\n",
              "    </tr>\n",
              "  </thead>\n",
              "  <tbody>\n",
              "    <tr>\n",
              "      <th>0</th>\n",
              "      <td>6iYb2HFDywm3zjuRg0shjw</td>\n",
              "      <td>Oskar Blues Taproom</td>\n",
              "      <td>921 Pearl St</td>\n",
              "      <td>Boulder</td>\n",
              "      <td>CO</td>\n",
              "      <td>80302</td>\n",
              "      <td>40.017544</td>\n",
              "      <td>-105.283348</td>\n",
              "      <td>4.0</td>\n",
              "      <td>86</td>\n",
              "      <td>1</td>\n",
              "      <td>{'RestaurantsTableService': 'True', 'WiFi': 'u'free'', 'BikeParking': 'True', 'BusinessParking': '{'garage': False, 'street': True, 'validated': False, 'lot': False, 'valet': False}', 'BusinessAcc...</td>\n",
              "      <td>Gastropubs, Food, Beer Gardens, Restaurants, Bars, American (Traditional), Beer Bar, Nightlife, Breweries</td>\n",
              "      <td>{'Monday': '11:0-23:0', 'Tuesday': '11:0-23:0', 'Wednesday': '11:0-23:0', 'Thursday': '11:0-23:0', 'Friday': '11:0-23:0', 'Saturday': '11:0-23:0', 'Sunday': '11:0-23:0'}</td>\n",
              "    </tr>\n",
              "    <tr>\n",
              "      <th>1</th>\n",
              "      <td>tCbdrRPZA0oiIYSmHG3J0w</td>\n",
              "      <td>Flying Elephants at PDX</td>\n",
              "      <td>7000 NE Airport Way</td>\n",
              "      <td>Portland</td>\n",
              "      <td>OR</td>\n",
              "      <td>97218</td>\n",
              "      <td>45.588906</td>\n",
              "      <td>-122.593331</td>\n",
              "      <td>4.0</td>\n",
              "      <td>126</td>\n",
              "      <td>1</td>\n",
              "      <td>{'RestaurantsTakeOut': 'True', 'RestaurantsAttire': 'u'casual'', 'GoodForKids': 'True', 'BikeParking': 'False', 'OutdoorSeating': 'False', 'Ambience': '{'romantic': False, 'intimate': False, 'tour...</td>\n",
              "      <td>Salad, Soup, Sandwiches, Delis, Restaurants, Cafes, Vegetarian</td>\n",
              "      <td>{'Monday': '5:0-18:0', 'Tuesday': '5:0-17:0', 'Wednesday': '5:0-18:0', 'Thursday': '5:0-18:0', 'Friday': '5:0-18:0', 'Saturday': '5:0-18:0', 'Sunday': '5:0-18:0'}</td>\n",
              "    </tr>\n",
              "    <tr>\n",
              "      <th>2</th>\n",
              "      <td>bvN78flM8NLprQ1a1y5dRg</td>\n",
              "      <td>The Reclaimory</td>\n",
              "      <td>4720 Hawthorne Ave</td>\n",
              "      <td>Portland</td>\n",
              "      <td>OR</td>\n",
              "      <td>97214</td>\n",
              "      <td>45.511907</td>\n",
              "      <td>-122.613693</td>\n",
              "      <td>4.5</td>\n",
              "      <td>13</td>\n",
              "      <td>1</td>\n",
              "      <td>{'BusinessAcceptsCreditCards': 'True', 'RestaurantsPriceRange2': '2', 'ByAppointmentOnly': 'False', 'BikeParking': 'False', 'BusinessParking': '{'garage': False, 'street': True, 'validated': False...</td>\n",
              "      <td>Antiques, Fashion, Used, Vintage &amp; Consignment, Shopping, Furniture Stores, Home &amp; Garden</td>\n",
              "      <td>{'Thursday': '11:0-18:0', 'Friday': '11:0-18:0', 'Saturday': '11:0-18:0', 'Sunday': '11:0-18:0'}</td>\n",
              "    </tr>\n",
              "    <tr>\n",
              "      <th>3</th>\n",
              "      <td>oaepsyvc0J17qwi8cfrOWg</td>\n",
              "      <td>Great Clips</td>\n",
              "      <td>2566 Enterprise Rd</td>\n",
              "      <td>Orange City</td>\n",
              "      <td>FL</td>\n",
              "      <td>32763</td>\n",
              "      <td>28.914482</td>\n",
              "      <td>-81.295979</td>\n",
              "      <td>3.0</td>\n",
              "      <td>8</td>\n",
              "      <td>1</td>\n",
              "      <td>{'RestaurantsPriceRange2': '1', 'BusinessAcceptsCreditCards': 'True', 'GoodForKids': 'True', 'ByAppointmentOnly': 'False'}</td>\n",
              "      <td>Beauty &amp; Spas, Hair Salons</td>\n",
              "      <td>None</td>\n",
              "    </tr>\n",
              "    <tr>\n",
              "      <th>4</th>\n",
              "      <td>PE9uqAjdw0E4-8mjGl3wVA</td>\n",
              "      <td>Crossfit Terminus</td>\n",
              "      <td>1046 Memorial Dr SE</td>\n",
              "      <td>Atlanta</td>\n",
              "      <td>GA</td>\n",
              "      <td>30316</td>\n",
              "      <td>33.747027</td>\n",
              "      <td>-84.353424</td>\n",
              "      <td>4.0</td>\n",
              "      <td>14</td>\n",
              "      <td>1</td>\n",
              "      <td>{'GoodForKids': 'False', 'BusinessParking': '{'garage': False, 'street': False, 'validated': False, 'lot': False, 'valet': False}', 'BusinessAcceptsCreditCards': 'True'}</td>\n",
              "      <td>Gyms, Active Life, Interval Training Gyms, Fitness &amp; Instruction</td>\n",
              "      <td>{'Monday': '16:0-19:0', 'Tuesday': '16:0-19:0', 'Wednesday': '16:0-19:0', 'Thursday': '16:0-19:0', 'Friday': '16:0-19:0', 'Saturday': '9:0-11:0'}</td>\n",
              "    </tr>\n",
              "  </tbody>\n",
              "</table>\n",
              "</div>\n",
              "      <button class=\"colab-df-convert\" onclick=\"convertToInteractive('df-42a45914-53e5-4d2f-bbb7-dedfbb225bcb')\"\n",
              "              title=\"Convert this dataframe to an interactive table.\"\n",
              "              style=\"display:none;\">\n",
              "        \n",
              "  <svg xmlns=\"http://www.w3.org/2000/svg\" height=\"24px\"viewBox=\"0 0 24 24\"\n",
              "       width=\"24px\">\n",
              "    <path d=\"M0 0h24v24H0V0z\" fill=\"none\"/>\n",
              "    <path d=\"M18.56 5.44l.94 2.06.94-2.06 2.06-.94-2.06-.94-.94-2.06-.94 2.06-2.06.94zm-11 1L8.5 8.5l.94-2.06 2.06-.94-2.06-.94L8.5 2.5l-.94 2.06-2.06.94zm10 10l.94 2.06.94-2.06 2.06-.94-2.06-.94-.94-2.06-.94 2.06-2.06.94z\"/><path d=\"M17.41 7.96l-1.37-1.37c-.4-.4-.92-.59-1.43-.59-.52 0-1.04.2-1.43.59L10.3 9.45l-7.72 7.72c-.78.78-.78 2.05 0 2.83L4 21.41c.39.39.9.59 1.41.59.51 0 1.02-.2 1.41-.59l7.78-7.78 2.81-2.81c.8-.78.8-2.07 0-2.86zM5.41 20L4 18.59l7.72-7.72 1.47 1.35L5.41 20z\"/>\n",
              "  </svg>\n",
              "      </button>\n",
              "      \n",
              "  <style>\n",
              "    .colab-df-container {\n",
              "      display:flex;\n",
              "      flex-wrap:wrap;\n",
              "      gap: 12px;\n",
              "    }\n",
              "\n",
              "    .colab-df-convert {\n",
              "      background-color: #E8F0FE;\n",
              "      border: none;\n",
              "      border-radius: 50%;\n",
              "      cursor: pointer;\n",
              "      display: none;\n",
              "      fill: #1967D2;\n",
              "      height: 32px;\n",
              "      padding: 0 0 0 0;\n",
              "      width: 32px;\n",
              "    }\n",
              "\n",
              "    .colab-df-convert:hover {\n",
              "      background-color: #E2EBFA;\n",
              "      box-shadow: 0px 1px 2px rgba(60, 64, 67, 0.3), 0px 1px 3px 1px rgba(60, 64, 67, 0.15);\n",
              "      fill: #174EA6;\n",
              "    }\n",
              "\n",
              "    [theme=dark] .colab-df-convert {\n",
              "      background-color: #3B4455;\n",
              "      fill: #D2E3FC;\n",
              "    }\n",
              "\n",
              "    [theme=dark] .colab-df-convert:hover {\n",
              "      background-color: #434B5C;\n",
              "      box-shadow: 0px 1px 3px 1px rgba(0, 0, 0, 0.15);\n",
              "      filter: drop-shadow(0px 1px 2px rgba(0, 0, 0, 0.3));\n",
              "      fill: #FFFFFF;\n",
              "    }\n",
              "  </style>\n",
              "\n",
              "      <script>\n",
              "        const buttonEl =\n",
              "          document.querySelector('#df-42a45914-53e5-4d2f-bbb7-dedfbb225bcb button.colab-df-convert');\n",
              "        buttonEl.style.display =\n",
              "          google.colab.kernel.accessAllowed ? 'block' : 'none';\n",
              "\n",
              "        async function convertToInteractive(key) {\n",
              "          const element = document.querySelector('#df-42a45914-53e5-4d2f-bbb7-dedfbb225bcb');\n",
              "          const dataTable =\n",
              "            await google.colab.kernel.invokeFunction('convertToInteractive',\n",
              "                                                     [key], {});\n",
              "          if (!dataTable) return;\n",
              "\n",
              "          const docLinkHtml = 'Like what you see? Visit the ' +\n",
              "            '<a target=\"_blank\" href=https://colab.research.google.com/notebooks/data_table.ipynb>data table notebook</a>'\n",
              "            + ' to learn more about interactive tables.';\n",
              "          element.innerHTML = '';\n",
              "          dataTable['output_type'] = 'display_data';\n",
              "          await google.colab.output.renderOutput(dataTable, element);\n",
              "          const docLink = document.createElement('div');\n",
              "          docLink.innerHTML = docLinkHtml;\n",
              "          element.appendChild(docLink);\n",
              "        }\n",
              "      </script>\n",
              "    </div>\n",
              "  </div>\n",
              "  "
            ]
          },
          "metadata": {},
          "execution_count": 14
        }
      ]
    },
    {
      "cell_type": "code",
      "source": [
        "df_file_checking_5_lines = first_n_lines_of_file_to_df(file_checking, 5)\n",
        "df_file_checking_5_lines"
      ],
      "metadata": {
        "colab": {
          "base_uri": "https://localhost:8080/",
          "height": 302
        },
        "id": "ClyxqrTbMqKk",
        "outputId": "682facc0-a4cf-4cf6-d142-b63e1b03406e"
      },
      "execution_count": 15,
      "outputs": [
        {
          "output_type": "execute_result",
          "data": {
            "text/plain": [
              "              business_id  \\\n",
              "0  --0r8K_AQ4FZfLsX3ZYRDA   \n",
              "1  --0zrn43LEaB4jUWTQH_Bg   \n",
              "2  --164t1nclzzmca7eDiJMw   \n",
              "3  --2aF9NhXnNVpDV0KS3xBQ   \n",
              "4  --2mEJ63SC_8_08_jGgVIg   \n",
              "\n",
              "                                                                                                                                                                                                      date  \n",
              "0                                                                                                                                                                                      2017-09-03 17:13:59  \n",
              "1              2010-10-08 22:21:20, 2010-11-01 21:29:14, 2010-12-23 22:55:45, 2011-04-08 17:14:59, 2011-04-11 21:28:45, 2011-04-26 16:42:25, 2011-05-20 19:30:57, 2011-05-24 20:02:21, 2011-08-29 19:01:31  \n",
              "2  2010-02-26 02:06:53, 2010-02-27 08:00:09, 2010-03-04 02:00:59, 2010-03-11 01:24:46, 2010-03-17 02:29:17, 2010-03-19 03:33:40, 2010-03-27 01:26:31, 2010-04-07 20:08:52, 2010-04-12 19:03:33, 2010-04...  \n",
              "3                                   2014-11-03 16:35:35, 2015-01-30 18:16:03, 2015-03-16 18:45:30, 2016-08-25 15:42:01, 2017-03-27 20:32:57, 2018-02-12 23:13:56, 2019-04-22 19:34:48, 2020-12-29 16:22:00  \n",
              "4                                                                                                                       2010-12-15 17:10:46, 2013-12-28 00:27:54, 2015-10-18 00:43:55, 2016-06-11 19:56:11  "
            ],
            "text/html": [
              "\n",
              "  <div id=\"df-b6338dc5-29e2-4888-aca2-ff98a8fdeb01\">\n",
              "    <div class=\"colab-df-container\">\n",
              "      <div>\n",
              "<style scoped>\n",
              "    .dataframe tbody tr th:only-of-type {\n",
              "        vertical-align: middle;\n",
              "    }\n",
              "\n",
              "    .dataframe tbody tr th {\n",
              "        vertical-align: top;\n",
              "    }\n",
              "\n",
              "    .dataframe thead th {\n",
              "        text-align: right;\n",
              "    }\n",
              "</style>\n",
              "<table border=\"1\" class=\"dataframe\">\n",
              "  <thead>\n",
              "    <tr style=\"text-align: right;\">\n",
              "      <th></th>\n",
              "      <th>business_id</th>\n",
              "      <th>date</th>\n",
              "    </tr>\n",
              "  </thead>\n",
              "  <tbody>\n",
              "    <tr>\n",
              "      <th>0</th>\n",
              "      <td>--0r8K_AQ4FZfLsX3ZYRDA</td>\n",
              "      <td>2017-09-03 17:13:59</td>\n",
              "    </tr>\n",
              "    <tr>\n",
              "      <th>1</th>\n",
              "      <td>--0zrn43LEaB4jUWTQH_Bg</td>\n",
              "      <td>2010-10-08 22:21:20, 2010-11-01 21:29:14, 2010-12-23 22:55:45, 2011-04-08 17:14:59, 2011-04-11 21:28:45, 2011-04-26 16:42:25, 2011-05-20 19:30:57, 2011-05-24 20:02:21, 2011-08-29 19:01:31</td>\n",
              "    </tr>\n",
              "    <tr>\n",
              "      <th>2</th>\n",
              "      <td>--164t1nclzzmca7eDiJMw</td>\n",
              "      <td>2010-02-26 02:06:53, 2010-02-27 08:00:09, 2010-03-04 02:00:59, 2010-03-11 01:24:46, 2010-03-17 02:29:17, 2010-03-19 03:33:40, 2010-03-27 01:26:31, 2010-04-07 20:08:52, 2010-04-12 19:03:33, 2010-04...</td>\n",
              "    </tr>\n",
              "    <tr>\n",
              "      <th>3</th>\n",
              "      <td>--2aF9NhXnNVpDV0KS3xBQ</td>\n",
              "      <td>2014-11-03 16:35:35, 2015-01-30 18:16:03, 2015-03-16 18:45:30, 2016-08-25 15:42:01, 2017-03-27 20:32:57, 2018-02-12 23:13:56, 2019-04-22 19:34:48, 2020-12-29 16:22:00</td>\n",
              "    </tr>\n",
              "    <tr>\n",
              "      <th>4</th>\n",
              "      <td>--2mEJ63SC_8_08_jGgVIg</td>\n",
              "      <td>2010-12-15 17:10:46, 2013-12-28 00:27:54, 2015-10-18 00:43:55, 2016-06-11 19:56:11</td>\n",
              "    </tr>\n",
              "  </tbody>\n",
              "</table>\n",
              "</div>\n",
              "      <button class=\"colab-df-convert\" onclick=\"convertToInteractive('df-b6338dc5-29e2-4888-aca2-ff98a8fdeb01')\"\n",
              "              title=\"Convert this dataframe to an interactive table.\"\n",
              "              style=\"display:none;\">\n",
              "        \n",
              "  <svg xmlns=\"http://www.w3.org/2000/svg\" height=\"24px\"viewBox=\"0 0 24 24\"\n",
              "       width=\"24px\">\n",
              "    <path d=\"M0 0h24v24H0V0z\" fill=\"none\"/>\n",
              "    <path d=\"M18.56 5.44l.94 2.06.94-2.06 2.06-.94-2.06-.94-.94-2.06-.94 2.06-2.06.94zm-11 1L8.5 8.5l.94-2.06 2.06-.94-2.06-.94L8.5 2.5l-.94 2.06-2.06.94zm10 10l.94 2.06.94-2.06 2.06-.94-2.06-.94-.94-2.06-.94 2.06-2.06.94z\"/><path d=\"M17.41 7.96l-1.37-1.37c-.4-.4-.92-.59-1.43-.59-.52 0-1.04.2-1.43.59L10.3 9.45l-7.72 7.72c-.78.78-.78 2.05 0 2.83L4 21.41c.39.39.9.59 1.41.59.51 0 1.02-.2 1.41-.59l7.78-7.78 2.81-2.81c.8-.78.8-2.07 0-2.86zM5.41 20L4 18.59l7.72-7.72 1.47 1.35L5.41 20z\"/>\n",
              "  </svg>\n",
              "      </button>\n",
              "      \n",
              "  <style>\n",
              "    .colab-df-container {\n",
              "      display:flex;\n",
              "      flex-wrap:wrap;\n",
              "      gap: 12px;\n",
              "    }\n",
              "\n",
              "    .colab-df-convert {\n",
              "      background-color: #E8F0FE;\n",
              "      border: none;\n",
              "      border-radius: 50%;\n",
              "      cursor: pointer;\n",
              "      display: none;\n",
              "      fill: #1967D2;\n",
              "      height: 32px;\n",
              "      padding: 0 0 0 0;\n",
              "      width: 32px;\n",
              "    }\n",
              "\n",
              "    .colab-df-convert:hover {\n",
              "      background-color: #E2EBFA;\n",
              "      box-shadow: 0px 1px 2px rgba(60, 64, 67, 0.3), 0px 1px 3px 1px rgba(60, 64, 67, 0.15);\n",
              "      fill: #174EA6;\n",
              "    }\n",
              "\n",
              "    [theme=dark] .colab-df-convert {\n",
              "      background-color: #3B4455;\n",
              "      fill: #D2E3FC;\n",
              "    }\n",
              "\n",
              "    [theme=dark] .colab-df-convert:hover {\n",
              "      background-color: #434B5C;\n",
              "      box-shadow: 0px 1px 3px 1px rgba(0, 0, 0, 0.15);\n",
              "      filter: drop-shadow(0px 1px 2px rgba(0, 0, 0, 0.3));\n",
              "      fill: #FFFFFF;\n",
              "    }\n",
              "  </style>\n",
              "\n",
              "      <script>\n",
              "        const buttonEl =\n",
              "          document.querySelector('#df-b6338dc5-29e2-4888-aca2-ff98a8fdeb01 button.colab-df-convert');\n",
              "        buttonEl.style.display =\n",
              "          google.colab.kernel.accessAllowed ? 'block' : 'none';\n",
              "\n",
              "        async function convertToInteractive(key) {\n",
              "          const element = document.querySelector('#df-b6338dc5-29e2-4888-aca2-ff98a8fdeb01');\n",
              "          const dataTable =\n",
              "            await google.colab.kernel.invokeFunction('convertToInteractive',\n",
              "                                                     [key], {});\n",
              "          if (!dataTable) return;\n",
              "\n",
              "          const docLinkHtml = 'Like what you see? Visit the ' +\n",
              "            '<a target=\"_blank\" href=https://colab.research.google.com/notebooks/data_table.ipynb>data table notebook</a>'\n",
              "            + ' to learn more about interactive tables.';\n",
              "          element.innerHTML = '';\n",
              "          dataTable['output_type'] = 'display_data';\n",
              "          await google.colab.output.renderOutput(dataTable, element);\n",
              "          const docLink = document.createElement('div');\n",
              "          docLink.innerHTML = docLinkHtml;\n",
              "          element.appendChild(docLink);\n",
              "        }\n",
              "      </script>\n",
              "    </div>\n",
              "  </div>\n",
              "  "
            ]
          },
          "metadata": {},
          "execution_count": 15
        }
      ]
    },
    {
      "cell_type": "code",
      "source": [
        "df_file_review_5_lines = first_n_lines_of_file_to_df(file_review, 5)\n",
        "df_file_review_5_lines"
      ],
      "metadata": {
        "colab": {
          "base_uri": "https://localhost:8080/",
          "height": 424
        },
        "id": "tNC2abevMqo8",
        "outputId": "e3139c2a-2717-4b90-c0ef-f017b22e40c4"
      },
      "execution_count": 16,
      "outputs": [
        {
          "output_type": "execute_result",
          "data": {
            "text/plain": [
              "                review_id                 user_id             business_id  \\\n",
              "0  lWC-xP3rd6obsecCYsGZRg  ak0TdVmGKo4pwqdJSTLwWw  buF9druCkbuXLX526sGELQ   \n",
              "1  8bFej1QE5LXp4O05qjGqXA  YoVfDbnISlW0f7abNQACIg  RA4V8pr014UyUbDvI-LW2A   \n",
              "2  NDhkzczKjLshODbqDoNLSg  eC5evKn1TWDyHCyQAwguUw  _sS2LBIGNT5NQb6PD1Vtjw   \n",
              "3  T5fAqjjFooT4V0OeZyuk1w  SFQ1jcnGguO0LYWnbbftAA  0AzLzHfOJgL7ROwhdww2ew   \n",
              "4  sjm_uUcQVxab_EeLCqsYLg  0kA0PAJ8QFMeveQWHFqz2A  8zehGz9jnxPqXtOc7KaJxA   \n",
              "\n",
              "   stars  useful  funny  cool  \\\n",
              "0    4.0       3      1     1   \n",
              "1    4.0       1      0     0   \n",
              "2    5.0       0      0     0   \n",
              "3    2.0       1      1     1   \n",
              "4    4.0       0      0     0   \n",
              "\n",
              "                                                                                                                                                                                                      text  \\\n",
              "0  Apparently Prides Osteria had a rough summer as evidenced by the almost empty dining room at 6:30 on a Friday night. However new blood in the kitchen seems to have revitalized the food from other ...   \n",
              "1  This store is pretty good. Not as great as Walmart (or my preferred, Milford Target), but closer and in a easier area to get to.  \\nThe store itself is pretty clean and organized, the staff are fr...   \n",
              "2  I called WVM on the recommendation of a couple of friends who had used them in the past and thought they did a nice job. I'm a fan now, too.\\n\\nEvan and Cody showed up right on time for my move th...   \n",
              "3  I've stayed at many Marriott and Renaissance Marriott's and this was a huge disappointment! The front desk and atrium is nice..there is a starbucks on site which is nice.\\n\\nThe rooms are run down...   \n",
              "4                    The food is always great here. The service from both the manager as well as the staff is super. Only draw back of this restaurant is it's super loud. If you can, snag a patio table!   \n",
              "\n",
              "                  date  \n",
              "0  2014-10-11 03:34:02  \n",
              "1  2015-07-03 20:38:25  \n",
              "2  2013-05-28 20:38:06  \n",
              "3  2010-01-08 02:29:15  \n",
              "4  2011-07-28 18:05:01  "
            ],
            "text/html": [
              "\n",
              "  <div id=\"df-a3d93ecb-ba35-424b-9ac4-d4c42b6c419d\">\n",
              "    <div class=\"colab-df-container\">\n",
              "      <div>\n",
              "<style scoped>\n",
              "    .dataframe tbody tr th:only-of-type {\n",
              "        vertical-align: middle;\n",
              "    }\n",
              "\n",
              "    .dataframe tbody tr th {\n",
              "        vertical-align: top;\n",
              "    }\n",
              "\n",
              "    .dataframe thead th {\n",
              "        text-align: right;\n",
              "    }\n",
              "</style>\n",
              "<table border=\"1\" class=\"dataframe\">\n",
              "  <thead>\n",
              "    <tr style=\"text-align: right;\">\n",
              "      <th></th>\n",
              "      <th>review_id</th>\n",
              "      <th>user_id</th>\n",
              "      <th>business_id</th>\n",
              "      <th>stars</th>\n",
              "      <th>useful</th>\n",
              "      <th>funny</th>\n",
              "      <th>cool</th>\n",
              "      <th>text</th>\n",
              "      <th>date</th>\n",
              "    </tr>\n",
              "  </thead>\n",
              "  <tbody>\n",
              "    <tr>\n",
              "      <th>0</th>\n",
              "      <td>lWC-xP3rd6obsecCYsGZRg</td>\n",
              "      <td>ak0TdVmGKo4pwqdJSTLwWw</td>\n",
              "      <td>buF9druCkbuXLX526sGELQ</td>\n",
              "      <td>4.0</td>\n",
              "      <td>3</td>\n",
              "      <td>1</td>\n",
              "      <td>1</td>\n",
              "      <td>Apparently Prides Osteria had a rough summer as evidenced by the almost empty dining room at 6:30 on a Friday night. However new blood in the kitchen seems to have revitalized the food from other ...</td>\n",
              "      <td>2014-10-11 03:34:02</td>\n",
              "    </tr>\n",
              "    <tr>\n",
              "      <th>1</th>\n",
              "      <td>8bFej1QE5LXp4O05qjGqXA</td>\n",
              "      <td>YoVfDbnISlW0f7abNQACIg</td>\n",
              "      <td>RA4V8pr014UyUbDvI-LW2A</td>\n",
              "      <td>4.0</td>\n",
              "      <td>1</td>\n",
              "      <td>0</td>\n",
              "      <td>0</td>\n",
              "      <td>This store is pretty good. Not as great as Walmart (or my preferred, Milford Target), but closer and in a easier area to get to.  \\nThe store itself is pretty clean and organized, the staff are fr...</td>\n",
              "      <td>2015-07-03 20:38:25</td>\n",
              "    </tr>\n",
              "    <tr>\n",
              "      <th>2</th>\n",
              "      <td>NDhkzczKjLshODbqDoNLSg</td>\n",
              "      <td>eC5evKn1TWDyHCyQAwguUw</td>\n",
              "      <td>_sS2LBIGNT5NQb6PD1Vtjw</td>\n",
              "      <td>5.0</td>\n",
              "      <td>0</td>\n",
              "      <td>0</td>\n",
              "      <td>0</td>\n",
              "      <td>I called WVM on the recommendation of a couple of friends who had used them in the past and thought they did a nice job. I'm a fan now, too.\\n\\nEvan and Cody showed up right on time for my move th...</td>\n",
              "      <td>2013-05-28 20:38:06</td>\n",
              "    </tr>\n",
              "    <tr>\n",
              "      <th>3</th>\n",
              "      <td>T5fAqjjFooT4V0OeZyuk1w</td>\n",
              "      <td>SFQ1jcnGguO0LYWnbbftAA</td>\n",
              "      <td>0AzLzHfOJgL7ROwhdww2ew</td>\n",
              "      <td>2.0</td>\n",
              "      <td>1</td>\n",
              "      <td>1</td>\n",
              "      <td>1</td>\n",
              "      <td>I've stayed at many Marriott and Renaissance Marriott's and this was a huge disappointment! The front desk and atrium is nice..there is a starbucks on site which is nice.\\n\\nThe rooms are run down...</td>\n",
              "      <td>2010-01-08 02:29:15</td>\n",
              "    </tr>\n",
              "    <tr>\n",
              "      <th>4</th>\n",
              "      <td>sjm_uUcQVxab_EeLCqsYLg</td>\n",
              "      <td>0kA0PAJ8QFMeveQWHFqz2A</td>\n",
              "      <td>8zehGz9jnxPqXtOc7KaJxA</td>\n",
              "      <td>4.0</td>\n",
              "      <td>0</td>\n",
              "      <td>0</td>\n",
              "      <td>0</td>\n",
              "      <td>The food is always great here. The service from both the manager as well as the staff is super. Only draw back of this restaurant is it's super loud. If you can, snag a patio table!</td>\n",
              "      <td>2011-07-28 18:05:01</td>\n",
              "    </tr>\n",
              "  </tbody>\n",
              "</table>\n",
              "</div>\n",
              "      <button class=\"colab-df-convert\" onclick=\"convertToInteractive('df-a3d93ecb-ba35-424b-9ac4-d4c42b6c419d')\"\n",
              "              title=\"Convert this dataframe to an interactive table.\"\n",
              "              style=\"display:none;\">\n",
              "        \n",
              "  <svg xmlns=\"http://www.w3.org/2000/svg\" height=\"24px\"viewBox=\"0 0 24 24\"\n",
              "       width=\"24px\">\n",
              "    <path d=\"M0 0h24v24H0V0z\" fill=\"none\"/>\n",
              "    <path d=\"M18.56 5.44l.94 2.06.94-2.06 2.06-.94-2.06-.94-.94-2.06-.94 2.06-2.06.94zm-11 1L8.5 8.5l.94-2.06 2.06-.94-2.06-.94L8.5 2.5l-.94 2.06-2.06.94zm10 10l.94 2.06.94-2.06 2.06-.94-2.06-.94-.94-2.06-.94 2.06-2.06.94z\"/><path d=\"M17.41 7.96l-1.37-1.37c-.4-.4-.92-.59-1.43-.59-.52 0-1.04.2-1.43.59L10.3 9.45l-7.72 7.72c-.78.78-.78 2.05 0 2.83L4 21.41c.39.39.9.59 1.41.59.51 0 1.02-.2 1.41-.59l7.78-7.78 2.81-2.81c.8-.78.8-2.07 0-2.86zM5.41 20L4 18.59l7.72-7.72 1.47 1.35L5.41 20z\"/>\n",
              "  </svg>\n",
              "      </button>\n",
              "      \n",
              "  <style>\n",
              "    .colab-df-container {\n",
              "      display:flex;\n",
              "      flex-wrap:wrap;\n",
              "      gap: 12px;\n",
              "    }\n",
              "\n",
              "    .colab-df-convert {\n",
              "      background-color: #E8F0FE;\n",
              "      border: none;\n",
              "      border-radius: 50%;\n",
              "      cursor: pointer;\n",
              "      display: none;\n",
              "      fill: #1967D2;\n",
              "      height: 32px;\n",
              "      padding: 0 0 0 0;\n",
              "      width: 32px;\n",
              "    }\n",
              "\n",
              "    .colab-df-convert:hover {\n",
              "      background-color: #E2EBFA;\n",
              "      box-shadow: 0px 1px 2px rgba(60, 64, 67, 0.3), 0px 1px 3px 1px rgba(60, 64, 67, 0.15);\n",
              "      fill: #174EA6;\n",
              "    }\n",
              "\n",
              "    [theme=dark] .colab-df-convert {\n",
              "      background-color: #3B4455;\n",
              "      fill: #D2E3FC;\n",
              "    }\n",
              "\n",
              "    [theme=dark] .colab-df-convert:hover {\n",
              "      background-color: #434B5C;\n",
              "      box-shadow: 0px 1px 3px 1px rgba(0, 0, 0, 0.15);\n",
              "      filter: drop-shadow(0px 1px 2px rgba(0, 0, 0, 0.3));\n",
              "      fill: #FFFFFF;\n",
              "    }\n",
              "  </style>\n",
              "\n",
              "      <script>\n",
              "        const buttonEl =\n",
              "          document.querySelector('#df-a3d93ecb-ba35-424b-9ac4-d4c42b6c419d button.colab-df-convert');\n",
              "        buttonEl.style.display =\n",
              "          google.colab.kernel.accessAllowed ? 'block' : 'none';\n",
              "\n",
              "        async function convertToInteractive(key) {\n",
              "          const element = document.querySelector('#df-a3d93ecb-ba35-424b-9ac4-d4c42b6c419d');\n",
              "          const dataTable =\n",
              "            await google.colab.kernel.invokeFunction('convertToInteractive',\n",
              "                                                     [key], {});\n",
              "          if (!dataTable) return;\n",
              "\n",
              "          const docLinkHtml = 'Like what you see? Visit the ' +\n",
              "            '<a target=\"_blank\" href=https://colab.research.google.com/notebooks/data_table.ipynb>data table notebook</a>'\n",
              "            + ' to learn more about interactive tables.';\n",
              "          element.innerHTML = '';\n",
              "          dataTable['output_type'] = 'display_data';\n",
              "          await google.colab.output.renderOutput(dataTable, element);\n",
              "          const docLink = document.createElement('div');\n",
              "          docLink.innerHTML = docLinkHtml;\n",
              "          element.appendChild(docLink);\n",
              "        }\n",
              "      </script>\n",
              "    </div>\n",
              "  </div>\n",
              "  "
            ]
          },
          "metadata": {},
          "execution_count": 16
        }
      ]
    },
    {
      "cell_type": "code",
      "source": [
        "df_file_tip_5_lines = first_n_lines_of_file_to_df(file_tip, 5)\n",
        "df_file_tip_5_lines"
      ],
      "metadata": {
        "colab": {
          "base_uri": "https://localhost:8080/",
          "height": 250
        },
        "id": "YfsktYpzPc8D",
        "outputId": "903fd142-7bf6-474a-81d9-454b9a96b1a5"
      },
      "execution_count": 17,
      "outputs": [
        {
          "output_type": "execute_result",
          "data": {
            "text/plain": [
              "                  user_id             business_id  \\\n",
              "0  WCjg0jdHXMlwbqS9tZUx8Q  ENwBByjpoa5Gg7tKgxqwLg   \n",
              "1  42-Z02y9bABShAGZhuSzrQ  jKO4Og6ucdX2-YCTKQVYjg   \n",
              "2  5u7E3LYp_3eB8dLuUBazXQ  9Bto7mky640ocgezVKSfVg   \n",
              "3  wDWoMG5N9oI4DJ-p7z8EBg  XWFjKtRGZ9khRGtGg2ZvaA   \n",
              "4  JmuFlorjjRshHTKzTwNtgg  mkrx0VhSMU3p3uhyJGCoWA   \n",
              "\n",
              "                                                                                                        text  \\\n",
              "0                                                                                       Carne asada chips...   \n",
              "1             Best happy hour from 3pm to 6pm! $1 off martini's on Fridays! \"Nothing but pink\" is delicious!   \n",
              "2  Nice people, skilled staff, clean location - but! I don't think I've ever been taken on time. In 2 years.   \n",
              "3      1/2-price bowling & the \"Very\" Old Fashion are excellent, but the drink didn't help my bowling score!   \n",
              "4                                               Solid gold's. Great sauna. Great staff, too. Even at two am!   \n",
              "\n",
              "                  date  compliment_count  \n",
              "0  2011-07-22 19:07:35                 0  \n",
              "1  2014-09-10 07:33:29                 0  \n",
              "2  2013-12-13 23:23:41                 0  \n",
              "3  2017-07-11 23:07:16                 0  \n",
              "4  2016-11-30 08:46:36                 0  "
            ],
            "text/html": [
              "\n",
              "  <div id=\"df-8419e8e2-657c-4104-8548-0305a36905fe\">\n",
              "    <div class=\"colab-df-container\">\n",
              "      <div>\n",
              "<style scoped>\n",
              "    .dataframe tbody tr th:only-of-type {\n",
              "        vertical-align: middle;\n",
              "    }\n",
              "\n",
              "    .dataframe tbody tr th {\n",
              "        vertical-align: top;\n",
              "    }\n",
              "\n",
              "    .dataframe thead th {\n",
              "        text-align: right;\n",
              "    }\n",
              "</style>\n",
              "<table border=\"1\" class=\"dataframe\">\n",
              "  <thead>\n",
              "    <tr style=\"text-align: right;\">\n",
              "      <th></th>\n",
              "      <th>user_id</th>\n",
              "      <th>business_id</th>\n",
              "      <th>text</th>\n",
              "      <th>date</th>\n",
              "      <th>compliment_count</th>\n",
              "    </tr>\n",
              "  </thead>\n",
              "  <tbody>\n",
              "    <tr>\n",
              "      <th>0</th>\n",
              "      <td>WCjg0jdHXMlwbqS9tZUx8Q</td>\n",
              "      <td>ENwBByjpoa5Gg7tKgxqwLg</td>\n",
              "      <td>Carne asada chips...</td>\n",
              "      <td>2011-07-22 19:07:35</td>\n",
              "      <td>0</td>\n",
              "    </tr>\n",
              "    <tr>\n",
              "      <th>1</th>\n",
              "      <td>42-Z02y9bABShAGZhuSzrQ</td>\n",
              "      <td>jKO4Og6ucdX2-YCTKQVYjg</td>\n",
              "      <td>Best happy hour from 3pm to 6pm! $1 off martini's on Fridays! \"Nothing but pink\" is delicious!</td>\n",
              "      <td>2014-09-10 07:33:29</td>\n",
              "      <td>0</td>\n",
              "    </tr>\n",
              "    <tr>\n",
              "      <th>2</th>\n",
              "      <td>5u7E3LYp_3eB8dLuUBazXQ</td>\n",
              "      <td>9Bto7mky640ocgezVKSfVg</td>\n",
              "      <td>Nice people, skilled staff, clean location - but! I don't think I've ever been taken on time. In 2 years.</td>\n",
              "      <td>2013-12-13 23:23:41</td>\n",
              "      <td>0</td>\n",
              "    </tr>\n",
              "    <tr>\n",
              "      <th>3</th>\n",
              "      <td>wDWoMG5N9oI4DJ-p7z8EBg</td>\n",
              "      <td>XWFjKtRGZ9khRGtGg2ZvaA</td>\n",
              "      <td>1/2-price bowling &amp; the \"Very\" Old Fashion are excellent, but the drink didn't help my bowling score!</td>\n",
              "      <td>2017-07-11 23:07:16</td>\n",
              "      <td>0</td>\n",
              "    </tr>\n",
              "    <tr>\n",
              "      <th>4</th>\n",
              "      <td>JmuFlorjjRshHTKzTwNtgg</td>\n",
              "      <td>mkrx0VhSMU3p3uhyJGCoWA</td>\n",
              "      <td>Solid gold's. Great sauna. Great staff, too. Even at two am!</td>\n",
              "      <td>2016-11-30 08:46:36</td>\n",
              "      <td>0</td>\n",
              "    </tr>\n",
              "  </tbody>\n",
              "</table>\n",
              "</div>\n",
              "      <button class=\"colab-df-convert\" onclick=\"convertToInteractive('df-8419e8e2-657c-4104-8548-0305a36905fe')\"\n",
              "              title=\"Convert this dataframe to an interactive table.\"\n",
              "              style=\"display:none;\">\n",
              "        \n",
              "  <svg xmlns=\"http://www.w3.org/2000/svg\" height=\"24px\"viewBox=\"0 0 24 24\"\n",
              "       width=\"24px\">\n",
              "    <path d=\"M0 0h24v24H0V0z\" fill=\"none\"/>\n",
              "    <path d=\"M18.56 5.44l.94 2.06.94-2.06 2.06-.94-2.06-.94-.94-2.06-.94 2.06-2.06.94zm-11 1L8.5 8.5l.94-2.06 2.06-.94-2.06-.94L8.5 2.5l-.94 2.06-2.06.94zm10 10l.94 2.06.94-2.06 2.06-.94-2.06-.94-.94-2.06-.94 2.06-2.06.94z\"/><path d=\"M17.41 7.96l-1.37-1.37c-.4-.4-.92-.59-1.43-.59-.52 0-1.04.2-1.43.59L10.3 9.45l-7.72 7.72c-.78.78-.78 2.05 0 2.83L4 21.41c.39.39.9.59 1.41.59.51 0 1.02-.2 1.41-.59l7.78-7.78 2.81-2.81c.8-.78.8-2.07 0-2.86zM5.41 20L4 18.59l7.72-7.72 1.47 1.35L5.41 20z\"/>\n",
              "  </svg>\n",
              "      </button>\n",
              "      \n",
              "  <style>\n",
              "    .colab-df-container {\n",
              "      display:flex;\n",
              "      flex-wrap:wrap;\n",
              "      gap: 12px;\n",
              "    }\n",
              "\n",
              "    .colab-df-convert {\n",
              "      background-color: #E8F0FE;\n",
              "      border: none;\n",
              "      border-radius: 50%;\n",
              "      cursor: pointer;\n",
              "      display: none;\n",
              "      fill: #1967D2;\n",
              "      height: 32px;\n",
              "      padding: 0 0 0 0;\n",
              "      width: 32px;\n",
              "    }\n",
              "\n",
              "    .colab-df-convert:hover {\n",
              "      background-color: #E2EBFA;\n",
              "      box-shadow: 0px 1px 2px rgba(60, 64, 67, 0.3), 0px 1px 3px 1px rgba(60, 64, 67, 0.15);\n",
              "      fill: #174EA6;\n",
              "    }\n",
              "\n",
              "    [theme=dark] .colab-df-convert {\n",
              "      background-color: #3B4455;\n",
              "      fill: #D2E3FC;\n",
              "    }\n",
              "\n",
              "    [theme=dark] .colab-df-convert:hover {\n",
              "      background-color: #434B5C;\n",
              "      box-shadow: 0px 1px 3px 1px rgba(0, 0, 0, 0.15);\n",
              "      filter: drop-shadow(0px 1px 2px rgba(0, 0, 0, 0.3));\n",
              "      fill: #FFFFFF;\n",
              "    }\n",
              "  </style>\n",
              "\n",
              "      <script>\n",
              "        const buttonEl =\n",
              "          document.querySelector('#df-8419e8e2-657c-4104-8548-0305a36905fe button.colab-df-convert');\n",
              "        buttonEl.style.display =\n",
              "          google.colab.kernel.accessAllowed ? 'block' : 'none';\n",
              "\n",
              "        async function convertToInteractive(key) {\n",
              "          const element = document.querySelector('#df-8419e8e2-657c-4104-8548-0305a36905fe');\n",
              "          const dataTable =\n",
              "            await google.colab.kernel.invokeFunction('convertToInteractive',\n",
              "                                                     [key], {});\n",
              "          if (!dataTable) return;\n",
              "\n",
              "          const docLinkHtml = 'Like what you see? Visit the ' +\n",
              "            '<a target=\"_blank\" href=https://colab.research.google.com/notebooks/data_table.ipynb>data table notebook</a>'\n",
              "            + ' to learn more about interactive tables.';\n",
              "          element.innerHTML = '';\n",
              "          dataTable['output_type'] = 'display_data';\n",
              "          await google.colab.output.renderOutput(dataTable, element);\n",
              "          const docLink = document.createElement('div');\n",
              "          docLink.innerHTML = docLinkHtml;\n",
              "          element.appendChild(docLink);\n",
              "        }\n",
              "      </script>\n",
              "    </div>\n",
              "  </div>\n",
              "  "
            ]
          },
          "metadata": {},
          "execution_count": 17
        }
      ]
    },
    {
      "cell_type": "code",
      "source": [
        "df_file_user_5_lines = first_n_lines_of_file_to_df(file_user, 5)\n",
        "df_file_user_5_lines"
      ],
      "metadata": {
        "colab": {
          "base_uri": "https://localhost:8080/",
          "height": 977
        },
        "id": "fdTbJbAIPmdt",
        "outputId": "9e5ea85d-8b14-486f-b472-7c41acdcb9dc"
      },
      "execution_count": 18,
      "outputs": [
        {
          "output_type": "execute_result",
          "data": {
            "text/plain": [
              "                  user_id       name  review_count        yelping_since  \\\n",
              "0  q_QQ5kBBwlCcbL1s4NVK3g       Jane          1220  2005-03-14 20:26:35   \n",
              "1  dIIKEfOgo0KqUfGQvGikPg       Gabi          2136  2007-08-10 19:01:51   \n",
              "2  D6ErcUnFALnCQN4b1W_TlA      Jason           119  2007-02-07 15:47:53   \n",
              "3  JnPIjvC0cmooNDfsa9BmXg        Kat           987  2009-02-09 16:14:29   \n",
              "4  37Hc8hr3cw0iHLoPzLK6Ow  Christine           495  2008-03-03 04:57:05   \n",
              "\n",
              "   useful  funny   cool  \\\n",
              "0   15038  10030  11291   \n",
              "1   21272  10289  18046   \n",
              "2     188    128    130   \n",
              "3    7234   4722   4035   \n",
              "4    1577    727   1124   \n",
              "\n",
              "                                                                    elite  \\\n",
              "0                            2006,2007,2008,2009,2010,2011,2012,2013,2014   \n",
              "1  2007,2008,2009,2010,2011,2012,2013,2014,2015,2016,2017,2018,2019,20,20   \n",
              "2                                                               2010,2011   \n",
              "3                                           2009,2010,2011,2012,2013,2014   \n",
              "4                                                          2009,2010,2011   \n",
              "\n",
              "                                                                                                                                                                                                   friends  \\\n",
              "0  xBDpTUbai0DXrvxCe3X16Q, 7GPNBO496aecrjJfW6UWtg, gUfHciSP7BbxZd5gj-c4xw, NXw0bCLF5ZtFMfhcj7CFSw, OGjmMxPuIoLTJ3O-CO2A4g, mwUcJP11UkIjCB8jBAaS3g, fDmgb3Vi3-f_MtFOImH0Ug, -x1516ZG5GllZiBjDQlRkA, tx5U...   \n",
              "1  XPzYf9_mwG2eXYP2BAGSTA, 2LooM5dcIk2o01nftYdPIg, XjFEUW1p6nkXr4VKLnvbqA, NfMKs4kOvzqU0i0KvKfPLg, LAy71MQ-BW-XFq6Jjj_CLA, w1TjcJ6itK7LC_IY61NQIQ, w0SFya-MjUKIpEumUi1vvA, xxhEWFJlGvF9fm9TlHvu-w, ZRiT...   \n",
              "2  GfB6sC4NJQvSI2ewbQrDNA, jhZtzZNNZJOU2YSZ6jPlXQ, DJWvvie6YTka5ylcqMIXvg, b3Fm3LStrOaYQ49ZyLkeOw, YwjzTTCF9Jor4-44SVeE1w, 4Po_4vgdBFk2GPeKfJqVww, N9CrBkTkDZFqQoL64e5USA, Q75-fmX3WoLZEkuBQGxZCg, _vgQ...   \n",
              "3  HQZPQhKMwRAyS6BCselVWQ, kP2U1s_sjQfHO9grxiyDTA, CoTCo9KMYErRiOehoBLj1g, Un6fTxpOGlzIrAf4D_fQpQ, 8rzqG5NLuDlnqE49USzvTw, ifiYar6mCh2OFKX-hYZ_Pg, _wOj5GBzD2GASiQ3GpdBuQ, 6-1XSOw9dZ1KTbzCnSXC_w, 6TRm...   \n",
              "4  -Q88pZUcrfN0BLBDp-bkAQ, etPn4Pv1Gc4cRZjRgB_BOw, 84FcN7Bq9BnL3wPtnyye6w, 0SMBOsgncviE3AOqlr1sFw, 52oH4DrRvzzl8wh5UXyU0A, DBvQvSt0cCxst4NkzEUtyA, xgWX994mFtNIs5yogy3TXw, ap5kQAgmzoOIUMxQLQOisw, 7NV6...   \n",
              "\n",
              "   fans  ...  compliment_more  compliment_profile  compliment_cute  \\\n",
              "0  1357  ...              163                 190              361   \n",
              "1  1025  ...               87                  94              232   \n",
              "2    16  ...                1                   3                0   \n",
              "3   420  ...              129                  93              219   \n",
              "4    47  ...               19                  32               16   \n",
              "\n",
              "   compliment_list  compliment_note  compliment_plain  compliment_cool  \\\n",
              "0              147             1212              5691             2541   \n",
              "1               96             1187              3293             2205   \n",
              "2                0                5                20               31   \n",
              "3               90             1120              4510             1566   \n",
              "4               15               77               131              310   \n",
              "\n",
              "   compliment_funny  compliment_writer  compliment_photos  \n",
              "0              2541                815                323  \n",
              "1              2205                472                294  \n",
              "2                31                  3                  1  \n",
              "3              1566                391                326  \n",
              "4               310                 98                 44  \n",
              "\n",
              "[5 rows x 22 columns]"
            ],
            "text/html": [
              "\n",
              "  <div id=\"df-2b5b6edd-67b5-484d-84a3-d27ef901ef7b\">\n",
              "    <div class=\"colab-df-container\">\n",
              "      <div>\n",
              "<style scoped>\n",
              "    .dataframe tbody tr th:only-of-type {\n",
              "        vertical-align: middle;\n",
              "    }\n",
              "\n",
              "    .dataframe tbody tr th {\n",
              "        vertical-align: top;\n",
              "    }\n",
              "\n",
              "    .dataframe thead th {\n",
              "        text-align: right;\n",
              "    }\n",
              "</style>\n",
              "<table border=\"1\" class=\"dataframe\">\n",
              "  <thead>\n",
              "    <tr style=\"text-align: right;\">\n",
              "      <th></th>\n",
              "      <th>user_id</th>\n",
              "      <th>name</th>\n",
              "      <th>review_count</th>\n",
              "      <th>yelping_since</th>\n",
              "      <th>useful</th>\n",
              "      <th>funny</th>\n",
              "      <th>cool</th>\n",
              "      <th>elite</th>\n",
              "      <th>friends</th>\n",
              "      <th>fans</th>\n",
              "      <th>...</th>\n",
              "      <th>compliment_more</th>\n",
              "      <th>compliment_profile</th>\n",
              "      <th>compliment_cute</th>\n",
              "      <th>compliment_list</th>\n",
              "      <th>compliment_note</th>\n",
              "      <th>compliment_plain</th>\n",
              "      <th>compliment_cool</th>\n",
              "      <th>compliment_funny</th>\n",
              "      <th>compliment_writer</th>\n",
              "      <th>compliment_photos</th>\n",
              "    </tr>\n",
              "  </thead>\n",
              "  <tbody>\n",
              "    <tr>\n",
              "      <th>0</th>\n",
              "      <td>q_QQ5kBBwlCcbL1s4NVK3g</td>\n",
              "      <td>Jane</td>\n",
              "      <td>1220</td>\n",
              "      <td>2005-03-14 20:26:35</td>\n",
              "      <td>15038</td>\n",
              "      <td>10030</td>\n",
              "      <td>11291</td>\n",
              "      <td>2006,2007,2008,2009,2010,2011,2012,2013,2014</td>\n",
              "      <td>xBDpTUbai0DXrvxCe3X16Q, 7GPNBO496aecrjJfW6UWtg, gUfHciSP7BbxZd5gj-c4xw, NXw0bCLF5ZtFMfhcj7CFSw, OGjmMxPuIoLTJ3O-CO2A4g, mwUcJP11UkIjCB8jBAaS3g, fDmgb3Vi3-f_MtFOImH0Ug, -x1516ZG5GllZiBjDQlRkA, tx5U...</td>\n",
              "      <td>1357</td>\n",
              "      <td>...</td>\n",
              "      <td>163</td>\n",
              "      <td>190</td>\n",
              "      <td>361</td>\n",
              "      <td>147</td>\n",
              "      <td>1212</td>\n",
              "      <td>5691</td>\n",
              "      <td>2541</td>\n",
              "      <td>2541</td>\n",
              "      <td>815</td>\n",
              "      <td>323</td>\n",
              "    </tr>\n",
              "    <tr>\n",
              "      <th>1</th>\n",
              "      <td>dIIKEfOgo0KqUfGQvGikPg</td>\n",
              "      <td>Gabi</td>\n",
              "      <td>2136</td>\n",
              "      <td>2007-08-10 19:01:51</td>\n",
              "      <td>21272</td>\n",
              "      <td>10289</td>\n",
              "      <td>18046</td>\n",
              "      <td>2007,2008,2009,2010,2011,2012,2013,2014,2015,2016,2017,2018,2019,20,20</td>\n",
              "      <td>XPzYf9_mwG2eXYP2BAGSTA, 2LooM5dcIk2o01nftYdPIg, XjFEUW1p6nkXr4VKLnvbqA, NfMKs4kOvzqU0i0KvKfPLg, LAy71MQ-BW-XFq6Jjj_CLA, w1TjcJ6itK7LC_IY61NQIQ, w0SFya-MjUKIpEumUi1vvA, xxhEWFJlGvF9fm9TlHvu-w, ZRiT...</td>\n",
              "      <td>1025</td>\n",
              "      <td>...</td>\n",
              "      <td>87</td>\n",
              "      <td>94</td>\n",
              "      <td>232</td>\n",
              "      <td>96</td>\n",
              "      <td>1187</td>\n",
              "      <td>3293</td>\n",
              "      <td>2205</td>\n",
              "      <td>2205</td>\n",
              "      <td>472</td>\n",
              "      <td>294</td>\n",
              "    </tr>\n",
              "    <tr>\n",
              "      <th>2</th>\n",
              "      <td>D6ErcUnFALnCQN4b1W_TlA</td>\n",
              "      <td>Jason</td>\n",
              "      <td>119</td>\n",
              "      <td>2007-02-07 15:47:53</td>\n",
              "      <td>188</td>\n",
              "      <td>128</td>\n",
              "      <td>130</td>\n",
              "      <td>2010,2011</td>\n",
              "      <td>GfB6sC4NJQvSI2ewbQrDNA, jhZtzZNNZJOU2YSZ6jPlXQ, DJWvvie6YTka5ylcqMIXvg, b3Fm3LStrOaYQ49ZyLkeOw, YwjzTTCF9Jor4-44SVeE1w, 4Po_4vgdBFk2GPeKfJqVww, N9CrBkTkDZFqQoL64e5USA, Q75-fmX3WoLZEkuBQGxZCg, _vgQ...</td>\n",
              "      <td>16</td>\n",
              "      <td>...</td>\n",
              "      <td>1</td>\n",
              "      <td>3</td>\n",
              "      <td>0</td>\n",
              "      <td>0</td>\n",
              "      <td>5</td>\n",
              "      <td>20</td>\n",
              "      <td>31</td>\n",
              "      <td>31</td>\n",
              "      <td>3</td>\n",
              "      <td>1</td>\n",
              "    </tr>\n",
              "    <tr>\n",
              "      <th>3</th>\n",
              "      <td>JnPIjvC0cmooNDfsa9BmXg</td>\n",
              "      <td>Kat</td>\n",
              "      <td>987</td>\n",
              "      <td>2009-02-09 16:14:29</td>\n",
              "      <td>7234</td>\n",
              "      <td>4722</td>\n",
              "      <td>4035</td>\n",
              "      <td>2009,2010,2011,2012,2013,2014</td>\n",
              "      <td>HQZPQhKMwRAyS6BCselVWQ, kP2U1s_sjQfHO9grxiyDTA, CoTCo9KMYErRiOehoBLj1g, Un6fTxpOGlzIrAf4D_fQpQ, 8rzqG5NLuDlnqE49USzvTw, ifiYar6mCh2OFKX-hYZ_Pg, _wOj5GBzD2GASiQ3GpdBuQ, 6-1XSOw9dZ1KTbzCnSXC_w, 6TRm...</td>\n",
              "      <td>420</td>\n",
              "      <td>...</td>\n",
              "      <td>129</td>\n",
              "      <td>93</td>\n",
              "      <td>219</td>\n",
              "      <td>90</td>\n",
              "      <td>1120</td>\n",
              "      <td>4510</td>\n",
              "      <td>1566</td>\n",
              "      <td>1566</td>\n",
              "      <td>391</td>\n",
              "      <td>326</td>\n",
              "    </tr>\n",
              "    <tr>\n",
              "      <th>4</th>\n",
              "      <td>37Hc8hr3cw0iHLoPzLK6Ow</td>\n",
              "      <td>Christine</td>\n",
              "      <td>495</td>\n",
              "      <td>2008-03-03 04:57:05</td>\n",
              "      <td>1577</td>\n",
              "      <td>727</td>\n",
              "      <td>1124</td>\n",
              "      <td>2009,2010,2011</td>\n",
              "      <td>-Q88pZUcrfN0BLBDp-bkAQ, etPn4Pv1Gc4cRZjRgB_BOw, 84FcN7Bq9BnL3wPtnyye6w, 0SMBOsgncviE3AOqlr1sFw, 52oH4DrRvzzl8wh5UXyU0A, DBvQvSt0cCxst4NkzEUtyA, xgWX994mFtNIs5yogy3TXw, ap5kQAgmzoOIUMxQLQOisw, 7NV6...</td>\n",
              "      <td>47</td>\n",
              "      <td>...</td>\n",
              "      <td>19</td>\n",
              "      <td>32</td>\n",
              "      <td>16</td>\n",
              "      <td>15</td>\n",
              "      <td>77</td>\n",
              "      <td>131</td>\n",
              "      <td>310</td>\n",
              "      <td>310</td>\n",
              "      <td>98</td>\n",
              "      <td>44</td>\n",
              "    </tr>\n",
              "  </tbody>\n",
              "</table>\n",
              "<p>5 rows × 22 columns</p>\n",
              "</div>\n",
              "      <button class=\"colab-df-convert\" onclick=\"convertToInteractive('df-2b5b6edd-67b5-484d-84a3-d27ef901ef7b')\"\n",
              "              title=\"Convert this dataframe to an interactive table.\"\n",
              "              style=\"display:none;\">\n",
              "        \n",
              "  <svg xmlns=\"http://www.w3.org/2000/svg\" height=\"24px\"viewBox=\"0 0 24 24\"\n",
              "       width=\"24px\">\n",
              "    <path d=\"M0 0h24v24H0V0z\" fill=\"none\"/>\n",
              "    <path d=\"M18.56 5.44l.94 2.06.94-2.06 2.06-.94-2.06-.94-.94-2.06-.94 2.06-2.06.94zm-11 1L8.5 8.5l.94-2.06 2.06-.94-2.06-.94L8.5 2.5l-.94 2.06-2.06.94zm10 10l.94 2.06.94-2.06 2.06-.94-2.06-.94-.94-2.06-.94 2.06-2.06.94z\"/><path d=\"M17.41 7.96l-1.37-1.37c-.4-.4-.92-.59-1.43-.59-.52 0-1.04.2-1.43.59L10.3 9.45l-7.72 7.72c-.78.78-.78 2.05 0 2.83L4 21.41c.39.39.9.59 1.41.59.51 0 1.02-.2 1.41-.59l7.78-7.78 2.81-2.81c.8-.78.8-2.07 0-2.86zM5.41 20L4 18.59l7.72-7.72 1.47 1.35L5.41 20z\"/>\n",
              "  </svg>\n",
              "      </button>\n",
              "      \n",
              "  <style>\n",
              "    .colab-df-container {\n",
              "      display:flex;\n",
              "      flex-wrap:wrap;\n",
              "      gap: 12px;\n",
              "    }\n",
              "\n",
              "    .colab-df-convert {\n",
              "      background-color: #E8F0FE;\n",
              "      border: none;\n",
              "      border-radius: 50%;\n",
              "      cursor: pointer;\n",
              "      display: none;\n",
              "      fill: #1967D2;\n",
              "      height: 32px;\n",
              "      padding: 0 0 0 0;\n",
              "      width: 32px;\n",
              "    }\n",
              "\n",
              "    .colab-df-convert:hover {\n",
              "      background-color: #E2EBFA;\n",
              "      box-shadow: 0px 1px 2px rgba(60, 64, 67, 0.3), 0px 1px 3px 1px rgba(60, 64, 67, 0.15);\n",
              "      fill: #174EA6;\n",
              "    }\n",
              "\n",
              "    [theme=dark] .colab-df-convert {\n",
              "      background-color: #3B4455;\n",
              "      fill: #D2E3FC;\n",
              "    }\n",
              "\n",
              "    [theme=dark] .colab-df-convert:hover {\n",
              "      background-color: #434B5C;\n",
              "      box-shadow: 0px 1px 3px 1px rgba(0, 0, 0, 0.15);\n",
              "      filter: drop-shadow(0px 1px 2px rgba(0, 0, 0, 0.3));\n",
              "      fill: #FFFFFF;\n",
              "    }\n",
              "  </style>\n",
              "\n",
              "      <script>\n",
              "        const buttonEl =\n",
              "          document.querySelector('#df-2b5b6edd-67b5-484d-84a3-d27ef901ef7b button.colab-df-convert');\n",
              "        buttonEl.style.display =\n",
              "          google.colab.kernel.accessAllowed ? 'block' : 'none';\n",
              "\n",
              "        async function convertToInteractive(key) {\n",
              "          const element = document.querySelector('#df-2b5b6edd-67b5-484d-84a3-d27ef901ef7b');\n",
              "          const dataTable =\n",
              "            await google.colab.kernel.invokeFunction('convertToInteractive',\n",
              "                                                     [key], {});\n",
              "          if (!dataTable) return;\n",
              "\n",
              "          const docLinkHtml = 'Like what you see? Visit the ' +\n",
              "            '<a target=\"_blank\" href=https://colab.research.google.com/notebooks/data_table.ipynb>data table notebook</a>'\n",
              "            + ' to learn more about interactive tables.';\n",
              "          element.innerHTML = '';\n",
              "          dataTable['output_type'] = 'display_data';\n",
              "          await google.colab.output.renderOutput(dataTable, element);\n",
              "          const docLink = document.createElement('div');\n",
              "          docLink.innerHTML = docLinkHtml;\n",
              "          element.appendChild(docLink);\n",
              "        }\n",
              "      </script>\n",
              "    </div>\n",
              "  </div>\n",
              "  "
            ]
          },
          "metadata": {},
          "execution_count": 18
        }
      ]
    },
    {
      "cell_type": "markdown",
      "source": [
        "À la lumière de ces premières visualisations, il apparaît clairement que 2 fichiers seulement nous serviront pour la suite:  \n",
        "A priori, c'est le fichier \"review\" qui nous intéresse mais celui-ci, s'il contient bien les commentaires relatifs à un \"business\", ne nous dit rien sur ce dernier.  \n",
        "  \n",
        "\n",
        "En fait, il va nious falloir aussi le fichier \"business\", justement pour faire le lien entre les deux:  \n",
        "Nous ne garderons que les \"business\" considérés comme restaurants et parmi ceux-ci, nous regarderons plus en détails les notes (pour ne garder que les mauvaises notes (donc <3).  \n",
        "  \n",
        "  \n",
        "Par contre, comme vu un peu plus haut, le fichier \"review\" possède plus de 8.5 millions de lignes, et Google Colab ne permet pas d'en traiter autant (cela fait exploser la RAM).  \n",
        "Je vais donc me contenter de 500 000 lignes de ce dernier."
      ],
      "metadata": {
        "id": "TiP-ogyJP8QV"
      }
    },
    {
      "cell_type": "code",
      "source": [
        "# Je définis d'abord une fonction me permettant de ne garder que les n premières lignes d'un fichier\n",
        "\n",
        "def first_n_lines_of_file(file, n):\n",
        "    with open(file, 'r') as f1:\n",
        "        f2 = open('new_file.txt', 'w')\n",
        "        for i in range(n):\n",
        "            line = f1.readline()\n",
        "            f2.write(line)\n",
        "        f2.close()\n",
        "        f = 'new_file.txt'\n",
        "    return f"
      ],
      "metadata": {
        "id": "O4JBZ06SS-i4"
      },
      "execution_count": 19,
      "outputs": []
    },
    {
      "cell_type": "code",
      "source": [
        "# ... fonction que j'applique directement au fichier \"file_review\"\n",
        "\n",
        "first_250000_lines_file_review = first_n_lines_of_file(file_review, 250000)"
      ],
      "metadata": {
        "id": "rYpHL7xCRgwN"
      },
      "execution_count": 20,
      "outputs": []
    },
    {
      "cell_type": "code",
      "source": [
        "lines_in_file = open('new_file.txt', 'r').readlines()\n",
        "number_of_lines = len(lines_in_file)\n",
        "print(number_of_lines)"
      ],
      "metadata": {
        "colab": {
          "base_uri": "https://localhost:8080/"
        },
        "id": "_TnoTnRhaSP8",
        "outputId": "08839240-1751-4b4b-f3ab-1a3fceca865c"
      },
      "execution_count": 21,
      "outputs": [
        {
          "output_type": "stream",
          "name": "stdout",
          "text": [
            "250000\n"
          ]
        }
      ]
    },
    {
      "cell_type": "code",
      "source": [
        "# À présent, je convertis ce fichier enun DataFrame\n",
        "\n",
        "df_review = pd.read_json(first_250000_lines_file_review, lines = True)"
      ],
      "metadata": {
        "id": "5-lS-ilTR7JI"
      },
      "execution_count": 22,
      "outputs": []
    },
    {
      "cell_type": "code",
      "source": [
        "df_review.head()"
      ],
      "metadata": {
        "colab": {
          "base_uri": "https://localhost:8080/",
          "height": 424
        },
        "id": "lORwvlHiSYUf",
        "outputId": "f7c9cbfc-5e10-4cd8-ada3-1ed8b734c31f"
      },
      "execution_count": 23,
      "outputs": [
        {
          "output_type": "execute_result",
          "data": {
            "text/plain": [
              "                review_id                 user_id             business_id  \\\n",
              "0  lWC-xP3rd6obsecCYsGZRg  ak0TdVmGKo4pwqdJSTLwWw  buF9druCkbuXLX526sGELQ   \n",
              "1  8bFej1QE5LXp4O05qjGqXA  YoVfDbnISlW0f7abNQACIg  RA4V8pr014UyUbDvI-LW2A   \n",
              "2  NDhkzczKjLshODbqDoNLSg  eC5evKn1TWDyHCyQAwguUw  _sS2LBIGNT5NQb6PD1Vtjw   \n",
              "3  T5fAqjjFooT4V0OeZyuk1w  SFQ1jcnGguO0LYWnbbftAA  0AzLzHfOJgL7ROwhdww2ew   \n",
              "4  sjm_uUcQVxab_EeLCqsYLg  0kA0PAJ8QFMeveQWHFqz2A  8zehGz9jnxPqXtOc7KaJxA   \n",
              "\n",
              "   stars  useful  funny  cool  \\\n",
              "0      4       3      1     1   \n",
              "1      4       1      0     0   \n",
              "2      5       0      0     0   \n",
              "3      2       1      1     1   \n",
              "4      4       0      0     0   \n",
              "\n",
              "                                                                                                                                                                                                      text  \\\n",
              "0  Apparently Prides Osteria had a rough summer as evidenced by the almost empty dining room at 6:30 on a Friday night. However new blood in the kitchen seems to have revitalized the food from other ...   \n",
              "1  This store is pretty good. Not as great as Walmart (or my preferred, Milford Target), but closer and in a easier area to get to.  \\nThe store itself is pretty clean and organized, the staff are fr...   \n",
              "2  I called WVM on the recommendation of a couple of friends who had used them in the past and thought they did a nice job. I'm a fan now, too.\\n\\nEvan and Cody showed up right on time for my move th...   \n",
              "3  I've stayed at many Marriott and Renaissance Marriott's and this was a huge disappointment! The front desk and atrium is nice..there is a starbucks on site which is nice.\\n\\nThe rooms are run down...   \n",
              "4                    The food is always great here. The service from both the manager as well as the staff is super. Only draw back of this restaurant is it's super loud. If you can, snag a patio table!   \n",
              "\n",
              "                 date  \n",
              "0 2014-10-11 03:34:02  \n",
              "1 2015-07-03 20:38:25  \n",
              "2 2013-05-28 20:38:06  \n",
              "3 2010-01-08 02:29:15  \n",
              "4 2011-07-28 18:05:01  "
            ],
            "text/html": [
              "\n",
              "  <div id=\"df-6df84365-c29d-4fff-abf4-d19155190b03\">\n",
              "    <div class=\"colab-df-container\">\n",
              "      <div>\n",
              "<style scoped>\n",
              "    .dataframe tbody tr th:only-of-type {\n",
              "        vertical-align: middle;\n",
              "    }\n",
              "\n",
              "    .dataframe tbody tr th {\n",
              "        vertical-align: top;\n",
              "    }\n",
              "\n",
              "    .dataframe thead th {\n",
              "        text-align: right;\n",
              "    }\n",
              "</style>\n",
              "<table border=\"1\" class=\"dataframe\">\n",
              "  <thead>\n",
              "    <tr style=\"text-align: right;\">\n",
              "      <th></th>\n",
              "      <th>review_id</th>\n",
              "      <th>user_id</th>\n",
              "      <th>business_id</th>\n",
              "      <th>stars</th>\n",
              "      <th>useful</th>\n",
              "      <th>funny</th>\n",
              "      <th>cool</th>\n",
              "      <th>text</th>\n",
              "      <th>date</th>\n",
              "    </tr>\n",
              "  </thead>\n",
              "  <tbody>\n",
              "    <tr>\n",
              "      <th>0</th>\n",
              "      <td>lWC-xP3rd6obsecCYsGZRg</td>\n",
              "      <td>ak0TdVmGKo4pwqdJSTLwWw</td>\n",
              "      <td>buF9druCkbuXLX526sGELQ</td>\n",
              "      <td>4</td>\n",
              "      <td>3</td>\n",
              "      <td>1</td>\n",
              "      <td>1</td>\n",
              "      <td>Apparently Prides Osteria had a rough summer as evidenced by the almost empty dining room at 6:30 on a Friday night. However new blood in the kitchen seems to have revitalized the food from other ...</td>\n",
              "      <td>2014-10-11 03:34:02</td>\n",
              "    </tr>\n",
              "    <tr>\n",
              "      <th>1</th>\n",
              "      <td>8bFej1QE5LXp4O05qjGqXA</td>\n",
              "      <td>YoVfDbnISlW0f7abNQACIg</td>\n",
              "      <td>RA4V8pr014UyUbDvI-LW2A</td>\n",
              "      <td>4</td>\n",
              "      <td>1</td>\n",
              "      <td>0</td>\n",
              "      <td>0</td>\n",
              "      <td>This store is pretty good. Not as great as Walmart (or my preferred, Milford Target), but closer and in a easier area to get to.  \\nThe store itself is pretty clean and organized, the staff are fr...</td>\n",
              "      <td>2015-07-03 20:38:25</td>\n",
              "    </tr>\n",
              "    <tr>\n",
              "      <th>2</th>\n",
              "      <td>NDhkzczKjLshODbqDoNLSg</td>\n",
              "      <td>eC5evKn1TWDyHCyQAwguUw</td>\n",
              "      <td>_sS2LBIGNT5NQb6PD1Vtjw</td>\n",
              "      <td>5</td>\n",
              "      <td>0</td>\n",
              "      <td>0</td>\n",
              "      <td>0</td>\n",
              "      <td>I called WVM on the recommendation of a couple of friends who had used them in the past and thought they did a nice job. I'm a fan now, too.\\n\\nEvan and Cody showed up right on time for my move th...</td>\n",
              "      <td>2013-05-28 20:38:06</td>\n",
              "    </tr>\n",
              "    <tr>\n",
              "      <th>3</th>\n",
              "      <td>T5fAqjjFooT4V0OeZyuk1w</td>\n",
              "      <td>SFQ1jcnGguO0LYWnbbftAA</td>\n",
              "      <td>0AzLzHfOJgL7ROwhdww2ew</td>\n",
              "      <td>2</td>\n",
              "      <td>1</td>\n",
              "      <td>1</td>\n",
              "      <td>1</td>\n",
              "      <td>I've stayed at many Marriott and Renaissance Marriott's and this was a huge disappointment! The front desk and atrium is nice..there is a starbucks on site which is nice.\\n\\nThe rooms are run down...</td>\n",
              "      <td>2010-01-08 02:29:15</td>\n",
              "    </tr>\n",
              "    <tr>\n",
              "      <th>4</th>\n",
              "      <td>sjm_uUcQVxab_EeLCqsYLg</td>\n",
              "      <td>0kA0PAJ8QFMeveQWHFqz2A</td>\n",
              "      <td>8zehGz9jnxPqXtOc7KaJxA</td>\n",
              "      <td>4</td>\n",
              "      <td>0</td>\n",
              "      <td>0</td>\n",
              "      <td>0</td>\n",
              "      <td>The food is always great here. The service from both the manager as well as the staff is super. Only draw back of this restaurant is it's super loud. If you can, snag a patio table!</td>\n",
              "      <td>2011-07-28 18:05:01</td>\n",
              "    </tr>\n",
              "  </tbody>\n",
              "</table>\n",
              "</div>\n",
              "      <button class=\"colab-df-convert\" onclick=\"convertToInteractive('df-6df84365-c29d-4fff-abf4-d19155190b03')\"\n",
              "              title=\"Convert this dataframe to an interactive table.\"\n",
              "              style=\"display:none;\">\n",
              "        \n",
              "  <svg xmlns=\"http://www.w3.org/2000/svg\" height=\"24px\"viewBox=\"0 0 24 24\"\n",
              "       width=\"24px\">\n",
              "    <path d=\"M0 0h24v24H0V0z\" fill=\"none\"/>\n",
              "    <path d=\"M18.56 5.44l.94 2.06.94-2.06 2.06-.94-2.06-.94-.94-2.06-.94 2.06-2.06.94zm-11 1L8.5 8.5l.94-2.06 2.06-.94-2.06-.94L8.5 2.5l-.94 2.06-2.06.94zm10 10l.94 2.06.94-2.06 2.06-.94-2.06-.94-.94-2.06-.94 2.06-2.06.94z\"/><path d=\"M17.41 7.96l-1.37-1.37c-.4-.4-.92-.59-1.43-.59-.52 0-1.04.2-1.43.59L10.3 9.45l-7.72 7.72c-.78.78-.78 2.05 0 2.83L4 21.41c.39.39.9.59 1.41.59.51 0 1.02-.2 1.41-.59l7.78-7.78 2.81-2.81c.8-.78.8-2.07 0-2.86zM5.41 20L4 18.59l7.72-7.72 1.47 1.35L5.41 20z\"/>\n",
              "  </svg>\n",
              "      </button>\n",
              "      \n",
              "  <style>\n",
              "    .colab-df-container {\n",
              "      display:flex;\n",
              "      flex-wrap:wrap;\n",
              "      gap: 12px;\n",
              "    }\n",
              "\n",
              "    .colab-df-convert {\n",
              "      background-color: #E8F0FE;\n",
              "      border: none;\n",
              "      border-radius: 50%;\n",
              "      cursor: pointer;\n",
              "      display: none;\n",
              "      fill: #1967D2;\n",
              "      height: 32px;\n",
              "      padding: 0 0 0 0;\n",
              "      width: 32px;\n",
              "    }\n",
              "\n",
              "    .colab-df-convert:hover {\n",
              "      background-color: #E2EBFA;\n",
              "      box-shadow: 0px 1px 2px rgba(60, 64, 67, 0.3), 0px 1px 3px 1px rgba(60, 64, 67, 0.15);\n",
              "      fill: #174EA6;\n",
              "    }\n",
              "\n",
              "    [theme=dark] .colab-df-convert {\n",
              "      background-color: #3B4455;\n",
              "      fill: #D2E3FC;\n",
              "    }\n",
              "\n",
              "    [theme=dark] .colab-df-convert:hover {\n",
              "      background-color: #434B5C;\n",
              "      box-shadow: 0px 1px 3px 1px rgba(0, 0, 0, 0.15);\n",
              "      filter: drop-shadow(0px 1px 2px rgba(0, 0, 0, 0.3));\n",
              "      fill: #FFFFFF;\n",
              "    }\n",
              "  </style>\n",
              "\n",
              "      <script>\n",
              "        const buttonEl =\n",
              "          document.querySelector('#df-6df84365-c29d-4fff-abf4-d19155190b03 button.colab-df-convert');\n",
              "        buttonEl.style.display =\n",
              "          google.colab.kernel.accessAllowed ? 'block' : 'none';\n",
              "\n",
              "        async function convertToInteractive(key) {\n",
              "          const element = document.querySelector('#df-6df84365-c29d-4fff-abf4-d19155190b03');\n",
              "          const dataTable =\n",
              "            await google.colab.kernel.invokeFunction('convertToInteractive',\n",
              "                                                     [key], {});\n",
              "          if (!dataTable) return;\n",
              "\n",
              "          const docLinkHtml = 'Like what you see? Visit the ' +\n",
              "            '<a target=\"_blank\" href=https://colab.research.google.com/notebooks/data_table.ipynb>data table notebook</a>'\n",
              "            + ' to learn more about interactive tables.';\n",
              "          element.innerHTML = '';\n",
              "          dataTable['output_type'] = 'display_data';\n",
              "          await google.colab.output.renderOutput(dataTable, element);\n",
              "          const docLink = document.createElement('div');\n",
              "          docLink.innerHTML = docLinkHtml;\n",
              "          element.appendChild(docLink);\n",
              "        }\n",
              "      </script>\n",
              "    </div>\n",
              "  </div>\n",
              "  "
            ]
          },
          "metadata": {},
          "execution_count": 23
        }
      ]
    },
    {
      "cell_type": "code",
      "source": [
        "df_review.shape"
      ],
      "metadata": {
        "colab": {
          "base_uri": "https://localhost:8080/"
        },
        "id": "qsldWZx9aJIk",
        "outputId": "c1f17d95-35e9-4e7a-f9d2-40efc856325f"
      },
      "execution_count": 24,
      "outputs": [
        {
          "output_type": "execute_result",
          "data": {
            "text/plain": [
              "(250000, 9)"
            ]
          },
          "metadata": {},
          "execution_count": 24
        }
      ]
    },
    {
      "cell_type": "code",
      "source": [
        "# Pour le fichier business, sa taille nous permet de le traiter en intégralité\n",
        "\n",
        "df_business = pd.read_json(file_business, lines = True)"
      ],
      "metadata": {
        "id": "GCCJHKWRXE7B"
      },
      "execution_count": 25,
      "outputs": []
    },
    {
      "cell_type": "code",
      "execution_count": 26,
      "metadata": {
        "id": "qZqj9da77AMp"
      },
      "outputs": [],
      "source": [
        "# je sauvegarde les deux DataFrames précédents:\n",
        "\n",
        "file = open('df_business_saved', 'wb')\n",
        "pickle.dump(df_business, file)\n",
        "file.close()\n",
        "\n",
        "\n",
        "file = open('df_review_saved', 'wb')\n",
        "pickle.dump(df_review, file)\n",
        "file.close()"
      ]
    },
    {
      "cell_type": "code",
      "execution_count": 27,
      "metadata": {
        "id": "GRgFPNip7AMp"
      },
      "outputs": [],
      "source": [
        "# ... que je recharge:\n",
        "\n",
        "file = open('df_business_saved', 'rb')\n",
        "df_business = pickle.load(file)\n",
        "file.close()\n",
        "\n",
        "file = open('df_review_saved', 'rb')\n",
        "df_review = pickle.load(file)\n",
        "file.close()"
      ]
    },
    {
      "cell_type": "code",
      "execution_count": 28,
      "metadata": {
        "id": "y3Dq1sQl7AMp"
      },
      "outputs": [],
      "source": [
        "# Je commence par ne conserver que les restaurants n'ayant pas de valeurs manquantes dans la variable \"categories\":\n",
        "\n",
        "df_business  = df_business[df_business['categories'].notnull()]"
      ]
    },
    {
      "cell_type": "code",
      "execution_count": 29,
      "metadata": {
        "id": "y6XLwGdk7AMp"
      },
      "outputs": [],
      "source": [
        "# À partir de là, je définis un nouveau DataFrame qui ne gardera que les \"business\" étant bel et bien des restaurants:\n",
        "\n",
        "df_restaurant = df_business[df_business['categories'].str.contains('Restaurants')]"
      ]
    },
    {
      "cell_type": "code",
      "execution_count": 30,
      "metadata": {
        "id": "jCE4AdKo7AMp"
      },
      "outputs": [],
      "source": [
        "# Et ici, je fais \"matcher\" les commentaires (reviews) qui n'ont trait qu'à des restaurants:\n",
        "\n",
        "df_restaurants_reviews = df_review[df_review['business_id'].isin(df_restaurant['business_id'])]"
      ]
    },
    {
      "cell_type": "code",
      "execution_count": 31,
      "metadata": {
        "colab": {
          "base_uri": "https://localhost:8080/"
        },
        "id": "uBokEjbS7AMp",
        "outputId": "38a737f1-0f45-4ade-b031-b9efd79155df"
      },
      "outputs": [
        {
          "output_type": "execute_result",
          "data": {
            "text/plain": [
              "((173671, 9), (250000, 9))"
            ]
          },
          "metadata": {},
          "execution_count": 31
        }
      ],
      "source": [
        "df_restaurants_reviews.shape, df_review.shape"
      ]
    },
    {
      "cell_type": "code",
      "source": [
        "# À présent, je ne garde que les restaurants avec des mauvaises notes:\n",
        "\n",
        "df_restaurants_bad_reviews = df_restaurants_reviews[df_restaurants_reviews['stars']<3]"
      ],
      "metadata": {
        "id": "nL6kkQJob5Cn"
      },
      "execution_count": 32,
      "outputs": []
    },
    {
      "cell_type": "code",
      "execution_count": 33,
      "metadata": {
        "colab": {
          "base_uri": "https://localhost:8080/"
        },
        "id": "VQtZe6237AMq",
        "outputId": "447e17a7-2e9c-4f46-ebaa-8f64899ce823"
      },
      "outputs": [
        {
          "output_type": "stream",
          "name": "stdout",
          "text": [
            "il y a  3719 restaurants parmi les 173671  mauvais commentaires (note<3) laissés par les clients\n"
          ]
        }
      ],
      "source": [
        "nb_restaurants = df_restaurants_bad_reviews['business_id'].nunique()\n",
        "print('il y a ', nb_restaurants, 'restaurants parmi les', df_restaurants_reviews.shape[0], ' mauvais commentaires (note<3) laissés par les clients')"
      ]
    },
    {
      "cell_type": "code",
      "execution_count": 34,
      "metadata": {
        "id": "yUE2j66M7AMq"
      },
      "outputs": [],
      "source": [
        "# Je sauvegarde ces résultats (le dataframe obtenu), dans un fichier: peut-être nous sera-t-il utile pour la suite...\n",
        "df_restaurants_bad_reviews.to_csv('restaurants_bad_reviews.csv', index=False)"
      ]
    },
    {
      "cell_type": "markdown",
      "metadata": {
        "id": "0iu6s6dT7AMq"
      },
      "source": [
        "# 2. Traitement des données textuelles - NLP"
      ]
    },
    {
      "cell_type": "markdown",
      "metadata": {
        "id": "HD1VZIQn7AMq"
      },
      "source": [
        "Maintenant que nous avons gardé:  \n",
        "    - les restaurants parmi les différents établissements.  \n",
        "    - et au sein de ceux-ci, seuls les restaurants ayant reçu des mauvais avis (c'est à dire des notes <3)  \n",
        "Alors on peut s'attaquer à la partie \"traitement du langage\", appelé en anglais NLP (Natural langage processing)"
      ]
    },
    {
      "cell_type": "markdown",
      "metadata": {
        "id": "nTLe4a4_7AMq"
      },
      "source": [
        "## 2.1. Normalisation des commentaires"
      ]
    },
    {
      "cell_type": "markdown",
      "metadata": {
        "id": "-JpG5Z1x7AMq"
      },
      "source": [
        "Une des premières étapes pour ce faire est la NORMALISATION des données: il s'agit de convertir chaque mot dans une forme **canonique** en leur appliquant certaines opérations:\n",
        "- la **tokenisation** (à savoir \"éclater\" le texte en différents mots)\n",
        "- enlever ce qu'on appelle les **\"stop words\"**, mots qui sont bien sûr utiles dans la compréhension du discours humain, mais pas pour le NLP \n",
        "- enfin, le **POS-tagging (POS pour part of speech)** et la **lemmatisation**, qui consistent  à ramener un mot à sa racine grammaticale (le vocable)\n"
      ]
    },
    {
      "cell_type": "markdown",
      "metadata": {
        "id": "Pn7a3wuZ7AMq"
      },
      "source": [
        "### 2.1.1 Nettoyage des données: tokenisation, enlèvement des \"stop words\""
      ]
    },
    {
      "cell_type": "code",
      "execution_count": 35,
      "metadata": {
        "id": "q2euQOUO7AMq"
      },
      "outputs": [],
      "source": [
        "reviews = pd.read_csv('restaurants_bad_reviews.csv')"
      ]
    },
    {
      "cell_type": "code",
      "execution_count": 36,
      "metadata": {
        "id": "7C93FWsg7AMq"
      },
      "outputs": [],
      "source": [
        "nb_reviews = reviews.shape[0]"
      ]
    },
    {
      "cell_type": "code",
      "execution_count": 37,
      "metadata": {
        "id": "SsED8PmE7AMq"
      },
      "outputs": [],
      "source": [
        "list_of_reviews = reviews['text'].values.tolist()\n",
        "# list_of_reviews est une liste contenant nb_reviews (donc 20440) éléments qui sont eux des chaînes de caractères (str)"
      ]
    },
    {
      "cell_type": "markdown",
      "metadata": {
        "id": "ojvaxkGy7AMq"
      },
      "source": [
        "la tokenisation et la suppression des \"stop words\"se feront grâce aux méthodes de la librairie [NLTK]('https://www.nltk.org/')  "
      ]
    },
    {
      "cell_type": "code",
      "execution_count": 38,
      "metadata": {
        "colab": {
          "base_uri": "https://localhost:8080/"
        },
        "id": "GWWSHEOd7AMq",
        "outputId": "4e35055b-3656-4d76-cb6d-fe0f04ea0e06"
      },
      "outputs": [
        {
          "output_type": "stream",
          "name": "stdout",
          "text": [
            "The setting is perfectly adequate, and the food comes close.   The dining chains like Chilis and Victoria Station do barbecue better.\n",
            "\n",
            "It's no surprise you can always pick up coupons for Linwood at restaurant.com.\n"
          ]
        }
      ],
      "source": [
        "# Exemple:\n",
        "comment = reviews.iloc[2]['text']\n",
        "print(comment)"
      ]
    },
    {
      "cell_type": "code",
      "execution_count": 39,
      "metadata": {
        "colab": {
          "base_uri": "https://localhost:8080/"
        },
        "id": "BPgtfXy47AMq",
        "outputId": "2e11d145-6bb2-40e2-bcf9-811e1610defc"
      },
      "outputs": [
        {
          "output_type": "stream",
          "name": "stdout",
          "text": [
            "[nltk_data] Downloading package stopwords to /root/nltk_data...\n",
            "[nltk_data]   Unzipping corpora/stopwords.zip.\n",
            "[nltk_data] Downloading package wordnet to /root/nltk_data...\n",
            "[nltk_data]   Unzipping corpora/wordnet.zip.\n",
            "[nltk_data] Downloading package punkt to /root/nltk_data...\n",
            "[nltk_data]   Unzipping tokenizers/punkt.zip.\n",
            "[nltk_data] Downloading package averaged_perceptron_tagger to\n",
            "[nltk_data]     /root/nltk_data...\n",
            "[nltk_data]   Unzipping taggers/averaged_perceptron_tagger.zip.\n"
          ]
        }
      ],
      "source": [
        "from nltk.tokenize import word_tokenize\n",
        "import string\n",
        "from nltk.corpus import stopwords\n",
        "nltk.download('stopwords')\n",
        "nltk.download('wordnet')\n",
        "nltk.download('punkt')\n",
        "nltk.download('averaged_perceptron_tagger') \n",
        "\n",
        "def normalisation(text):\n",
        "    #transforme le texte en tokens\n",
        "    tokens = word_tokenize(text)\n",
        "    #convertit les majuscules en minusucles\n",
        "    tokens = [word.lower() for word in tokens]\n",
        "    table = str.maketrans('', '', string.punctuation)\n",
        "    stripped = [w.translate(table) for w in tokens]\n",
        "    # remove remaining tokens that are not alphabetic\n",
        "    words = [word for word in stripped if word.isalpha()]\n",
        "    # filter out stop words\n",
        "    stop_words = set(stopwords.words('english'))\n",
        "    words = [w for w in words if not w in stop_words]\n",
        "    return words"
      ]
    },
    {
      "cell_type": "code",
      "execution_count": 40,
      "metadata": {
        "colab": {
          "base_uri": "https://localhost:8080/"
        },
        "id": "TJW92gyN7AMq",
        "outputId": "4c74207f-77e2-419d-ecfc-75cd59343012"
      },
      "outputs": [
        {
          "output_type": "stream",
          "name": "stdout",
          "text": [
            "['setting', 'perfectly', 'adequate', 'food', 'comes', 'close', 'dining', 'chains', 'like', 'chilis', 'victoria', 'station', 'barbecue', 'better', 'surprise', 'always', 'pick', 'coupons', 'linwood', 'restaurantcom']\n"
          ]
        }
      ],
      "source": [
        "print(normalisation(comment))"
      ]
    },
    {
      "cell_type": "markdown",
      "metadata": {
        "id": "MDhND9xZ7AMq"
      },
      "source": [
        "la fonction \"normalisation\" a donc transformé le commentaire en une liste ne contenant plus que les \"tokens\", sans les \"stop words\""
      ]
    },
    {
      "cell_type": "markdown",
      "metadata": {
        "id": "sFbjy--T7AMr"
      },
      "source": [
        "A présent, nous pouvons appliquer cette fonction sur l'ensemble des commentaires de notre \"list_of_reviews\""
      ]
    },
    {
      "cell_type": "code",
      "execution_count": 41,
      "metadata": {
        "id": "jyFC4bm_7AMr"
      },
      "outputs": [],
      "source": [
        "list_of_reviews_normalized = [normalisation(elt) for elt in list_of_reviews]"
      ]
    },
    {
      "cell_type": "code",
      "execution_count": 42,
      "metadata": {
        "colab": {
          "base_uri": "https://localhost:8080/"
        },
        "id": "YFVx56F57AMr",
        "outputId": "8481e3e2-aefa-482b-a382-7b513203cfdf"
      },
      "outputs": [
        {
          "output_type": "stream",
          "name": "stdout",
          "text": [
            "['setting', 'perfectly', 'adequate', 'food', 'comes', 'close', 'dining', 'chains', 'like', 'chilis', 'victoria', 'station', 'barbecue', 'better', 'surprise', 'always', 'pick', 'coupons', 'linwood', 'restaurantcom'] "
          ]
        }
      ],
      "source": [
        "print(list_of_reviews_normalized[2], end= ' ')"
      ]
    },
    {
      "cell_type": "markdown",
      "metadata": {
        "id": "tY8lNeAg7AMr"
      },
      "source": [
        "### 2.1.2 POS tagging et lemmatisation"
      ]
    },
    {
      "cell_type": "markdown",
      "metadata": {
        "id": "EWpLHWGb7AMr"
      },
      "source": [
        "le **POS (part of speech) tagging** consiste à identifier les mots selon leur fonction dans la phrase (nom, adjectif, verbe...)\n",
        "Quant à la **lemmatisation**, elle ramène les mots à leur forme canonique"
      ]
    },
    {
      "cell_type": "markdown",
      "metadata": {
        "id": "-gvhD6r87AMr"
      },
      "source": [
        "Pour Les deux, j'utiliserai les méthodes embarquées par la librairie \"[**SpaCy**](https://spacy./)\""
      ]
    },
    {
      "cell_type": "markdown",
      "metadata": {
        "id": "Tmf-k-817AMr"
      },
      "source": [
        "**Remarque:** ainsi que mentionné ici [Machine learning mastery](https://machinelearningmastery.com/gentle-introduction-bag-words-model/ ),  \n",
        "\"A more sophisticated approach is to create a vocabulary of grouped words. This both changes the scope of the vocabulary and allows the bag-of-words to capture a little bit more meaning from the document.\"  \n",
        "\n",
        "Donc, pour pouvoir avoir une meilleure analyse des mauvais commentaires, il apparait judicieux de prévoir, pour notre construction de **\"bag of words\"** future, de considérer ce qu'on appelle un bigramme (2-gram en anglais) qui nous permettra d'isoler une expression telle que \"mauvais service\""
      ]
    },
    {
      "cell_type": "code",
      "execution_count": 43,
      "metadata": {
        "id": "dr530BlM7AMr"
      },
      "outputs": [],
      "source": [
        "import spacy\n",
        "import en_core_web_sm #import du modèle \"en_core_web_sm\" du vocabulaire anglais, de sa syntaxe et de sesn entités\n",
        "nlp = en_core_web_sm.load() #chargement de ce modèle"
      ]
    },
    {
      "cell_type": "code",
      "execution_count": 44,
      "metadata": {
        "id": "rhjkI9Uc7AMr"
      },
      "outputs": [],
      "source": [
        "def list_to_string (liste):\n",
        "    return (' '.join(liste))"
      ]
    },
    {
      "cell_type": "code",
      "execution_count": 45,
      "metadata": {
        "id": "isn_dgir7AMr"
      },
      "outputs": [],
      "source": [
        "# je crée la liste des TAGs pour notre futur bigram\n",
        "\n",
        "TAG_list = ['NOUN'] #on ne garde que les noms"
      ]
    },
    {
      "cell_type": "code",
      "execution_count": 46,
      "metadata": {
        "id": "YMl-dTSd7AMr"
      },
      "outputs": [],
      "source": [
        "'''je définis une fonction qui prend en entrée un texte et retourne les NOMS COMMUNS contenus dans ce texte\n",
        " la fonction:\n",
        "     -> prend en entrée une chaïne de caractères\n",
        "     -> renvoie une chaîne de caractères'''\n",
        "\n",
        "def POS_tagging (text):\n",
        "    tag = nlp(text)\n",
        "    l = [word.text for word in tag if word.pos_ in TAG_list]\n",
        "    return ' '.join(l)"
      ]
    },
    {
      "cell_type": "code",
      "execution_count": 47,
      "metadata": {
        "colab": {
          "base_uri": "https://localhost:8080/",
          "height": 35
        },
        "id": "WazI4tPN7AMr",
        "outputId": "97c9cda3-ffc6-47f0-af18-79695a99616a"
      },
      "outputs": [
        {
          "output_type": "execute_result",
          "data": {
            "text/plain": [
              "'setting food dining chains barbecue surprise coupons'"
            ],
            "application/vnd.google.colaboratory.intrinsic+json": {
              "type": "string"
            }
          },
          "metadata": {},
          "execution_count": 47
        }
      ],
      "source": [
        "POS_tagging(comment)"
      ]
    },
    {
      "cell_type": "code",
      "execution_count": 48,
      "metadata": {
        "id": "2R0Vvzw67AMr"
      },
      "outputs": [],
      "source": [
        "'''je définis une fonction qui prend en entrée un texte et retourne les mots du texte sous forme canonique (leur \"lemme\")\n",
        " la fonction:\n",
        "     -> prend en entrée une chaïne de caractères\n",
        "     -> renvoie une chaîne de caractères'''\n",
        "\n",
        "def lemmatisation (text):\n",
        "    lem = nlp(text)\n",
        "    l = [word.lemma_ for word in lem]\n",
        "    return ' '.join(l)"
      ]
    },
    {
      "cell_type": "markdown",
      "metadata": {
        "id": "ms6NpCqp7AMr"
      },
      "source": [
        "A présent on peu enchaîner les deux fonctions: testons les sur le commentaire défini précédemment"
      ]
    },
    {
      "cell_type": "code",
      "execution_count": 49,
      "metadata": {
        "colab": {
          "base_uri": "https://localhost:8080/"
        },
        "id": "SRKa-2lc7AMr",
        "outputId": "3e29d485-51f2-4b0a-bc0b-2dd73e3c8b10"
      },
      "outputs": [
        {
          "output_type": "stream",
          "name": "stdout",
          "text": [
            "voici le commentaire en question:\n",
            "\n",
            " The setting is perfectly adequate, and the food comes close.   The dining chains like Chilis and Victoria Station do barbecue better.\n",
            "\n",
            "It's no surprise you can always pick up coupons for Linwood at restaurant.com.\n",
            "\n",
            "\n",
            "voici le commentaire dont il ne reste que les noms communs ayant été par la suite lemmatisés\n",
            " set food dining chain barbecue surprise coupon\n"
          ]
        }
      ],
      "source": [
        "print ('voici le commentaire en question:\\n\\n', comment)\n",
        "text = POS_tagging(comment)\n",
        "text = lemmatisation(text)\n",
        "print('\\n\\nvoici le commentaire dont il ne reste que les noms communs ayant été par la suite lemmatisés\\n', text)"
      ]
    },
    {
      "cell_type": "markdown",
      "metadata": {
        "id": "SLM1s1qh7AMr"
      },
      "source": [
        "il ne nous reste plus qu'à transformer tous nos commentaires de notre \"list_of_reviews_normalized\".  \n",
        "**Rq** : Cette \"list_of_reviews_normalized\" étant justement une liste quand il nous faut une chaîne de caractères pour le POS_Tagging, alors il me faudra effectuer cette première étape\n",
        "    \n",
        "    "
      ]
    },
    {
      "cell_type": "code",
      "execution_count": 50,
      "metadata": {
        "colab": {
          "base_uri": "https://localhost:8080/"
        },
        "id": "Ijki9BCN7AMr",
        "outputId": "8c95a587-635d-4fa5-a3dc-dc171b358681"
      },
      "outputs": [
        {
          "output_type": "stream",
          "name": "stdout",
          "text": [
            "CPU times: user 14min 9s, sys: 18.4 s, total: 14min 28s\n",
            "Wall time: 14min 25s\n"
          ]
        }
      ],
      "source": [
        "%%time\n",
        "cleaned_list = []\n",
        "for i in range(nb_reviews):\n",
        "    liste = list_of_reviews_normalized[i]\n",
        "    text = ' '.join(liste)\n",
        "    text = POS_tagging(text)\n",
        "    text = lemmatisation(text)\n",
        "    cleaned_list.append(text)\n",
        "    "
      ]
    },
    {
      "cell_type": "code",
      "execution_count": 51,
      "metadata": {
        "id": "98kP87zm7AMs"
      },
      "outputs": [],
      "source": [
        "reviews['cleaned_text'] = pd.DataFrame(cleaned_list)"
      ]
    },
    {
      "cell_type": "code",
      "execution_count": 52,
      "metadata": {
        "colab": {
          "base_uri": "https://localhost:8080/",
          "height": 580
        },
        "id": "OcZuKDhy7AMs",
        "outputId": "b35a95c6-9ef6-4aa9-a897-bc6a3679d4ba"
      },
      "outputs": [
        {
          "output_type": "execute_result",
          "data": {
            "text/plain": [
              "                review_id                 user_id             business_id  \\\n",
              "0  T5fAqjjFooT4V0OeZyuk1w  SFQ1jcnGguO0LYWnbbftAA  0AzLzHfOJgL7ROwhdww2ew   \n",
              "1  J4a2TuhDasjn2k3wWtHZnQ  RNm_RWkcd02Li2mKPRe7Eg  xGXzsc-hzam-VArK6eTvtw   \n",
              "2  28gGfkLs3igtjVy61lh77Q  Q8c91v7luItVB0cMFF_mRA  EXOsmAB1s71WePlQk0WZrA   \n",
              "3  FdoBFTjXXMn4hVnJ59EtiQ  eLAYHxHUutiXswy-CfeiUw  WQFn1A7-UAA4JT5YWiop_w   \n",
              "4  ucFOnqgaV40oQ2YNyz5ddQ  JHXQEayrDHOWGexs0dCviA  KXCXaF5qimmtKKqnPc_LQA   \n",
              "\n",
              "   stars  useful  funny  cool  \\\n",
              "0      2       1      1     1   \n",
              "1      1       2      0     0   \n",
              "2      2       0      0     0   \n",
              "3      1       0      0     0   \n",
              "4      1       0      0     0   \n",
              "\n",
              "                                                                                                                                                                                                      text  \\\n",
              "0  I've stayed at many Marriott and Renaissance Marriott's and this was a huge disappointment! The front desk and atrium is nice..there is a starbucks on site which is nice.\\n\\nThe rooms are run down...   \n",
              "1  This place used to be a cool, chill place. Now its a bunch of neanderthal bouncers hopped up on steroids acting like the can do whatever they want. There are so many better places in davis square ...   \n",
              "2  The setting is perfectly adequate, and the food comes close.   The dining chains like Chilis and Victoria Station do barbecue better.\\n\\nIt's no surprise you can always pick up coupons for Linwood...   \n",
              "3                                   They NEVER seem to get our \\norder correct, service is crappy, food is inconsistent and has gone down hill steadily in the last 6-9 months! WILL NEVER GO THERE AGAIN!   \n",
              "4                                                                                                       Great coffee and pastries. Baristas are excellent. All the other staff are sooooo lost and vacant.   \n",
              "\n",
              "                  date  \\\n",
              "0  2010-01-08 02:29:15   \n",
              "1  2018-01-21 04:41:03   \n",
              "2  2006-04-16 02:58:44   \n",
              "3  2017-09-08 23:26:10   \n",
              "4  2018-03-03 23:45:25   \n",
              "\n",
              "                                                                         cleaned_text  \n",
              "0  disappointment room screen renaissance hotel priceline rate deal price renaissance  \n",
              "1                 place chill place bunch bouncer steroid place business burren place  \n",
              "2                                                   food dining chain surprise coupon  \n",
              "3                                   order service crappy food inconsistent hill month  \n",
              "4                                                         coffee pastry barista staff  "
            ],
            "text/html": [
              "\n",
              "  <div id=\"df-9ac5a6ce-d6c6-46f8-8d3c-ef77ee5d99da\">\n",
              "    <div class=\"colab-df-container\">\n",
              "      <div>\n",
              "<style scoped>\n",
              "    .dataframe tbody tr th:only-of-type {\n",
              "        vertical-align: middle;\n",
              "    }\n",
              "\n",
              "    .dataframe tbody tr th {\n",
              "        vertical-align: top;\n",
              "    }\n",
              "\n",
              "    .dataframe thead th {\n",
              "        text-align: right;\n",
              "    }\n",
              "</style>\n",
              "<table border=\"1\" class=\"dataframe\">\n",
              "  <thead>\n",
              "    <tr style=\"text-align: right;\">\n",
              "      <th></th>\n",
              "      <th>review_id</th>\n",
              "      <th>user_id</th>\n",
              "      <th>business_id</th>\n",
              "      <th>stars</th>\n",
              "      <th>useful</th>\n",
              "      <th>funny</th>\n",
              "      <th>cool</th>\n",
              "      <th>text</th>\n",
              "      <th>date</th>\n",
              "      <th>cleaned_text</th>\n",
              "    </tr>\n",
              "  </thead>\n",
              "  <tbody>\n",
              "    <tr>\n",
              "      <th>0</th>\n",
              "      <td>T5fAqjjFooT4V0OeZyuk1w</td>\n",
              "      <td>SFQ1jcnGguO0LYWnbbftAA</td>\n",
              "      <td>0AzLzHfOJgL7ROwhdww2ew</td>\n",
              "      <td>2</td>\n",
              "      <td>1</td>\n",
              "      <td>1</td>\n",
              "      <td>1</td>\n",
              "      <td>I've stayed at many Marriott and Renaissance Marriott's and this was a huge disappointment! The front desk and atrium is nice..there is a starbucks on site which is nice.\\n\\nThe rooms are run down...</td>\n",
              "      <td>2010-01-08 02:29:15</td>\n",
              "      <td>disappointment room screen renaissance hotel priceline rate deal price renaissance</td>\n",
              "    </tr>\n",
              "    <tr>\n",
              "      <th>1</th>\n",
              "      <td>J4a2TuhDasjn2k3wWtHZnQ</td>\n",
              "      <td>RNm_RWkcd02Li2mKPRe7Eg</td>\n",
              "      <td>xGXzsc-hzam-VArK6eTvtw</td>\n",
              "      <td>1</td>\n",
              "      <td>2</td>\n",
              "      <td>0</td>\n",
              "      <td>0</td>\n",
              "      <td>This place used to be a cool, chill place. Now its a bunch of neanderthal bouncers hopped up on steroids acting like the can do whatever they want. There are so many better places in davis square ...</td>\n",
              "      <td>2018-01-21 04:41:03</td>\n",
              "      <td>place chill place bunch bouncer steroid place business burren place</td>\n",
              "    </tr>\n",
              "    <tr>\n",
              "      <th>2</th>\n",
              "      <td>28gGfkLs3igtjVy61lh77Q</td>\n",
              "      <td>Q8c91v7luItVB0cMFF_mRA</td>\n",
              "      <td>EXOsmAB1s71WePlQk0WZrA</td>\n",
              "      <td>2</td>\n",
              "      <td>0</td>\n",
              "      <td>0</td>\n",
              "      <td>0</td>\n",
              "      <td>The setting is perfectly adequate, and the food comes close.   The dining chains like Chilis and Victoria Station do barbecue better.\\n\\nIt's no surprise you can always pick up coupons for Linwood...</td>\n",
              "      <td>2006-04-16 02:58:44</td>\n",
              "      <td>food dining chain surprise coupon</td>\n",
              "    </tr>\n",
              "    <tr>\n",
              "      <th>3</th>\n",
              "      <td>FdoBFTjXXMn4hVnJ59EtiQ</td>\n",
              "      <td>eLAYHxHUutiXswy-CfeiUw</td>\n",
              "      <td>WQFn1A7-UAA4JT5YWiop_w</td>\n",
              "      <td>1</td>\n",
              "      <td>0</td>\n",
              "      <td>0</td>\n",
              "      <td>0</td>\n",
              "      <td>They NEVER seem to get our \\norder correct, service is crappy, food is inconsistent and has gone down hill steadily in the last 6-9 months! WILL NEVER GO THERE AGAIN!</td>\n",
              "      <td>2017-09-08 23:26:10</td>\n",
              "      <td>order service crappy food inconsistent hill month</td>\n",
              "    </tr>\n",
              "    <tr>\n",
              "      <th>4</th>\n",
              "      <td>ucFOnqgaV40oQ2YNyz5ddQ</td>\n",
              "      <td>JHXQEayrDHOWGexs0dCviA</td>\n",
              "      <td>KXCXaF5qimmtKKqnPc_LQA</td>\n",
              "      <td>1</td>\n",
              "      <td>0</td>\n",
              "      <td>0</td>\n",
              "      <td>0</td>\n",
              "      <td>Great coffee and pastries. Baristas are excellent. All the other staff are sooooo lost and vacant.</td>\n",
              "      <td>2018-03-03 23:45:25</td>\n",
              "      <td>coffee pastry barista staff</td>\n",
              "    </tr>\n",
              "  </tbody>\n",
              "</table>\n",
              "</div>\n",
              "      <button class=\"colab-df-convert\" onclick=\"convertToInteractive('df-9ac5a6ce-d6c6-46f8-8d3c-ef77ee5d99da')\"\n",
              "              title=\"Convert this dataframe to an interactive table.\"\n",
              "              style=\"display:none;\">\n",
              "        \n",
              "  <svg xmlns=\"http://www.w3.org/2000/svg\" height=\"24px\"viewBox=\"0 0 24 24\"\n",
              "       width=\"24px\">\n",
              "    <path d=\"M0 0h24v24H0V0z\" fill=\"none\"/>\n",
              "    <path d=\"M18.56 5.44l.94 2.06.94-2.06 2.06-.94-2.06-.94-.94-2.06-.94 2.06-2.06.94zm-11 1L8.5 8.5l.94-2.06 2.06-.94-2.06-.94L8.5 2.5l-.94 2.06-2.06.94zm10 10l.94 2.06.94-2.06 2.06-.94-2.06-.94-.94-2.06-.94 2.06-2.06.94z\"/><path d=\"M17.41 7.96l-1.37-1.37c-.4-.4-.92-.59-1.43-.59-.52 0-1.04.2-1.43.59L10.3 9.45l-7.72 7.72c-.78.78-.78 2.05 0 2.83L4 21.41c.39.39.9.59 1.41.59.51 0 1.02-.2 1.41-.59l7.78-7.78 2.81-2.81c.8-.78.8-2.07 0-2.86zM5.41 20L4 18.59l7.72-7.72 1.47 1.35L5.41 20z\"/>\n",
              "  </svg>\n",
              "      </button>\n",
              "      \n",
              "  <style>\n",
              "    .colab-df-container {\n",
              "      display:flex;\n",
              "      flex-wrap:wrap;\n",
              "      gap: 12px;\n",
              "    }\n",
              "\n",
              "    .colab-df-convert {\n",
              "      background-color: #E8F0FE;\n",
              "      border: none;\n",
              "      border-radius: 50%;\n",
              "      cursor: pointer;\n",
              "      display: none;\n",
              "      fill: #1967D2;\n",
              "      height: 32px;\n",
              "      padding: 0 0 0 0;\n",
              "      width: 32px;\n",
              "    }\n",
              "\n",
              "    .colab-df-convert:hover {\n",
              "      background-color: #E2EBFA;\n",
              "      box-shadow: 0px 1px 2px rgba(60, 64, 67, 0.3), 0px 1px 3px 1px rgba(60, 64, 67, 0.15);\n",
              "      fill: #174EA6;\n",
              "    }\n",
              "\n",
              "    [theme=dark] .colab-df-convert {\n",
              "      background-color: #3B4455;\n",
              "      fill: #D2E3FC;\n",
              "    }\n",
              "\n",
              "    [theme=dark] .colab-df-convert:hover {\n",
              "      background-color: #434B5C;\n",
              "      box-shadow: 0px 1px 3px 1px rgba(0, 0, 0, 0.15);\n",
              "      filter: drop-shadow(0px 1px 2px rgba(0, 0, 0, 0.3));\n",
              "      fill: #FFFFFF;\n",
              "    }\n",
              "  </style>\n",
              "\n",
              "      <script>\n",
              "        const buttonEl =\n",
              "          document.querySelector('#df-9ac5a6ce-d6c6-46f8-8d3c-ef77ee5d99da button.colab-df-convert');\n",
              "        buttonEl.style.display =\n",
              "          google.colab.kernel.accessAllowed ? 'block' : 'none';\n",
              "\n",
              "        async function convertToInteractive(key) {\n",
              "          const element = document.querySelector('#df-9ac5a6ce-d6c6-46f8-8d3c-ef77ee5d99da');\n",
              "          const dataTable =\n",
              "            await google.colab.kernel.invokeFunction('convertToInteractive',\n",
              "                                                     [key], {});\n",
              "          if (!dataTable) return;\n",
              "\n",
              "          const docLinkHtml = 'Like what you see? Visit the ' +\n",
              "            '<a target=\"_blank\" href=https://colab.research.google.com/notebooks/data_table.ipynb>data table notebook</a>'\n",
              "            + ' to learn more about interactive tables.';\n",
              "          element.innerHTML = '';\n",
              "          dataTable['output_type'] = 'display_data';\n",
              "          await google.colab.output.renderOutput(dataTable, element);\n",
              "          const docLink = document.createElement('div');\n",
              "          docLink.innerHTML = docLinkHtml;\n",
              "          element.appendChild(docLink);\n",
              "        }\n",
              "      </script>\n",
              "    </div>\n",
              "  </div>\n",
              "  "
            ]
          },
          "metadata": {},
          "execution_count": 52
        }
      ],
      "source": [
        "reviews.head()"
      ]
    },
    {
      "cell_type": "code",
      "source": [
        "## **Remarque importante!!!** En ne gardant que les noms, on voit que l'on perd beaucoup d'informations. \n",
        "## Je vais donc refaire la procédure en incluant cette fois les adjectifs."
      ],
      "metadata": {
        "id": "29kRmCKR7AMs"
      },
      "execution_count": 53,
      "outputs": []
    },
    {
      "cell_type": "code",
      "execution_count": 54,
      "metadata": {
        "id": "HmNPp--v7AMs"
      },
      "outputs": [],
      "source": [
        "#%%time\n",
        "#TAG_list = ['NOUN', 'ADJ'] # cette fois j'inclue les adjectifs\n",
        "#\n",
        "#cleaned_list = []\n",
        "#for i in range(nb_reviews):\n",
        "#    liste = list_of_reviews_normalized[i]\n",
        "#    text = ' '.join(liste)\n",
        "#    text = POS_tagging(text)\n",
        "#    text = lemmatisation(text)\n",
        "#    cleaned_list.append(text)\n",
        "#"
      ]
    },
    {
      "cell_type": "code",
      "execution_count": 55,
      "metadata": {
        "id": "fdocOyUz7AMs"
      },
      "outputs": [],
      "source": [
        "#reviews['cleaned_text'] = pd.DataFrame(cleaned_list)\n",
        "#reviews.head()"
      ]
    },
    {
      "cell_type": "markdown",
      "metadata": {
        "id": "6thIQFtJ7AMs"
      },
      "source": [
        "### 2.2. Création du \"bag of words\" avec Gensim"
      ]
    },
    {
      "cell_type": "markdown",
      "metadata": {
        "id": "oU81-mD27AMs"
      },
      "source": [
        "Tout ce qui suit est inspiré de cette [page](https://getdoc.wiki/Gensim-creating-a-bag-of-words-corpus)"
      ]
    },
    {
      "cell_type": "code",
      "execution_count": 56,
      "metadata": {
        "colab": {
          "base_uri": "https://localhost:8080/"
        },
        "id": "vB-k14Uq7AMs",
        "outputId": "8cc6d747-4dce-420e-bc2b-dad8831e2046"
      },
      "outputs": [
        {
          "output_type": "stream",
          "name": "stdout",
          "text": [
            "['food', 'dining', 'chain', 'surprise', 'coupon'] "
          ]
        }
      ],
      "source": [
        "cleaned_list_tokenized = [word_tokenize(elt) for elt in reviews['cleaned_text']]\n",
        "print(cleaned_list_tokenized[2], end = ' ')"
      ]
    },
    {
      "cell_type": "code",
      "execution_count": 57,
      "metadata": {
        "colab": {
          "base_uri": "https://localhost:8080/"
        },
        "id": "GHKMOctd7AMs",
        "outputId": "8c6c289b-a5c3-4adb-9094-64d4da086d49"
      },
      "outputs": [
        {
          "output_type": "stream",
          "name": "stdout",
          "text": [
            "CPU times: user 1.8 s, sys: 15 ms, total: 1.81 s\n",
            "Wall time: 1.8 s\n"
          ]
        }
      ],
      "source": [
        "%%time\n",
        "import gensim.corpora as corpora\n",
        "from gensim.corpora import Dictionary\n",
        "from gensim.utils import simple_preprocess\n",
        "\n",
        "#Je crée un objet \"dictionnary\"\n",
        "id2word = corpora.Dictionary(cleaned_list_tokenized)\n",
        "\n",
        "# Je crée à présent un corpus de \"bag of words\" ainsi:\n",
        "corpus = [id2word.doc2bow(doc, allow_update=True) for doc in cleaned_list_tokenized]\n",
        "#print(BOW_corpus)"
      ]
    },
    {
      "cell_type": "code",
      "execution_count": 58,
      "metadata": {
        "colab": {
          "base_uri": "https://localhost:8080/"
        },
        "id": "jQ0pD3oI7AMs",
        "outputId": "2b2ed05b-dc39-4a24-e125-76e9348a3f8f"
      },
      "outputs": [
        {
          "output_type": "stream",
          "name": "stdout",
          "text": [
            "[(0, 1), (1, 1), (2, 1), (3, 1), (4, 1), (5, 1), (6, 2), (7, 1), (8, 1)]\n",
            "9\n",
            "10\n"
          ]
        }
      ],
      "source": [
        "print(corpus[0])\n",
        "print(len(corpus[0]))\n",
        "print(len(cleaned_list_tokenized[0]))"
      ]
    },
    {
      "cell_type": "markdown",
      "metadata": {
        "id": "gLlfm6UF7AMs"
      },
      "source": [
        "Ici, on voit que notre 1ère ligne:  \n",
        "\"many marriott huge disappointment front desk atrium nice starbuck site nice room old flat screen hotel priceline rate good deal price true renaissance\"  \n",
        "a été transformée en une liste de couples d'éléments où:  \n",
        "le 1er terme est la position du mot dans la phrase. \n",
        "le 2nd est son nombre d'occurences. \n",
        "\n",
        "ex: (3,1) représente le mot \"dissapointment\" et n'apparaît qu'une fois.  \n",
        "\n",
        "Remarque: nous avons (11,2) ce qui \"déplace d'un cran\" les autres termes vers la gauche et c'est pourquoi dans corpus[0] nous avons 22 éléments quand nous en avions 23 dans le texte d'origine\n"
      ]
    },
    {
      "cell_type": "markdown",
      "metadata": {
        "id": "yNo7XbF27AMs"
      },
      "source": [
        "Le problème de notre \"BoW_corpus\" est qu'il n'est pas lisible en l'état mais avec une ligne de code en plus, on peut remédier à cela:"
      ]
    },
    {
      "cell_type": "code",
      "source": [
        "%%time\n",
        "id_words = [[(id2word[id], count) for id, count in line] for line in corpus]\n",
        "print(id_words[0])"
      ],
      "metadata": {
        "colab": {
          "base_uri": "https://localhost:8080/"
        },
        "id": "Enl-dQ8om7B5",
        "outputId": "7a02b4e3-b384-4e85-b2e7-7960ec7295d3"
      },
      "execution_count": 59,
      "outputs": [
        {
          "output_type": "stream",
          "name": "stdout",
          "text": [
            "[('deal', 1), ('disappointment', 1), ('hotel', 1), ('price', 1), ('priceline', 1), ('rate', 1), ('renaissance', 2), ('room', 1), ('screen', 1)]\n",
            "CPU times: user 807 ms, sys: 24.1 ms, total: 831 ms\n",
            "Wall time: 825 ms\n"
          ]
        }
      ]
    },
    {
      "cell_type": "markdown",
      "metadata": {
        "id": "eVArUBb_7AMs"
      },
      "source": [
        "Maintenant, nous avons notre **corpus** que nous pouvons enregistrer pour la suite"
      ]
    },
    {
      "cell_type": "code",
      "execution_count": 60,
      "metadata": {
        "id": "_c101upJ7AMs"
      },
      "outputs": [],
      "source": [
        "id2word.save('dictionary')\n",
        "corpora.MmCorpus.serialize('corpus', corpus)"
      ]
    },
    {
      "cell_type": "code",
      "source": [
        "# Load the dictionary\n",
        "id2word = corpora.Dictionary.load('dictionary')\n",
        "\n",
        "# Load corpus\n",
        "corpus = corpora.MmCorpus('corpus')\n",
        "\n",
        "## Read back pickle file\n",
        "#with open ('lda_input_data.ob', 'rb') as fp:\n",
        "#    data_words_bigrams = pickle.load(fp)"
      ],
      "metadata": {
        "id": "XTGPSlcOn-8i"
      },
      "execution_count": 61,
      "outputs": []
    },
    {
      "cell_type": "code",
      "execution_count": 63,
      "metadata": {
        "id": "kXWYn-YV7AMt"
      },
      "outputs": [],
      "source": [
        "corpus = corpora.MmCorpus('corpus')"
      ]
    },
    {
      "cell_type": "code",
      "execution_count": 64,
      "metadata": {
        "colab": {
          "base_uri": "https://localhost:8080/"
        },
        "id": "EE6PAooN7AMt",
        "outputId": "2e2ab510-99ba-4b95-feb6-6a612c0bccf5"
      },
      "outputs": [
        {
          "output_type": "execute_result",
          "data": {
            "text/plain": [
              "19405"
            ]
          },
          "metadata": {},
          "execution_count": 64
        }
      ],
      "source": [
        "len(id2word)"
      ]
    },
    {
      "cell_type": "markdown",
      "source": [
        "À présent on commence par entrâiner un modèle de base. Je choisis 10 topics "
      ],
      "metadata": {
        "id": "wKMaaRtlN8XI"
      }
    },
    {
      "cell_type": "code",
      "execution_count": 65,
      "metadata": {
        "colab": {
          "base_uri": "https://localhost:8080/"
        },
        "id": "cv_JqOEy7AMt",
        "outputId": "906ff7e6-b8a7-4653-b027-af0604604556"
      },
      "outputs": [
        {
          "output_type": "stream",
          "name": "stdout",
          "text": [
            "CPU times: user 3min 45s, sys: 39.5 s, total: 4min 24s\n",
            "Wall time: 4min 23s\n"
          ]
        }
      ],
      "source": [
        "%%time\n",
        "from gensim.models import LdaModel\n",
        "\n",
        "model = LdaModel(\n",
        "    corpus=corpus,\n",
        "    id2word=id2word,\n",
        "    chunksize=100,\n",
        "    random_state = 42,\n",
        "    alpha='auto',\n",
        "    eta='auto',\n",
        "    iterations=50,\n",
        "    num_topics=10,\n",
        "    passes=10,\n",
        "    eval_every = None, # Don't evaluate model perplexity, takes too much time\n",
        "    per_word_topics=True\n",
        "\n",
        ")\n"
      ]
    },
    {
      "cell_type": "markdown",
      "metadata": {
        "id": "CNWZLCqv7AMt"
      },
      "source": [
        "Pour la suite, voir [ici](https://www.machinelearningplus.com/nlp/topic-modeling-gensim-python/)"
      ]
    },
    {
      "cell_type": "code",
      "execution_count": 66,
      "metadata": {
        "colab": {
          "base_uri": "https://localhost:8080/"
        },
        "id": "HvGbZMeP7AMt",
        "outputId": "bd86f5ac-4ed5-4b67-c06c-02fe7594a12a"
      },
      "outputs": [
        {
          "output_type": "stream",
          "name": "stdout",
          "text": [
            "\n",
            "Perplexity:  -44.41003695305687\n",
            "\n",
            "Coherence Score:  0.5192302973225407\n"
          ]
        }
      ],
      "source": [
        "# Compute Perplexity\n",
        "print('\\nPerplexity: ', model.log_perplexity(corpus))  # a measure of how good the model is. lower the better.\n",
        "\n",
        "# Compute Coherence Score\n",
        "from gensim.models.coherencemodel import CoherenceModel\n",
        "coherence_model_lda = CoherenceModel(model=model, texts=cleaned_list_tokenized, dictionary=id2word, coherence='c_v')\n",
        "coherence_lda = coherence_model_lda.get_coherence()\n",
        "print('\\nCoherence Score: ', coherence_lda)"
      ]
    },
    {
      "cell_type": "code",
      "execution_count": 69,
      "metadata": {
        "colab": {
          "base_uri": "https://localhost:8080/"
        },
        "id": "2PBbsOl77AMt",
        "outputId": "eeb62009-ff0d-4518-98c6-929675e4b9b3"
      },
      "outputs": [
        {
          "output_type": "stream",
          "name": "stdout",
          "text": [
            "CPU times: user 4 µs, sys: 0 ns, total: 4 µs\n",
            "Wall time: 7.39 µs\n"
          ]
        }
      ],
      "source": [
        "%%time\n",
        "def compute_coherence_values(dictionary, corpus, texts, start, step, limit):\n",
        "    \"\"\"\n",
        "    Compute c_v coherence for various number of topics\n",
        "\n",
        "    Parameters:\n",
        "    ----------\n",
        "    dictionary : Gensim dictionary\n",
        "    corpus : Gensim corpus\n",
        "    texts : List of input texts\n",
        "    limit : Max num of topics\n",
        "\n",
        "    Returns:\n",
        "    -------\n",
        "    model_list : List of LDA topic models\n",
        "    coherence_values : Coherence values corresponding to the LDA model with respective number of topics\n",
        "    \"\"\"\n",
        "    coherence_values = []\n",
        "    model_list = []\n",
        "    for num_topics in range(start, limit, step):\n",
        "        model=LdaModel(corpus=corpus, id2word=dictionary, num_topics=num_topics)\n",
        "        model_list.append(model)\n",
        "        coherencemodel = CoherenceModel(model=model, texts=cleaned_list_tokenized, dictionary=id2word, coherence='c_v')\n",
        "        coherence_values.append(coherencemodel.get_coherence())\n",
        "\n",
        "    return model_list, coherence_values"
      ]
    },
    {
      "cell_type": "code",
      "execution_count": 71,
      "metadata": {
        "colab": {
          "base_uri": "https://localhost:8080/",
          "height": 279
        },
        "id": "bhyyWDjr7AMt",
        "outputId": "bb68357b-052e-489c-b953-b0c02cd0d694"
      },
      "outputs": [
        {
          "output_type": "display_data",
          "data": {
            "text/plain": [
              "<Figure size 432x288 with 1 Axes>"
            ],
            "image/png": "[encoded data removed]"
          },
          "metadata": {
            "needs_background": "light"
          }
        }
      ],
      "source": [
        "model_list, coherence_values = compute_coherence_values(dictionary=id2word, corpus=corpus, texts=cleaned_list_tokenized, start=2, limit=21, step=3)\n",
        "# Show graph\n",
        "import matplotlib.pyplot as plt\n",
        "start=2; limit=21; step=3;\n",
        "x = range(start, limit, step)\n",
        "plt.plot(x, coherence_values)\n",
        "plt.xlabel(\"Num Topics\")\n",
        "plt.ylabel(\"Coherence score\")\n",
        "plt.legend((\"coherence_values\"), loc='best')\n",
        "plt.show()"
      ]
    },
    {
      "cell_type": "markdown",
      "source": [
        "On voit que le nombre optimal de topics est de 5"
      ],
      "metadata": {
        "id": "q6PJT4kgIype"
      }
    },
    {
      "cell_type": "code",
      "execution_count": 80,
      "metadata": {
        "colab": {
          "base_uri": "https://localhost:8080/"
        },
        "id": "1kLMP2ZQ7AMt",
        "outputId": "3403dd37-a65b-4871-d793-ca928d3b44e0"
      },
      "outputs": [
        {
          "output_type": "stream",
          "name": "stdout",
          "text": [
            "CPU times: user 2min 50s, sys: 831 ms, total: 2min 51s\n",
            "Wall time: 2min 50s\n"
          ]
        }
      ],
      "source": [
        "%%time\n",
        "from gensim.models import LdaModel\n",
        "\n",
        "model = LdaModel(\n",
        "    corpus=corpus,\n",
        "    id2word=id2word,\n",
        "    chunksize=100,\n",
        "    random_state=42,\n",
        "    alpha='auto',\n",
        "    eta='auto',\n",
        "    num_topics=5,\n",
        "    passes=10,\n",
        "    per_word_topics=True\n",
        ")"
      ]
    },
    {
      "cell_type": "code",
      "execution_count": 89,
      "metadata": {
        "colab": {
          "base_uri": "https://localhost:8080/",
          "height": 952
        },
        "id": "B9QenNGH7AMt",
        "outputId": "b7fc57a5-b2d1-43ca-af37-d77fde3cc720"
      },
      "outputs": [
        {
          "output_type": "stream",
          "name": "stderr",
          "text": [
            "/usr/local/lib/python3.7/dist-packages/smart_open/smart_open_lib.py:496: DeprecationWarning: This function is deprecated.  See https://github.com/RaRe-Technologies/smart_open/blob/develop/MIGRATING_FROM_OLDER_VERSIONS.rst for more information\n",
            "  warnings.warn(message, category=DeprecationWarning)\n",
            "/usr/local/lib/python3.7/dist-packages/smart_open/smart_open_lib.py:496: DeprecationWarning: This function is deprecated.  See https://github.com/RaRe-Technologies/smart_open/blob/develop/MIGRATING_FROM_OLDER_VERSIONS.rst for more information\n",
            "  warnings.warn(message, category=DeprecationWarning)\n"
          ]
        },
        {
          "output_type": "execute_result",
          "data": {
            "text/plain": [
              "<IPython.core.display.HTML object>"
            ],
            "text/html": [
              "\n",
              "<link rel=\"stylesheet\" type=\"text/css\" href=\"https://cdn.jsdelivr.net/gh/bmabey/pyLDAvis@3.3.1/pyLDAvis/js/ldavis.v1.0.0.css\">\n",
              "\n",
              "\n",
              "<div id=\"ldavis_el179140593964604240230855631\"></div>\n",
              "<script type=\"text/javascript\">\n",
              "\n",
              "var ldavis_el179140593964604240230855631_data = {\"mdsDat\": {\"x\": [0.11667508136929082, 0.2544909900090954, -0.28476295288628195, 0.19027333554378828, -0.27667645403589247], \"y\": [0.21176946861998341, 0.18949113033302917, 0.0006602635450173368, -0.39393106044009557, -0.007989802057934295], \"topics\": [1, 2, 3, 4, 5], \"cluster\": [1, 1, 1, 1, 1], \"Freq\": [10.05553521866198, 5.709442481238469, 44.543609142426526, 10.787914778970785, 28.903498378702235]}, \"tinfo\": {\"Term\": [\"time\", \"pizza\", \"service\", \"order\", \"food\", \"table\", \"place\", \"water\", \"day\", \"chicken\", \"minute\", \"cheese\", \"meal\", \"price\", \"people\", \"wife\", \"coffee\", \"sauce\", \"sandwich\", \"server\", \"menu\", \"drink\", \"card\", \"roll\", \"experience\", \"customer\", \"salad\", \"room\", \"line\", \"reservation\", \"pizza\", \"day\", \"cheese\", \"sandwich\", \"room\", \"entree\", \"phone\", \"option\", \"call\", \"store\", \"half\", \"issue\", \"crust\", \"lettuce\", \"case\", \"lady\", \"life\", \"street\", \"bathroom\", \"parking\", \"driver\", \"use\", \"hotel\", \"style\", \"refund\", \"car\", \"show\", \"sub\", \"dog\", \"situation\", \"number\", \"week\", \"roll\", \"card\", \"lobster\", \"cash\", \"game\", \"credit\", \"veggie\", \"mess\", \"buffet\", \"chocolate\", \"cake\", \"gift\", \"folk\", \"morning\", \"joke\", \"par\", \"metal\", \"stomach\", \"tuna\", \"chewy\", \"curry\", \"state\", \"self\", \"fruit\", \"dozen\", \"difference\", \"ton\", \"scallop\", \"touch\", \"school\", \"impression\", \"time\", \"service\", \"order\", \"table\", \"minute\", \"people\", \"server\", \"drink\", \"experience\", \"customer\", \"staff\", \"friend\", \"bar\", \"hour\", \"night\", \"manager\", \"waitress\", \"location\", \"beer\", \"waiter\", \"wait\", \"check\", \"guy\", \"point\", \"business\", \"person\", \"bill\", \"times\", \"today\", \"family\", \"year\", \"food\", \"restaurant\", \"place\", \"way\", \"money\", \"star\", \"dinner\", \"water\", \"wife\", \"coffee\", \"line\", \"reservation\", \"egg\", \"glass\", \"dining\", \"course\", \"breakfast\", \"end\", \"dessert\", \"tea\", \"kitchen\", \"music\", \"bean\", \"ice\", \"cream\", \"bowl\", \"raman\", \"drive\", \"bottle\", \"list\", \"shop\", \"level\", \"host\", \"space\", \"toast\", \"duck\", \"crab\", \"look\", \"spot\", \"chicken\", \"meal\", \"price\", \"sauce\", \"menu\", \"salad\", \"dish\", \"quality\", \"lunch\", \"side\", \"flavor\", \"meat\", \"taste\", \"plate\", \"burger\", \"fry\", \"bread\", \"item\", \"piece\", \"rice\", \"portion\", \"tip\", \"fish\", \"pork\", \"soup\", \"potato\", \"love\", \"beef\", \"steak\", \"wing\", \"bit\", \"place\", \"thing\", \"food\", \"lot\", \"restaurant\"], \"Freq\": [15915.0, 5217.0, 14746.0, 13408.0, 30811.0, 10097.0, 19534.0, 3338.0, 3205.0, 5620.0, 8607.0, 2832.0, 5102.0, 4796.0, 6740.0, 2265.0, 2261.0, 4009.0, 2151.0, 6003.0, 3887.0, 5820.0, 1576.0, 1574.0, 5551.0, 5366.0, 3428.0, 1839.0, 1874.0, 1856.0, 5217.464282054251, 3205.03703415588, 2832.773978008514, 2151.632475676534, 1839.3470369108743, 1634.7425151878135, 1582.9109214665377, 1548.2527040538423, 1199.0203081257398, 1090.2514811300557, 1093.3898907457349, 1034.6602108254956, 941.0071250500998, 781.4961383577335, 748.8455387774637, 740.9703149136847, 718.7504607368887, 679.1772512615661, 633.4233776118695, 629.8929352386439, 602.1887790148566, 607.7265621165972, 588.0061852135735, 572.0387651240015, 512.0028173691102, 519.087013482042, 512.3780160640866, 500.9045979209358, 502.9807643332506, 503.43223587962456, 568.4920082580383, 606.2166921836186, 1574.2853741954725, 1576.3490077148292, 887.1998054214027, 809.2870198108421, 792.2784850040218, 736.827302386514, 703.7169665310353, 679.2906163915227, 666.750534143904, 551.6523815592815, 550.3634366295049, 535.1189654868373, 486.5374357148732, 474.2576283795293, 418.1859475390905, 411.9300667550755, 373.57607840521126, 390.8370999374195, 375.9408158165829, 374.25931480028646, 345.3562912376361, 321.1290315422038, 306.32565498412873, 306.5416788345463, 289.7288517239664, 288.0955351972478, 287.63040736928207, 266.7764749542094, 252.246215949917, 254.01879548508492, 252.60604591780117, 15915.680011887838, 14746.406480839532, 13408.266471396348, 10097.422808772026, 8606.82375126685, 6740.69014187847, 6002.9541850297965, 5820.1475590588525, 5551.717628899054, 5366.356567397287, 5118.218810408519, 5090.553328431737, 4773.50319791617, 4703.149121106838, 4272.162696139951, 4165.677350113472, 4099.220904932801, 2867.312148217258, 2618.2061975596107, 2364.233500976529, 2330.087412375539, 2127.3800335266415, 2109.8970029372013, 2050.081660510319, 1995.1364396444844, 1959.5753459698972, 1875.0718321765223, 1821.7205250717511, 1820.5467245064704, 1713.226368979827, 2560.929639989348, 23855.337003166656, 8087.295631686056, 9651.843204176024, 3069.665238764818, 2451.5898871764743, 2262.525293093769, 2134.07315175646, 3338.662176339283, 2265.7291283958953, 2261.0789752933106, 1874.374686976181, 1856.7282151094269, 1612.5071804638353, 1529.448049567261, 1383.0742094199834, 1271.7349711671816, 1232.7712098929217, 1173.2186594143193, 1097.6784205860417, 1066.0094717930003, 972.0501138716793, 948.4831843244513, 907.6075002052229, 904.2176925877685, 881.3887020853488, 733.6011166958169, 717.142229479782, 705.089423272148, 679.7902804791404, 672.435341833429, 646.6864047913349, 577.3834937329199, 569.0388516638839, 571.1321191829718, 554.164983789082, 550.7439239439772, 558.4864125090312, 557.8628915485701, 568.5174857257904, 5619.869455003006, 5102.14315270169, 4796.4338272317445, 4008.8197649818626, 3887.681885220448, 3428.0167304544802, 3289.2830852017387, 3046.2655814763943, 3019.593455583776, 2890.8670845972274, 2843.1294233531985, 2823.7516796421937, 2832.076538668911, 2756.5287466685404, 2647.532174090995, 2583.5303026528786, 2175.881229516235, 2072.6569202789556, 2011.4587423633634, 1955.4523756134517, 1887.4484706230837, 1782.4686669188598, 1739.3461480591739, 1690.6698070377884, 1655.3645751317433, 1514.8728467745725, 1507.8905945358963, 1494.3880622866873, 1486.3029509162993, 1478.663782134242, 2036.2001429438797, 9881.918898589664, 3445.7568622671015, 6955.883182495229, 2009.1998574685113, 3366.2677701324033], \"Total\": [15915.0, 5217.0, 14746.0, 13408.0, 30811.0, 10097.0, 19534.0, 3338.0, 3205.0, 5620.0, 8607.0, 2832.0, 5102.0, 4796.0, 6740.0, 2265.0, 2261.0, 4009.0, 2151.0, 6003.0, 3887.0, 5820.0, 1576.0, 1574.0, 5551.0, 5366.0, 3428.0, 1839.0, 1874.0, 1856.0, 5217.650843413404, 3205.2209037306516, 2832.95641219808, 2151.813226711277, 1839.5270905127752, 1634.9186397136748, 1583.0883986484275, 1548.4307369748399, 1199.1961389606015, 1090.4268240389576, 1093.5657385442696, 1034.8357725279757, 941.1791880187164, 781.6688970443053, 749.0175900803736, 741.1438719857714, 718.9225416861165, 679.3505907969793, 633.596032943253, 630.0666090510488, 602.3591262553895, 607.8989379146647, 588.1791301947757, 572.2101139235745, 512.1716714856894, 519.2586853635235, 512.5477674544142, 501.07315635447867, 503.15029605864737, 503.60255707701646, 698.1555914561729, 1534.63265357576, 1574.4610069214527, 1576.5250655404782, 887.3708731207589, 809.4561549208619, 792.4498278601983, 736.9986429298611, 703.8872395208316, 679.4599909176078, 666.9190522034837, 551.8205135879866, 550.5321965542959, 535.2854732195736, 486.7044435316798, 474.42676001751516, 418.3524107539106, 412.09467152878534, 373.73299862990365, 391.0037749374995, 376.10564138979186, 374.42591986535655, 345.52000623869804, 321.29237358993663, 306.4872545638578, 306.7048343521955, 289.8917698894986, 288.26006243570924, 287.79592701120174, 266.9382758327376, 252.40816504606647, 254.1823773579791, 252.77026314179244, 15915.878478722885, 14746.60452286255, 13408.463178016653, 10097.6171378608, 8607.017032342788, 6740.880770766803, 6003.144313402116, 5820.337136426543, 5551.907143954433, 5366.545936793764, 5118.4067776814445, 5090.741640520188, 4773.691965938675, 4703.337401172543, 4272.350487117657, 4165.864922714716, 4099.408366075727, 2867.4968653360816, 2618.3887955973933, 2364.415876583381, 2330.269626873949, 2127.561879612604, 2110.078815210114, 2050.262893482909, 1995.3178985714896, 1959.7560845847877, 1875.252751163516, 1821.900133574423, 1820.7271600753422, 1713.4055490506194, 2575.5576450573267, 30811.757801014675, 11454.027526633115, 19534.274470123186, 4138.826205746036, 2907.1181183495682, 3665.197775441371, 3813.2979866695273, 3338.8439830286475, 2265.9053807711684, 2261.2585013074467, 1874.553102099242, 1856.9055887392117, 1612.684902787525, 1529.6247585012195, 1383.2493184781986, 1271.9091450987708, 1232.9468467760705, 1173.3940746767248, 1097.8521395972775, 1066.1850316696787, 972.2227952456868, 948.6570715885183, 907.7806960590015, 904.3914635976231, 881.5621203682605, 733.7725515867467, 717.3123650170295, 705.2598535487035, 679.9603442215471, 672.6063005851987, 646.8559576968554, 577.5524836813665, 569.2081329485186, 571.3023582176831, 554.3315734576422, 550.9103478291364, 558.6562736825772, 558.0333354862908, 966.9946701666493, 5620.0585431709205, 5102.331464356455, 4796.621465739875, 4009.0057709680614, 3887.868438541328, 3428.2015100036547, 3289.4683321206344, 3046.449690374562, 3019.777660130148, 2891.0512038872826, 2843.3134986762657, 2823.934959294154, 2832.260634047172, 2756.712562452646, 2647.7161330965223, 2583.713703367758, 2176.063248359443, 2072.8374008818732, 2011.6399545972922, 1955.6335466628616, 1887.6294995167466, 1782.6484816297157, 1739.5272757973712, 1690.8490458438039, 1655.5449793403404, 1515.0520827026476, 1508.0697289506875, 1494.5665291609612, 1486.482724497382, 1478.8431831054827, 2046.1135964409148, 19534.274470123186, 5081.6779469789535, 30811.757801014675, 2678.0252317144345, 11454.027526633115], \"Category\": [\"Default\", \"Default\", \"Default\", \"Default\", \"Default\", \"Default\", \"Default\", \"Default\", \"Default\", \"Default\", \"Default\", \"Default\", \"Default\", \"Default\", \"Default\", \"Default\", \"Default\", \"Default\", \"Default\", \"Default\", \"Default\", \"Default\", \"Default\", \"Default\", \"Default\", \"Default\", \"Default\", \"Default\", \"Default\", \"Default\", \"Topic1\", \"Topic1\", \"Topic1\", \"Topic1\", \"Topic1\", \"Topic1\", \"Topic1\", \"Topic1\", \"Topic1\", \"Topic1\", \"Topic1\", \"Topic1\", \"Topic1\", \"Topic1\", \"Topic1\", \"Topic1\", \"Topic1\", \"Topic1\", \"Topic1\", \"Topic1\", \"Topic1\", \"Topic1\", \"Topic1\", \"Topic1\", \"Topic1\", \"Topic1\", \"Topic1\", \"Topic1\", \"Topic1\", \"Topic1\", \"Topic1\", \"Topic1\", \"Topic2\", \"Topic2\", \"Topic2\", \"Topic2\", \"Topic2\", \"Topic2\", \"Topic2\", \"Topic2\", \"Topic2\", \"Topic2\", \"Topic2\", \"Topic2\", \"Topic2\", \"Topic2\", \"Topic2\", \"Topic2\", \"Topic2\", \"Topic2\", \"Topic2\", \"Topic2\", \"Topic2\", \"Topic2\", \"Topic2\", \"Topic2\", \"Topic2\", \"Topic2\", \"Topic2\", \"Topic2\", \"Topic2\", \"Topic2\", \"Topic2\", \"Topic3\", \"Topic3\", \"Topic3\", \"Topic3\", \"Topic3\", \"Topic3\", \"Topic3\", \"Topic3\", \"Topic3\", \"Topic3\", \"Topic3\", \"Topic3\", \"Topic3\", \"Topic3\", \"Topic3\", \"Topic3\", \"Topic3\", \"Topic3\", \"Topic3\", \"Topic3\", \"Topic3\", \"Topic3\", \"Topic3\", \"Topic3\", \"Topic3\", \"Topic3\", \"Topic3\", \"Topic3\", \"Topic3\", \"Topic3\", \"Topic3\", \"Topic3\", \"Topic3\", \"Topic3\", \"Topic3\", \"Topic3\", \"Topic3\", \"Topic3\", \"Topic4\", \"Topic4\", \"Topic4\", \"Topic4\", \"Topic4\", \"Topic4\", \"Topic4\", \"Topic4\", \"Topic4\", \"Topic4\", \"Topic4\", \"Topic4\", \"Topic4\", \"Topic4\", \"Topic4\", \"Topic4\", \"Topic4\", \"Topic4\", \"Topic4\", \"Topic4\", \"Topic4\", \"Topic4\", \"Topic4\", \"Topic4\", \"Topic4\", \"Topic4\", \"Topic4\", \"Topic4\", \"Topic4\", \"Topic4\", \"Topic4\", \"Topic4\", \"Topic5\", \"Topic5\", \"Topic5\", \"Topic5\", \"Topic5\", \"Topic5\", \"Topic5\", \"Topic5\", \"Topic5\", \"Topic5\", \"Topic5\", \"Topic5\", \"Topic5\", \"Topic5\", \"Topic5\", \"Topic5\", \"Topic5\", \"Topic5\", \"Topic5\", \"Topic5\", \"Topic5\", \"Topic5\", \"Topic5\", \"Topic5\", \"Topic5\", \"Topic5\", \"Topic5\", \"Topic5\", \"Topic5\", \"Topic5\", \"Topic5\", \"Topic5\", \"Topic5\", \"Topic5\", \"Topic5\", \"Topic5\"], \"logprob\": [30.0, 29.0, 28.0, 27.0, 26.0, 25.0, 24.0, 23.0, 22.0, 21.0, 20.0, 19.0, 18.0, 17.0, 16.0, 15.0, 14.0, 13.0, 12.0, 11.0, 10.0, 9.0, 8.0, 7.0, 6.0, 5.0, 4.0, 3.0, 2.0, 1.0, -2.6572, -3.1445, -3.268, -3.543, -3.6998, -3.8178, -3.85, -3.8721, -4.1277, -4.2228, -4.22, -4.2752, -4.3701, -4.5558, -4.5985, -4.609, -4.6395, -4.6961, -4.7659, -4.7715, -4.8164, -4.8073, -4.8403, -4.8678, -4.9787, -4.9649, -4.9779, -5.0006, -4.9965, -4.9956, -4.874, -4.8098, -3.2894, -3.2881, -3.8629, -3.9548, -3.9761, -4.0486, -4.0946, -4.13, -4.1486, -4.3381, -4.3404, -4.3685, -4.4637, -4.4893, -4.6151, -4.6301, -4.7279, -4.6827, -4.7216, -4.7261, -4.8064, -4.8792, -4.9264, -4.9256, -4.9821, -4.9877, -4.9893, -5.0646, -5.1206, -5.1136, -5.1192, -3.0303, -3.1066, -3.2017, -3.4853, -3.645, -3.8894, -4.0053, -4.0363, -4.0835, -4.1174, -4.1648, -4.1702, -4.2345, -4.2494, -4.3455, -4.3707, -4.3868, -4.7442, -4.8351, -4.9371, -4.9517, -5.0427, -5.051, -5.0797, -5.1069, -5.1249, -5.1689, -5.1978, -5.1985, -5.2592, -4.8572, -2.6256, -3.7073, -3.5304, -4.676, -4.9009, -4.9811, -5.0396, -3.174, -3.5617, -3.5637, -3.7513, -3.7607, -3.9018, -3.9546, -4.0552, -4.1392, -4.1703, -4.2198, -4.2864, -4.3156, -4.4079, -4.4324, -4.4765, -4.4802, -4.5058, -4.6893, -4.712, -4.729, -4.7655, -4.7764, -4.8154, -4.9288, -4.9434, -4.9397, -4.9698, -4.976, -4.9621, -4.9632, -4.9443, -3.6388, -3.7354, -3.7972, -3.9766, -4.0073, -4.1331, -4.1744, -4.2512, -4.26, -4.3035, -4.3202, -4.327, -4.3241, -4.3511, -4.3915, -4.4159, -4.5877, -4.6363, -4.6662, -4.6945, -4.7299, -4.7871, -4.8116, -4.84, -4.8611, -4.9498, -4.9544, -4.9634, -4.9688, -4.9739, -4.654, -3.0744, -4.1279, -3.4255, -4.6674, -4.1513], \"loglift\": [30.0, 29.0, 28.0, 27.0, 26.0, 25.0, 24.0, 23.0, 22.0, 21.0, 20.0, 19.0, 18.0, 17.0, 16.0, 15.0, 14.0, 13.0, 12.0, 11.0, 10.0, 9.0, 8.0, 7.0, 6.0, 5.0, 4.0, 3.0, 2.0, 1.0, 2.297, 2.297, 2.297, 2.297, 2.2969, 2.2969, 2.2969, 2.2969, 2.2969, 2.2969, 2.2969, 2.2969, 2.2969, 2.2968, 2.2968, 2.2968, 2.2968, 2.2968, 2.2968, 2.2968, 2.2968, 2.2968, 2.2968, 2.2967, 2.2967, 2.2967, 2.2967, 2.2967, 2.2967, 2.2967, 2.0916, 1.3682, 2.8629, 2.8629, 2.8629, 2.8628, 2.8628, 2.8628, 2.8628, 2.8628, 2.8628, 2.8627, 2.8627, 2.8627, 2.8627, 2.8627, 2.8627, 2.8626, 2.8626, 2.8626, 2.8626, 2.8626, 2.8626, 2.8625, 2.8625, 2.8625, 2.8625, 2.8625, 2.8625, 2.8624, 2.8624, 2.8624, 2.8624, 0.8087, 0.8087, 0.8087, 0.8087, 0.8087, 0.8087, 0.8087, 0.8087, 0.8087, 0.8087, 0.8087, 0.8087, 0.8087, 0.8087, 0.8087, 0.8087, 0.8087, 0.8086, 0.8086, 0.8086, 0.8086, 0.8086, 0.8086, 0.8086, 0.8086, 0.8086, 0.8086, 0.8086, 0.8086, 0.8086, 0.803, 0.5528, 0.4607, 0.1037, 0.5099, 0.6383, 0.3263, 0.2282, 2.2267, 2.2267, 2.2267, 2.2266, 2.2266, 2.2266, 2.2266, 2.2266, 2.2266, 2.2266, 2.2266, 2.2266, 2.2266, 2.2266, 2.2266, 2.2266, 2.2266, 2.2265, 2.2265, 2.2265, 2.2265, 2.2265, 2.2265, 2.2265, 2.2265, 2.2264, 2.2264, 2.2264, 2.2264, 2.2264, 2.2264, 1.6956, 1.2412, 1.2412, 1.2412, 1.2412, 1.2412, 1.2412, 1.2412, 1.2411, 1.2411, 1.2411, 1.2411, 1.2411, 1.2411, 1.2411, 1.2411, 1.2411, 1.2411, 1.2411, 1.2411, 1.2411, 1.2411, 1.2411, 1.2411, 1.2411, 1.2411, 1.2411, 1.2411, 1.2411, 1.2411, 1.2411, 1.2364, 0.5597, 0.8527, -0.2471, 0.9539, 0.0167]}, \"token.table\": {\"Topic\": [3, 1, 4, 5, 3, 3, 4, 5, 4, 4, 5, 4, 2, 5, 3, 2, 1, 1, 2, 1, 2, 3, 1, 2, 5, 2, 4, 4, 4, 4, 2, 1, 2, 3, 1, 4, 2, 4, 3, 5, 5, 1, 2, 3, 4, 1, 4, 4, 4, 1, 3, 3, 5, 5, 2, 3, 5, 3, 2, 5, 2, 2, 4, 3, 1, 4, 1, 3, 4, 2, 1, 5, 2, 4, 1, 1, 4, 1, 4, 4, 2, 3, 4, 1, 3, 5, 5, 5, 3, 5, 5, 5, 2, 2, 3, 1, 3, 5, 2, 4, 3, 1, 3, 1, 3, 2, 1, 3, 3, 1, 5, 1, 3, 5, 5, 3, 5, 5, 5, 5, 5, 4, 1, 4, 3, 5, 5, 2, 1, 5, 1, 5, 2, 2, 2, 3, 3, 4, 1, 5, 1, 5, 4, 3, 4, 5, 3, 3, 5, 2, 5, 2, 1, 1, 1, 1, 3, 5, 4, 3, 5, 3, 3, 5, 4, 3, 2, 2, 2, 1, 2, 3, 3, 3, 4, 3, 5, 1, 3, 5, 4, 5, 3, 5], \"Freq\": [1.0000645274273086, 0.9990592855506303, 1.0002415825121096, 0.9996209408213637, 0.9998515134199906, 0.9998652175482162, 0.00488731418304163, 0.9950571676672758, 1.0000583207223626, 1.0003099712748338, 0.9999709345031718, 1.0000431107180885, 1.0001213757445508, 1.0001072119854275, 0.9998406777327477, 0.9990333053041642, 0.9998364413007771, 0.9995018179361943, 0.9996669475468833, 0.9999765157980179, 0.999436467413227, 0.9997359044557114, 1.000015385976901, 0.9988624722735282, 0.9999895831741838, 1.0003252623046692, 0.99988568254921, 1.000071431911296, 0.9988252639172006, 0.9993623587546778, 1.0000018413468625, 0.9998096132798117, 0.9984950039670386, 0.9998982703585894, 0.9999310800293376, 1.0001346815271288, 0.9990978200951189, 0.9998197588280955, 0.5596205718671886, 0.4403012840510824, 0.999857626803681, 0.9997012899329988, 1.000373346613264, 0.9999420761343131, 0.9996315492121153, 0.999403800424471, 1.0001627345923285, 1.0001953867193338, 0.9996641582864364, 1.0000497641193566, 1.0000167250717924, 0.9997633081958652, 0.9996968855822456, 0.9998897417831655, 1.0006072606737995, 0.7742174319965095, 0.2257579734633293, 1.0000507508528336, 1.0009623769003444, 1.0001108081874044, 0.9994323579305797, 0.9994666897686264, 0.9995915609382319, 0.9999626482150591, 0.9994826661769574, 0.9996343464956474, 0.9996954495908137, 0.99992826345555, 0.9995671524849805, 1.0009088761286713, 1.0001586990674116, 1.000078442775134, 0.9991576222704788, 0.9997708393109312, 0.9998058784654241, 0.9991442706153021, 0.9990434052367935, 1.0001077422244988, 0.9997049418879504, 0.9990985802769448, 0.9995820539844241, 0.9998267250639092, 0.9999402625539177, 0.1837174624695483, 0.06572006787528557, 0.7501796384173222, 0.9999537627807595, 1.0000736278941287, 1.0000324247875987, 0.9999350366869006, 1.0000230319418768, 1.0000338389687695, 0.9993230051456208, 1.0007144174345728, 0.9999980211096685, 0.0024078828981238805, 0.8434469808856792, 0.15410450547992835, 0.9991004722889169, 0.9993073665835663, 0.9999179638658593, 0.8135722279546571, 0.18477256585589924, 0.9997218235439569, 0.9999654562934989, 0.9997702675250953, 0.9998942825249079, 1.0000176874858422, 1.0001244621293084, 0.9999441606365741, 0.9996818741863673, 0.9998752612175601, 0.4941058862852731, 0.5058800630202102, 1.000104268232847, 0.9998717757202041, 1.0000892771336194, 0.9996665132024544, 0.9999656231602582, 0.9998704367763198, 0.9998523887080811, 0.9995645341802771, 0.9996648165151512, 1.0000508433284712, 0.7060398607560493, 0.2938704304816201, 0.9996760401947785, 0.9997071969903185, 0.9997134641204831, 0.9999412199069785, 1.0000867980949297, 0.9999985604989389, 1.0002312301114176, 0.9992824940899728, 0.9984101963243099, 0.9999759603643389, 0.9999590059622463, 1.0002226806469519, 0.9989312850641519, 0.9999822888341743, 0.9988035067166581, 0.9996708157451828, 0.9994707562233308, 0.22233835059602497, 0.5884210301820382, 0.18924613097243057, 0.9999205265038296, 0.617429164440515, 0.38251687518586036, 0.999090007687796, 0.999675257243541, 0.9999903455215999, 0.9996085715890805, 0.9994839324470625, 0.9996328028490553, 0.9998540006513003, 0.999938882822316, 0.9999079766727543, 0.9998264544481656, 0.3217441201625152, 0.678122469773717, 1.0000076352227292, 1.0000548144345218, 0.9996362257414189, 0.9994018499513314, 1.0001498521748016, 1.0007090892178967, 0.9983829166303239, 0.9997191177739279, 1.0001662481689506, 1.0001601967940847, 0.9998842937011067, 0.9998241102221062, 0.999900384143452, 1.0000467278411767, 0.741756200281578, 0.2582857909123801, 0.39488277444637576, 0.4887163050078908, 0.11598866972187276, 1.0000417578022607, 1.0001060402457196, 0.994347769662518, 0.005435716038764253], \"Term\": [\"bar\", \"bathroom\", \"bean\", \"beef\", \"beer\", \"bill\", \"bit\", \"bit\", \"bottle\", \"bowl\", \"bread\", \"breakfast\", \"buffet\", \"burger\", \"business\", \"cake\", \"call\", \"car\", \"card\", \"case\", \"cash\", \"check\", \"cheese\", \"chewy\", \"chicken\", \"chocolate\", \"coffee\", \"course\", \"crab\", \"cream\", \"credit\", \"crust\", \"curry\", \"customer\", \"day\", \"dessert\", \"difference\", \"dining\", \"dinner\", \"dinner\", \"dish\", \"dog\", \"dozen\", \"drink\", \"drive\", \"driver\", \"duck\", \"egg\", \"end\", \"entree\", \"experience\", \"family\", \"fish\", \"flavor\", \"folk\", \"food\", \"food\", \"friend\", \"fruit\", \"fry\", \"game\", \"gift\", \"glass\", \"guy\", \"half\", \"host\", \"hotel\", \"hour\", \"ice\", \"impression\", \"issue\", \"item\", \"joke\", \"kitchen\", \"lady\", \"lettuce\", \"level\", \"life\", \"line\", \"list\", \"lobster\", \"location\", \"look\", \"lot\", \"lot\", \"lot\", \"love\", \"lunch\", \"manager\", \"meal\", \"meat\", \"menu\", \"mess\", \"metal\", \"minute\", \"money\", \"money\", \"money\", \"morning\", \"music\", \"night\", \"number\", \"number\", \"option\", \"order\", \"par\", \"parking\", \"people\", \"person\", \"phone\", \"piece\", \"pizza\", \"place\", \"place\", \"plate\", \"point\", \"pork\", \"portion\", \"potato\", \"price\", \"quality\", \"raman\", \"refund\", \"reservation\", \"restaurant\", \"restaurant\", \"rice\", \"roll\", \"room\", \"salad\", \"sandwich\", \"sauce\", \"scallop\", \"school\", \"self\", \"server\", \"service\", \"shop\", \"show\", \"side\", \"situation\", \"soup\", \"space\", \"spot\", \"spot\", \"spot\", \"staff\", \"star\", \"star\", \"state\", \"steak\", \"stomach\", \"store\", \"street\", \"style\", \"sub\", \"table\", \"taste\", \"tea\", \"thing\", \"thing\", \"time\", \"times\", \"tip\", \"toast\", \"today\", \"ton\", \"touch\", \"tuna\", \"use\", \"veggie\", \"wait\", \"waiter\", \"waitress\", \"water\", \"way\", \"way\", \"week\", \"week\", \"week\", \"wife\", \"wing\", \"year\", \"year\"]}, \"R\": 30, \"lambda.step\": 0.01, \"plot.opts\": {\"xlab\": \"PC1\", \"ylab\": \"PC2\"}, \"topic.order\": [1, 2, 3, 4, 5]};\n",
              "\n",
              "function LDAvis_load_lib(url, callback){\n",
              "  var s = document.createElement('script');\n",
              "  s.src = url;\n",
              "  s.async = true;\n",
              "  s.onreadystatechange = s.onload = callback;\n",
              "  s.onerror = function(){console.warn(\"failed to load library \" + url);};\n",
              "  document.getElementsByTagName(\"head\")[0].appendChild(s);\n",
              "}\n",
              "\n",
              "if(typeof(LDAvis) !== \"undefined\"){\n",
              "   // already loaded: just create the visualization\n",
              "   !function(LDAvis){\n",
              "       new LDAvis(\"#\" + \"ldavis_el179140593964604240230855631\", ldavis_el179140593964604240230855631_data);\n",
              "   }(LDAvis);\n",
              "}else if(typeof define === \"function\" && define.amd){\n",
              "   // require.js is available: use it to load d3/LDAvis\n",
              "   require.config({paths: {d3: \"https://d3js.org/d3.v5\"}});\n",
              "   require([\"d3\"], function(d3){\n",
              "      window.d3 = d3;\n",
              "      LDAvis_load_lib(\"https://cdn.jsdelivr.net/gh/bmabey/pyLDAvis@3.3.1/pyLDAvis/js/ldavis.v3.0.0.js\", function(){\n",
              "        new LDAvis(\"#\" + \"ldavis_el179140593964604240230855631\", ldavis_el179140593964604240230855631_data);\n",
              "      });\n",
              "    });\n",
              "}else{\n",
              "    // require.js not available: dynamically load d3 & LDAvis\n",
              "    LDAvis_load_lib(\"https://d3js.org/d3.v5.js\", function(){\n",
              "         LDAvis_load_lib(\"https://cdn.jsdelivr.net/gh/bmabey/pyLDAvis@3.3.1/pyLDAvis/js/ldavis.v3.0.0.js\", function(){\n",
              "                 new LDAvis(\"#\" + \"ldavis_el179140593964604240230855631\", ldavis_el179140593964604240230855631_data);\n",
              "            })\n",
              "         });\n",
              "}\n",
              "</script>"
            ]
          },
          "metadata": {},
          "execution_count": 89
        }
      ],
      "source": [
        "# Visualize the topics\n",
        "#!pip install pyLDAvis\n",
        "import pyLDAvis\n",
        "import pyLDAvis.gensim_models\n",
        "pyLDAvis.enable_notebook()\n",
        "vis = pyLDAvis.gensim_models.prepare(model, corpus, dictionary=id2word, sort_topics = False)\n",
        "pyLDAvis.display(vis)"
      ]
    },
    {
      "cell_type": "code",
      "source": [
        ""
      ],
      "metadata": {
        "id": "Lt7VW7-BIG80"
      },
      "execution_count": null,
      "outputs": []
    }
  ],
  "metadata": {
    "colab": {
      "collapsed_sections": [],
      "name": "P06_NLP.ipynb",
      "provenance": [],
      "machine_shape": "hm"
    },
    "kernelspec": {
      "display_name": "Python 3 (ipykernel)",
      "language": "python",
      "name": "python3"
    },
    "language_info": {
      "codemirror_mode": {
        "name": "ipython",
        "version": 3
      },
      "file_extension": ".py",
      "mimetype": "text/x-python",
      "name": "python",
      "nbconvert_exporter": "python",
      "pygments_lexer": "ipython3",
      "version": "3.9.10"
    },
    "accelerator": "TPU"
  },
  "nbformat": 4,
  "nbformat_minor": 0
}